{
 "cells": [
  {
   "cell_type": "code",
   "execution_count": 1,
   "id": "cb935866",
   "metadata": {},
   "outputs": [],
   "source": [
    "\n",
    "import numpy as np \n",
    "import pandas as pd \n",
    "import seaborn as sns \n",
    "import matplotlib.pyplot as plt \n"
   ]
  },
  {
   "cell_type": "markdown",
   "id": "a8c6530c",
   "metadata": {},
   "source": [
    "\n",
    "<br>\n",
    "<br>\n",
    "\n",
    "# `#01: Bisection Method:`\n",
    "\n",
    "<br>\n",
    "<br>"
   ]
  },
  {
   "cell_type": "code",
   "execution_count": 42,
   "id": "42702e0a",
   "metadata": {},
   "outputs": [
    {
     "data": {
      "text/plain": [
       "1.4142136573791504"
      ]
     },
     "execution_count": 42,
     "metadata": {},
     "output_type": "execute_result"
    }
   ],
   "source": [
    "\n",
    "\n",
    "df = pd.DataFrame(columns=[\"a\",\"b\",\"fn(a)\",\"fn(b)\",\"c=(a+b)/2\",\"f(c)\"])\n",
    "\n",
    "def fn(x):\n",
    "    #return 3*x - np.cos(x) - 1 \n",
    "    return x**2 -2 \n",
    "\n",
    "def bisection(a,b,i,tol=1e-6):\n",
    "    if (fn(a)*fn(b)) >= 0:\n",
    "        print(\"choose the another value of a,b\")\n",
    "        return \n",
    "    \n",
    "    c = (a+b)/2 \n",
    "    \n",
    "    #val:\n",
    "    val = {\"a\":a,\"b\":b,\"fn(a)\":fn(a),\"fn(b)\":fn(b),\"c=(a+b)/2\":c,\"f(c)\":fn(c)}\n",
    "    df.loc[i] = val \n",
    "    \n",
    "    if (a==b) or abs(a-b)<tol or abs(c)<tol:\n",
    "        return c\n",
    "    elif fn(a)*fn(c)<=0:\n",
    "        return bisection(a=a,b=c,i=i+1)\n",
    "    else:\n",
    "        return bisection(a=c,b=b,i=i+1)\n",
    "    \n",
    "a = 1\n",
    "b = 2\n",
    "i = 1\n",
    "ans = bisection(a,b,i)\n",
    "ans "
   ]
  },
  {
   "cell_type": "code",
   "execution_count": 43,
   "id": "f3945077",
   "metadata": {},
   "outputs": [
    {
     "data": {
      "text/html": [
       "<div>\n",
       "<style scoped>\n",
       "    .dataframe tbody tr th:only-of-type {\n",
       "        vertical-align: middle;\n",
       "    }\n",
       "\n",
       "    .dataframe tbody tr th {\n",
       "        vertical-align: top;\n",
       "    }\n",
       "\n",
       "    .dataframe thead th {\n",
       "        text-align: right;\n",
       "    }\n",
       "</style>\n",
       "<table border=\"1\" class=\"dataframe\">\n",
       "  <thead>\n",
       "    <tr style=\"text-align: right;\">\n",
       "      <th></th>\n",
       "      <th>a</th>\n",
       "      <th>b</th>\n",
       "      <th>fn(a)</th>\n",
       "      <th>fn(b)</th>\n",
       "      <th>c=(a+b)/2</th>\n",
       "      <th>f(c)</th>\n",
       "    </tr>\n",
       "  </thead>\n",
       "  <tbody>\n",
       "    <tr>\n",
       "      <th>1</th>\n",
       "      <td>1.000000</td>\n",
       "      <td>2.000000</td>\n",
       "      <td>-1.000000</td>\n",
       "      <td>2.000000</td>\n",
       "      <td>1.500000</td>\n",
       "      <td>2.500000e-01</td>\n",
       "    </tr>\n",
       "    <tr>\n",
       "      <th>2</th>\n",
       "      <td>1.000000</td>\n",
       "      <td>1.500000</td>\n",
       "      <td>-1.000000</td>\n",
       "      <td>0.250000</td>\n",
       "      <td>1.250000</td>\n",
       "      <td>-4.375000e-01</td>\n",
       "    </tr>\n",
       "    <tr>\n",
       "      <th>3</th>\n",
       "      <td>1.250000</td>\n",
       "      <td>1.500000</td>\n",
       "      <td>-0.437500</td>\n",
       "      <td>0.250000</td>\n",
       "      <td>1.375000</td>\n",
       "      <td>-1.093750e-01</td>\n",
       "    </tr>\n",
       "    <tr>\n",
       "      <th>4</th>\n",
       "      <td>1.375000</td>\n",
       "      <td>1.500000</td>\n",
       "      <td>-0.109375</td>\n",
       "      <td>0.250000</td>\n",
       "      <td>1.437500</td>\n",
       "      <td>6.640625e-02</td>\n",
       "    </tr>\n",
       "    <tr>\n",
       "      <th>5</th>\n",
       "      <td>1.375000</td>\n",
       "      <td>1.437500</td>\n",
       "      <td>-0.109375</td>\n",
       "      <td>0.066406</td>\n",
       "      <td>1.406250</td>\n",
       "      <td>-2.246094e-02</td>\n",
       "    </tr>\n",
       "    <tr>\n",
       "      <th>6</th>\n",
       "      <td>1.406250</td>\n",
       "      <td>1.437500</td>\n",
       "      <td>-0.022461</td>\n",
       "      <td>0.066406</td>\n",
       "      <td>1.421875</td>\n",
       "      <td>2.172852e-02</td>\n",
       "    </tr>\n",
       "    <tr>\n",
       "      <th>7</th>\n",
       "      <td>1.406250</td>\n",
       "      <td>1.421875</td>\n",
       "      <td>-0.022461</td>\n",
       "      <td>0.021729</td>\n",
       "      <td>1.414062</td>\n",
       "      <td>-4.272461e-04</td>\n",
       "    </tr>\n",
       "    <tr>\n",
       "      <th>8</th>\n",
       "      <td>1.414062</td>\n",
       "      <td>1.421875</td>\n",
       "      <td>-0.000427</td>\n",
       "      <td>0.021729</td>\n",
       "      <td>1.417969</td>\n",
       "      <td>1.063538e-02</td>\n",
       "    </tr>\n",
       "    <tr>\n",
       "      <th>9</th>\n",
       "      <td>1.414062</td>\n",
       "      <td>1.417969</td>\n",
       "      <td>-0.000427</td>\n",
       "      <td>0.010635</td>\n",
       "      <td>1.416016</td>\n",
       "      <td>5.100250e-03</td>\n",
       "    </tr>\n",
       "    <tr>\n",
       "      <th>10</th>\n",
       "      <td>1.414062</td>\n",
       "      <td>1.416016</td>\n",
       "      <td>-0.000427</td>\n",
       "      <td>0.005100</td>\n",
       "      <td>1.415039</td>\n",
       "      <td>2.335548e-03</td>\n",
       "    </tr>\n",
       "    <tr>\n",
       "      <th>11</th>\n",
       "      <td>1.414062</td>\n",
       "      <td>1.415039</td>\n",
       "      <td>-0.000427</td>\n",
       "      <td>0.002336</td>\n",
       "      <td>1.414551</td>\n",
       "      <td>9.539127e-04</td>\n",
       "    </tr>\n",
       "    <tr>\n",
       "      <th>12</th>\n",
       "      <td>1.414062</td>\n",
       "      <td>1.414551</td>\n",
       "      <td>-0.000427</td>\n",
       "      <td>0.000954</td>\n",
       "      <td>1.414307</td>\n",
       "      <td>2.632737e-04</td>\n",
       "    </tr>\n",
       "    <tr>\n",
       "      <th>13</th>\n",
       "      <td>1.414062</td>\n",
       "      <td>1.414307</td>\n",
       "      <td>-0.000427</td>\n",
       "      <td>0.000263</td>\n",
       "      <td>1.414185</td>\n",
       "      <td>-8.200109e-05</td>\n",
       "    </tr>\n",
       "    <tr>\n",
       "      <th>14</th>\n",
       "      <td>1.414185</td>\n",
       "      <td>1.414307</td>\n",
       "      <td>-0.000082</td>\n",
       "      <td>0.000263</td>\n",
       "      <td>1.414246</td>\n",
       "      <td>9.063259e-05</td>\n",
       "    </tr>\n",
       "    <tr>\n",
       "      <th>15</th>\n",
       "      <td>1.414185</td>\n",
       "      <td>1.414246</td>\n",
       "      <td>-0.000082</td>\n",
       "      <td>0.000091</td>\n",
       "      <td>1.414215</td>\n",
       "      <td>4.314817e-06</td>\n",
       "    </tr>\n",
       "    <tr>\n",
       "      <th>16</th>\n",
       "      <td>1.414185</td>\n",
       "      <td>1.414215</td>\n",
       "      <td>-0.000082</td>\n",
       "      <td>0.000004</td>\n",
       "      <td>1.414200</td>\n",
       "      <td>-3.884337e-05</td>\n",
       "    </tr>\n",
       "    <tr>\n",
       "      <th>17</th>\n",
       "      <td>1.414200</td>\n",
       "      <td>1.414215</td>\n",
       "      <td>-0.000039</td>\n",
       "      <td>0.000004</td>\n",
       "      <td>1.414207</td>\n",
       "      <td>-1.726433e-05</td>\n",
       "    </tr>\n",
       "    <tr>\n",
       "      <th>18</th>\n",
       "      <td>1.414207</td>\n",
       "      <td>1.414215</td>\n",
       "      <td>-0.000017</td>\n",
       "      <td>0.000004</td>\n",
       "      <td>1.414211</td>\n",
       "      <td>-6.474773e-06</td>\n",
       "    </tr>\n",
       "    <tr>\n",
       "      <th>19</th>\n",
       "      <td>1.414211</td>\n",
       "      <td>1.414215</td>\n",
       "      <td>-0.000006</td>\n",
       "      <td>0.000004</td>\n",
       "      <td>1.414213</td>\n",
       "      <td>-1.079981e-06</td>\n",
       "    </tr>\n",
       "    <tr>\n",
       "      <th>20</th>\n",
       "      <td>1.414213</td>\n",
       "      <td>1.414215</td>\n",
       "      <td>-0.000001</td>\n",
       "      <td>0.000004</td>\n",
       "      <td>1.414214</td>\n",
       "      <td>1.617417e-06</td>\n",
       "    </tr>\n",
       "    <tr>\n",
       "      <th>21</th>\n",
       "      <td>1.414213</td>\n",
       "      <td>1.414214</td>\n",
       "      <td>-0.000001</td>\n",
       "      <td>0.000002</td>\n",
       "      <td>1.414214</td>\n",
       "      <td>2.687177e-07</td>\n",
       "    </tr>\n",
       "  </tbody>\n",
       "</table>\n",
       "</div>"
      ],
      "text/plain": [
       "           a         b     fn(a)     fn(b)  c=(a+b)/2          f(c)\n",
       "1   1.000000  2.000000 -1.000000  2.000000   1.500000  2.500000e-01\n",
       "2   1.000000  1.500000 -1.000000  0.250000   1.250000 -4.375000e-01\n",
       "3   1.250000  1.500000 -0.437500  0.250000   1.375000 -1.093750e-01\n",
       "4   1.375000  1.500000 -0.109375  0.250000   1.437500  6.640625e-02\n",
       "5   1.375000  1.437500 -0.109375  0.066406   1.406250 -2.246094e-02\n",
       "6   1.406250  1.437500 -0.022461  0.066406   1.421875  2.172852e-02\n",
       "7   1.406250  1.421875 -0.022461  0.021729   1.414062 -4.272461e-04\n",
       "8   1.414062  1.421875 -0.000427  0.021729   1.417969  1.063538e-02\n",
       "9   1.414062  1.417969 -0.000427  0.010635   1.416016  5.100250e-03\n",
       "10  1.414062  1.416016 -0.000427  0.005100   1.415039  2.335548e-03\n",
       "11  1.414062  1.415039 -0.000427  0.002336   1.414551  9.539127e-04\n",
       "12  1.414062  1.414551 -0.000427  0.000954   1.414307  2.632737e-04\n",
       "13  1.414062  1.414307 -0.000427  0.000263   1.414185 -8.200109e-05\n",
       "14  1.414185  1.414307 -0.000082  0.000263   1.414246  9.063259e-05\n",
       "15  1.414185  1.414246 -0.000082  0.000091   1.414215  4.314817e-06\n",
       "16  1.414185  1.414215 -0.000082  0.000004   1.414200 -3.884337e-05\n",
       "17  1.414200  1.414215 -0.000039  0.000004   1.414207 -1.726433e-05\n",
       "18  1.414207  1.414215 -0.000017  0.000004   1.414211 -6.474773e-06\n",
       "19  1.414211  1.414215 -0.000006  0.000004   1.414213 -1.079981e-06\n",
       "20  1.414213  1.414215 -0.000001  0.000004   1.414214  1.617417e-06\n",
       "21  1.414213  1.414214 -0.000001  0.000002   1.414214  2.687177e-07"
      ]
     },
     "execution_count": 43,
     "metadata": {},
     "output_type": "execute_result"
    }
   ],
   "source": [
    "df"
   ]
  },
  {
   "cell_type": "code",
   "execution_count": 44,
   "id": "1efdf4d8",
   "metadata": {},
   "outputs": [
    {
     "data": {
      "text/plain": [
       "Index([1, 2, 3, 4, 5, 6, 7, 8, 9, 10, 11, 12, 13, 14, 15, 16, 17, 18, 19, 20,\n",
       "       21],\n",
       "      dtype='int64')"
      ]
     },
     "execution_count": 44,
     "metadata": {},
     "output_type": "execute_result"
    }
   ],
   "source": [
    "df.index"
   ]
  },
  {
   "cell_type": "code",
   "execution_count": 45,
   "id": "3ec95447",
   "metadata": {},
   "outputs": [
    {
     "data": {
      "text/plain": [
       "[<matplotlib.lines.Line2D at 0x7f574fcefed0>]"
      ]
     },
     "execution_count": 45,
     "metadata": {},
     "output_type": "execute_result"
    },
    {
     "data": {
      "image/png": "[encoded data removed]",
      "text/plain": [
       "<Figure size 640x480 with 1 Axes>"
      ]
     },
     "metadata": {},
     "output_type": "display_data"
    }
   ],
   "source": [
    "\n",
    "\n",
    "plt.plot(df.index,df[\"c=(a+b)/2\"])\n"
   ]
  },
  {
   "cell_type": "code",
   "execution_count": 46,
   "id": "4f7c9b42",
   "metadata": {},
   "outputs": [
    {
     "data": {
      "text/plain": [
       "[<matplotlib.lines.Line2D at 0x7f574f907390>]"
      ]
     },
     "execution_count": 46,
     "metadata": {},
     "output_type": "execute_result"
    },
    {
     "data": {
      "image/png": "[encoded data removed]",
      "text/plain": [
       "<Figure size 640x480 with 1 Axes>"
      ]
     },
     "metadata": {},
     "output_type": "display_data"
    }
   ],
   "source": [
    "\n",
    "plt.plot(df.index,df[\"a\"])\n",
    "plt.plot(df.index,df[\"b\"])\n"
   ]
  },
  {
   "cell_type": "markdown",
   "id": "633261b1",
   "metadata": {},
   "source": [
    "<br>\n",
    "<br>\n",
    "\n",
    "# `#02: False Position Method:`\n",
    "\n",
    "<br>\n",
    "<br>"
   ]
  },
  {
   "cell_type": "code",
   "execution_count": 47,
   "id": "179917f3",
   "metadata": {},
   "outputs": [
    {
     "data": {
      "text/plain": [
       "0.6071017106443578"
      ]
     },
     "execution_count": 47,
     "metadata": {},
     "output_type": "execute_result"
    }
   ],
   "source": [
    "\n",
    "\n",
    "\n",
    "df = pd.DataFrame(columns=[\"a\",\"b\",\"fn(a)\",\"fn(b)\",\"((b*fn(b))- (a*fn(a)))/(fn(b) - fn(a))\",\"f(c)\"])\n",
    "\n",
    "\n",
    "def fn(x):\n",
    "    #return x**2 -2 \n",
    "    return 3*x - np.cos(x) - 1 \n",
    "\n",
    "def bisection(a,b,i,tol=1e-6):\n",
    "    if (fn(a)*fn(b)) >= 0:\n",
    "        print(\"choose the another value of a,b\")\n",
    "        return \n",
    "    \n",
    "    c = ((b*fn(b))- (a*fn(a)))/(fn(b) - fn(a))\n",
    "    \n",
    "    #val:\n",
    "    val = {\"a\":a,\"b\":b,\"fn(a)\":fn(a),\"fn(b)\":fn(b),\n",
    "           \"((b*fn(b))- (a*fn(a)))/(fn(b) - fn(a))\":c,\"f(c)\":fn(c)}\n",
    "    df.loc[i] = val \n",
    "    \n",
    "    if (a==b) or abs(a-b)<tol or abs(c)<tol:\n",
    "        return c\n",
    "    elif fn(a)*fn(c)<=0:\n",
    "        return bisection(a=a,b=c,i=i+1)\n",
    "    else:\n",
    "        return bisection(a=c,b=b,i=i+1)\n",
    "    \n",
    "a = 0\n",
    "b = 1\n",
    "i = 1\n",
    "ans = bisection(a,b,i)\n",
    "ans.item()"
   ]
  },
  {
   "cell_type": "code",
   "execution_count": 48,
   "id": "65a94bd5",
   "metadata": {},
   "outputs": [
    {
     "data": {
      "text/html": [
       "<div>\n",
       "<style scoped>\n",
       "    .dataframe tbody tr th:only-of-type {\n",
       "        vertical-align: middle;\n",
       "    }\n",
       "\n",
       "    .dataframe tbody tr th {\n",
       "        vertical-align: top;\n",
       "    }\n",
       "\n",
       "    .dataframe thead th {\n",
       "        text-align: right;\n",
       "    }\n",
       "</style>\n",
       "<table border=\"1\" class=\"dataframe\">\n",
       "  <thead>\n",
       "    <tr style=\"text-align: right;\">\n",
       "      <th></th>\n",
       "      <th>a</th>\n",
       "      <th>b</th>\n",
       "      <th>fn(a)</th>\n",
       "      <th>fn(b)</th>\n",
       "      <th>((b*fn(b))- (a*fn(a)))/(fn(b) - fn(a))</th>\n",
       "      <th>f(c)</th>\n",
       "    </tr>\n",
       "  </thead>\n",
       "  <tbody>\n",
       "    <tr>\n",
       "      <th>1</th>\n",
       "      <td>0.000000</td>\n",
       "      <td>1.000000</td>\n",
       "      <td>-2.000000</td>\n",
       "      <td>1.459698</td>\n",
       "      <td>0.421915</td>\n",
       "      <td>-6.465621e-01</td>\n",
       "    </tr>\n",
       "    <tr>\n",
       "      <th>2</th>\n",
       "      <td>0.421915</td>\n",
       "      <td>1.000000</td>\n",
       "      <td>-0.646562</td>\n",
       "      <td>1.459698</td>\n",
       "      <td>0.822544</td>\n",
       "      <td>7.872739e-01</td>\n",
       "    </tr>\n",
       "    <tr>\n",
       "      <th>3</th>\n",
       "      <td>0.421915</td>\n",
       "      <td>0.822544</td>\n",
       "      <td>-0.646562</td>\n",
       "      <td>0.787274</td>\n",
       "      <td>0.641888</td>\n",
       "      <td>1.246962e-01</td>\n",
       "    </tr>\n",
       "    <tr>\n",
       "      <th>4</th>\n",
       "      <td>0.421915</td>\n",
       "      <td>0.641888</td>\n",
       "      <td>-0.646562</td>\n",
       "      <td>0.124696</td>\n",
       "      <td>0.457480</td>\n",
       "      <td>-5.247291e-01</td>\n",
       "    </tr>\n",
       "    <tr>\n",
       "      <th>5</th>\n",
       "      <td>0.457480</td>\n",
       "      <td>0.641888</td>\n",
       "      <td>-0.524729</td>\n",
       "      <td>0.124696</td>\n",
       "      <td>0.492888</td>\n",
       "      <td>-4.023061e-01</td>\n",
       "    </tr>\n",
       "    <tr>\n",
       "      <th>...</th>\n",
       "      <td>...</td>\n",
       "      <td>...</td>\n",
       "      <td>...</td>\n",
       "      <td>...</td>\n",
       "      <td>...</td>\n",
       "      <td>...</td>\n",
       "    </tr>\n",
       "    <tr>\n",
       "      <th>109</th>\n",
       "      <td>0.607099</td>\n",
       "      <td>0.607102</td>\n",
       "      <td>-0.000008</td>\n",
       "      <td>0.000002</td>\n",
       "      <td>0.607100</td>\n",
       "      <td>-6.336906e-06</td>\n",
       "    </tr>\n",
       "    <tr>\n",
       "      <th>110</th>\n",
       "      <td>0.607100</td>\n",
       "      <td>0.607102</td>\n",
       "      <td>-0.000006</td>\n",
       "      <td>0.000002</td>\n",
       "      <td>0.607100</td>\n",
       "      <td>-4.696854e-06</td>\n",
       "    </tr>\n",
       "    <tr>\n",
       "      <th>111</th>\n",
       "      <td>0.607100</td>\n",
       "      <td>0.607102</td>\n",
       "      <td>-0.000005</td>\n",
       "      <td>0.000002</td>\n",
       "      <td>0.607101</td>\n",
       "      <td>-3.056802e-06</td>\n",
       "    </tr>\n",
       "    <tr>\n",
       "      <th>112</th>\n",
       "      <td>0.607101</td>\n",
       "      <td>0.607102</td>\n",
       "      <td>-0.000003</td>\n",
       "      <td>0.000002</td>\n",
       "      <td>0.607101</td>\n",
       "      <td>-1.416749e-06</td>\n",
       "    </tr>\n",
       "    <tr>\n",
       "      <th>113</th>\n",
       "      <td>0.607101</td>\n",
       "      <td>0.607102</td>\n",
       "      <td>-0.000001</td>\n",
       "      <td>0.000002</td>\n",
       "      <td>0.607102</td>\n",
       "      <td>2.233028e-07</td>\n",
       "    </tr>\n",
       "  </tbody>\n",
       "</table>\n",
       "<p>113 rows × 6 columns</p>\n",
       "</div>"
      ],
      "text/plain": [
       "            a         b     fn(a)     fn(b)  \\\n",
       "1    0.000000  1.000000 -2.000000  1.459698   \n",
       "2    0.421915  1.000000 -0.646562  1.459698   \n",
       "3    0.421915  0.822544 -0.646562  0.787274   \n",
       "4    0.421915  0.641888 -0.646562  0.124696   \n",
       "5    0.457480  0.641888 -0.524729  0.124696   \n",
       "..        ...       ...       ...       ...   \n",
       "109  0.607099  0.607102 -0.000008  0.000002   \n",
       "110  0.607100  0.607102 -0.000006  0.000002   \n",
       "111  0.607100  0.607102 -0.000005  0.000002   \n",
       "112  0.607101  0.607102 -0.000003  0.000002   \n",
       "113  0.607101  0.607102 -0.000001  0.000002   \n",
       "\n",
       "     ((b*fn(b))- (a*fn(a)))/(fn(b) - fn(a))          f(c)  \n",
       "1                                  0.421915 -6.465621e-01  \n",
       "2                                  0.822544  7.872739e-01  \n",
       "3                                  0.641888  1.246962e-01  \n",
       "4                                  0.457480 -5.247291e-01  \n",
       "5                                  0.492888 -4.023061e-01  \n",
       "..                                      ...           ...  \n",
       "109                                0.607100 -6.336906e-06  \n",
       "110                                0.607100 -4.696854e-06  \n",
       "111                                0.607101 -3.056802e-06  \n",
       "112                                0.607101 -1.416749e-06  \n",
       "113                                0.607102  2.233028e-07  \n",
       "\n",
       "[113 rows x 6 columns]"
      ]
     },
     "execution_count": 48,
     "metadata": {},
     "output_type": "execute_result"
    }
   ],
   "source": [
    "\n",
    "df "
   ]
  },
  {
   "cell_type": "code",
   "execution_count": 49,
   "id": "8ce5c059",
   "metadata": {},
   "outputs": [
    {
     "data": {
      "text/plain": [
       "(1.0, 20.0)"
      ]
     },
     "execution_count": 49,
     "metadata": {},
     "output_type": "execute_result"
    },
    {
     "data": {
      "image/png": "[encoded data removed]",
      "text/plain": [
       "<Figure size 640x480 with 1 Axes>"
      ]
     },
     "metadata": {},
     "output_type": "display_data"
    }
   ],
   "source": [
    "\n",
    "plt.plot(df.index,df[\"((b*fn(b))- (a*fn(a)))/(fn(b) - fn(a))\"])\n",
    "plt.xlim(1,20)"
   ]
  },
  {
   "cell_type": "code",
   "execution_count": 50,
   "id": "35eb34b2",
   "metadata": {},
   "outputs": [
    {
     "data": {
      "text/plain": [
       "[<matplotlib.lines.Line2D at 0x7f574f8096d0>]"
      ]
     },
     "execution_count": 50,
     "metadata": {},
     "output_type": "execute_result"
    },
    {
     "data": {
      "image/png": "[encoded data removed]",
      "text/plain": [
       "<Figure size 640x480 with 1 Axes>"
      ]
     },
     "metadata": {},
     "output_type": "display_data"
    }
   ],
   "source": [
    "\n",
    "plt.plot(df.index,df[\"a\"])\n",
    "plt.plot(df.index,df[\"b\"])\n"
   ]
  },
  {
   "cell_type": "markdown",
   "id": "d20f9b93",
   "metadata": {},
   "source": [
    "\n",
    "<br>\n",
    "<br>\n",
    "\n",
    "# `#03 One Point Iteration Method:`\n",
    "\n",
    "<br>\n",
    "<br>"
   ]
  },
  {
   "cell_type": "code",
   "execution_count": 51,
   "id": "e0c08a96",
   "metadata": {},
   "outputs": [
    {
     "data": {
      "text/plain": [
       "0.2541016964433702"
      ]
     },
     "execution_count": 51,
     "metadata": {},
     "output_type": "execute_result"
    }
   ],
   "source": [
    "\n",
    "df = pd.DataFrame(columns=[\"x_val\"])\n",
    "\n",
    "# given equation: f(x) = X^3 - 4X + 1 = 0 then,\n",
    "# x = (X^3 +1)/4 \n",
    "def fx(x):\n",
    "    return x**3 - 4*x + 1 \n",
    "\n",
    "def gx(x):\n",
    "    return (x**3 +1 )/4 \n",
    "\n",
    "\n",
    "def iteration_method(x0,tolerance=1e-6,max_iteration=1000):\n",
    "    x = x0 \n",
    "    for i in range(max_iteration):\n",
    "        x_new = gx(x)\n",
    "        if abs(x_new-x)<tolerance:\n",
    "            return x_new\n",
    "        df.loc[i+1] = {\"x_val\":x_new}\n",
    "        x = x_new \n",
    "    return \n",
    "\n",
    "# initial value:\n",
    "x0 = 0.5 \n",
    "ans = iteration_method(x0=x0)\n",
    "ans "
   ]
  },
  {
   "cell_type": "code",
   "execution_count": 52,
   "id": "837c2868",
   "metadata": {},
   "outputs": [
    {
     "data": {
      "text/html": [
       "<div>\n",
       "<style scoped>\n",
       "    .dataframe tbody tr th:only-of-type {\n",
       "        vertical-align: middle;\n",
       "    }\n",
       "\n",
       "    .dataframe tbody tr th {\n",
       "        vertical-align: top;\n",
       "    }\n",
       "\n",
       "    .dataframe thead th {\n",
       "        text-align: right;\n",
       "    }\n",
       "</style>\n",
       "<table border=\"1\" class=\"dataframe\">\n",
       "  <thead>\n",
       "    <tr style=\"text-align: right;\">\n",
       "      <th></th>\n",
       "      <th>x_val</th>\n",
       "    </tr>\n",
       "  </thead>\n",
       "  <tbody>\n",
       "    <tr>\n",
       "      <th>1</th>\n",
       "      <td>0.281250</td>\n",
       "    </tr>\n",
       "    <tr>\n",
       "      <th>2</th>\n",
       "      <td>0.255562</td>\n",
       "    </tr>\n",
       "    <tr>\n",
       "      <th>3</th>\n",
       "      <td>0.254173</td>\n",
       "    </tr>\n",
       "    <tr>\n",
       "      <th>4</th>\n",
       "      <td>0.254105</td>\n",
       "    </tr>\n",
       "    <tr>\n",
       "      <th>5</th>\n",
       "      <td>0.254102</td>\n",
       "    </tr>\n",
       "  </tbody>\n",
       "</table>\n",
       "</div>"
      ],
      "text/plain": [
       "      x_val\n",
       "1  0.281250\n",
       "2  0.255562\n",
       "3  0.254173\n",
       "4  0.254105\n",
       "5  0.254102"
      ]
     },
     "execution_count": 52,
     "metadata": {},
     "output_type": "execute_result"
    }
   ],
   "source": [
    "df"
   ]
  },
  {
   "cell_type": "code",
   "execution_count": 53,
   "id": "8513fc01",
   "metadata": {},
   "outputs": [
    {
     "data": {
      "text/plain": [
       "[<matplotlib.lines.Line2D at 0x7f574f85f4d0>]"
      ]
     },
     "execution_count": 53,
     "metadata": {},
     "output_type": "execute_result"
    },
    {
     "data": {
      "image/png": "[encoded data removed]",
      "text/plain": [
       "<Figure size 640x480 with 1 Axes>"
      ]
     },
     "metadata": {},
     "output_type": "display_data"
    }
   ],
   "source": [
    "\n",
    "plt.plot(df.index,df[\"x_val\"])"
   ]
  },
  {
   "cell_type": "markdown",
   "id": "adb95aba",
   "metadata": {},
   "source": [
    "<br>\n",
    "<br>\n",
    "\n",
    "# `#04 Gauss-Ellimination:`\n",
    "\n",
    "<br>\n",
    "<br>"
   ]
  },
  {
   "cell_type": "code",
   "execution_count": 54,
   "id": "e9d8e9f0",
   "metadata": {},
   "outputs": [
    {
     "data": {
      "text/plain": [
       "(array([[ 1.,  1.,  3.],\n",
       "        [ 0.,  1.,  3.],\n",
       "        [-1.,  3.,  0.]]),\n",
       " array([[1.],\n",
       "        [3.],\n",
       "        [5.]]))"
      ]
     },
     "execution_count": 54,
     "metadata": {},
     "output_type": "execute_result"
    }
   ],
   "source": [
    "\n",
    "\n",
    "def gaussEllimination(coefficient,y_matrix):\n",
    "    pass \n",
    "\n",
    "\n",
    "A = np.array([[1, 1, 3], [0, 1, 3], [-1, 3, 0]], dtype=np.float64) \n",
    "b = np.array([[1], [3], [5]], dtype=np.float64)  \n",
    "A,b"
   ]
  },
  {
   "cell_type": "code",
   "execution_count": 55,
   "id": "5425b7c9",
   "metadata": {},
   "outputs": [
    {
     "data": {
      "text/plain": [
       "array([[ 1.,  1.,  3.,  1.],\n",
       "       [ 0.,  1.,  3.,  3.],\n",
       "       [-1.,  3.,  0.,  5.]])"
      ]
     },
     "execution_count": 55,
     "metadata": {},
     "output_type": "execute_result"
    }
   ],
   "source": [
    "aug  = np.concatenate((A,b),axis=1)\n",
    "aug"
   ]
  },
  {
   "cell_type": "code",
   "execution_count": 56,
   "id": "a859b041",
   "metadata": {},
   "outputs": [
    {
     "data": {
      "text/plain": [
       "array([0., 0., 0.])"
      ]
     },
     "execution_count": 56,
     "metadata": {},
     "output_type": "execute_result"
    }
   ],
   "source": [
    "n = 3 \n",
    "x = np.zeros(3)\n",
    "x"
   ]
  },
  {
   "cell_type": "code",
   "execution_count": 57,
   "id": "d275a1e7",
   "metadata": {},
   "outputs": [],
   "source": [
    "x[n-1] = aug[n-2][1]"
   ]
  },
  {
   "cell_type": "code",
   "execution_count": 58,
   "id": "20d9afec",
   "metadata": {},
   "outputs": [
    {
     "data": {
      "text/plain": [
       "((3, 3), (3, 1))"
      ]
     },
     "execution_count": 58,
     "metadata": {},
     "output_type": "execute_result"
    }
   ],
   "source": [
    "A.shape,b.shape"
   ]
  },
  {
   "cell_type": "code",
   "execution_count": 59,
   "id": "c4162192",
   "metadata": {},
   "outputs": [
    {
     "name": "stdout",
     "output_type": "stream",
     "text": [
      "1\n",
      "0\n"
     ]
    }
   ],
   "source": [
    "for i in range(1,-1,-1):\n",
    "    print(i)"
   ]
  },
  {
   "cell_type": "code",
   "execution_count": 60,
   "id": "af39b7aa",
   "metadata": {},
   "outputs": [
    {
     "name": "stdout",
     "output_type": "stream",
     "text": [
      "\n",
      "[[1. 1. 3. 1.]\n",
      " [0. 1. 3. 3.]\n",
      " [0. 4. 3. 6.]]\n",
      "\n",
      "[[ 1.  1.  3.  1.]\n",
      " [ 0.  1.  3.  3.]\n",
      " [ 0.  0. -9. -6.]]\n",
      "\n",
      "[[ 1.  1.  3.  1.]\n",
      " [ 0.  1.  3.  3.]\n",
      " [ 0.  0. -9. -6.]]\n",
      "\n",
      " solution:  [-2.          1.          0.66666667]\n"
     ]
    }
   ],
   "source": [
    "\n",
    "\n",
    "def gaussEllimination(A,b):\n",
    "    \n",
    "    if A.shape[0]!=A.shape[1] or b.shape[1]>1 or  b.shape[0] != A.shape[0]:\n",
    "        print(\"Invalid Matrix\")\n",
    "        return \n",
    "    \n",
    "    # important variable: \n",
    "    n = b.shape[0] #3\n",
    "    x = np.zeros(n)\n",
    "    aug = np.concatenate((A,b),axis=1).astype(np.float64)\n",
    "    \n",
    "    \n",
    "    #forward subtutituion:\n",
    "    for i in range(n):\n",
    "        povit = aug[i][i]\n",
    "        if povit == 0:\n",
    "            print(\"can't divide with zero\")\n",
    "            return\n",
    "        for j in range(i+1,n):\n",
    "            scaling = aug[j][i] / povit\n",
    "            aug[j] -= scaling*aug[i]\n",
    "        print()\n",
    "        print(aug)\n",
    "    \n",
    "    # backward subtitution:\n",
    "    x[n-1] = aug[n-1][n]/aug[n-1][n-1] # value of z \n",
    "    \n",
    "    for k in range(n-2,-1,-1):\n",
    "        #sum_terms = sum(aug[k][j]*x[j] for j in range(k+1,n))\n",
    "        sum_terms = 0\n",
    "        for j in range(k+1,n):\n",
    "            sum_terms += aug[k][j] *x[j]\n",
    "            \n",
    "        x[k] = (aug[k][n] - sum_terms) / aug[k][k]\n",
    "    print(\"\\n solution: \",x)\n",
    "    \n",
    "A = np.array([[1, 1, 3], [0, 1, 3], [-1, 3, 0]], dtype=np.float64) \n",
    "b = np.array([[1], [3], [5]], dtype=np.float64)  \n",
    "gaussEllimination(A, b)\n"
   ]
  },
  {
   "cell_type": "code",
   "execution_count": 61,
   "id": "61c6cb94",
   "metadata": {},
   "outputs": [
    {
     "data": {
      "text/plain": [
       "0.6666666666666666"
      ]
     },
     "execution_count": 61,
     "metadata": {},
     "output_type": "execute_result"
    }
   ],
   "source": [
    "-6/-9"
   ]
  },
  {
   "cell_type": "markdown",
   "id": "801bbfd8",
   "metadata": {},
   "source": [
    "<br>\n",
    "<br>\n",
    "\n",
    "# `#05 Gauss-Jordan-Elimination:`\n",
    "\n",
    "<br>\n",
    "<br>"
   ]
  },
  {
   "cell_type": "code",
   "execution_count": 62,
   "id": "50da6599",
   "metadata": {},
   "outputs": [
    {
     "name": "stdout",
     "output_type": "stream",
     "text": [
      "\n",
      "After normalizing row 0 :\n",
      " [[ 1.  1.  3.  1.]\n",
      " [ 0.  1.  3.  3.]\n",
      " [-1.  3.  0.  5.]]\n",
      "\n",
      "After eliminating column 0 :\n",
      " [[1. 1. 3. 1.]\n",
      " [0. 1. 3. 3.]\n",
      " [0. 4. 3. 6.]]\n",
      "\n",
      "After normalizing row 1 :\n",
      " [[1. 1. 3. 1.]\n",
      " [0. 1. 3. 3.]\n",
      " [0. 4. 3. 6.]]\n",
      "\n",
      "After eliminating column 1 :\n",
      " [[ 1.  0.  0. -2.]\n",
      " [ 0.  1.  3.  3.]\n",
      " [ 0.  0. -9. -6.]]\n",
      "\n",
      "After normalizing row 2 :\n",
      " [[ 1.          0.          0.         -2.        ]\n",
      " [ 0.          1.          3.          3.        ]\n",
      " [-0.         -0.          1.          0.66666667]]\n",
      "\n",
      "After eliminating column 2 :\n",
      " [[ 1.          0.          0.         -2.        ]\n",
      " [ 0.          1.          0.          1.        ]\n",
      " [-0.         -0.          1.          0.66666667]]\n",
      "\n",
      "Solution:  [-2.          1.          0.66666667]\n"
     ]
    }
   ],
   "source": [
    "\n",
    "\n",
    "import numpy as np\n",
    "\n",
    "def gaussJordanElimination(A, b):\n",
    "    if A.shape[0] != A.shape[1] or b.shape[1] > 1 or b.shape[0] != A.shape[0]:\n",
    "        print(\"Invalid Matrix\")\n",
    "        return \n",
    "    \n",
    "    # important variable: \n",
    "    n = b.shape[0]\n",
    "    x = np.zeros(n)\n",
    "    aug = np.concatenate((A, b), axis=1).astype(np.float64)\n",
    "    \n",
    "    # Full Elimination (নিচে + উপরে 0 কর, pivot 1 কর)\n",
    "    for i in range(n):\n",
    "        pivot = aug[i][i]\n",
    "        if pivot == 0:\n",
    "            print(\"Can't divide with zero\")\n",
    "            return\n",
    "        \n",
    "        # Normalize pivot row (pivot = 1 কর)\n",
    "        aug[i] /= pivot  # পুরো row-কে pivot দিয়ে divide কর\n",
    "        print(\"\\nAfter normalizing row\", i, \":\\n\", aug)\n",
    "        \n",
    "        # Eliminate column i (নিচে + উপরে 0 কর)\n",
    "        for j in range(n):\n",
    "            if j != i:  # Skip pivot row\n",
    "                scaling = aug[j][i] / aug[i][i]  # aug[i][i] এখন 1, তাই scaling = aug[j][i]\n",
    "                aug[j] -= scaling * aug[i]\n",
    "        print(\"\\nAfter eliminating column\", i, \":\\n\", aug)\n",
    "    \n",
    "    # Solution সরাসরি নে\n",
    "    for i in range(n):\n",
    "        x[i] = aug[i][n]  # শেষ column থেকে x, y, z নে\n",
    "    \n",
    "    print(\"\\nSolution: \", x)\n",
    "\n",
    "# Test\n",
    "A = np.array([[1, 1, 3], [0, 1, 3], [-1, 3, 0]], dtype=np.float64)\n",
    "b = np.array([[1], [3], [5]], dtype=np.float64)\n",
    "gaussJordanElimination(A, b)"
   ]
  },
  {
   "cell_type": "markdown",
   "id": "a45da3f5",
   "metadata": {},
   "source": [
    "<br>\n",
    "<br>\n",
    "\n",
    "# `#06 Linear Regression:`\n",
    "\n",
    "<br>\n",
    "<br>"
   ]
  },
  {
   "cell_type": "code",
   "execution_count": 96,
   "id": "76ec359f",
   "metadata": {},
   "outputs": [],
   "source": [
    "import random\n",
    "from sklearn.datasets import make_regression\n",
    "from sklearn.linear_model import SGDRegressor\n",
    "from sklearn.model_selection import train_test_split\n",
    "from sklearn.metrics import r2_score\n",
    "\n",
    "random.seed(42)\n",
    "\n",
    "X,y = make_regression(n_samples=100,n_features=1,noise=20,random_state=42)\n"
   ]
  },
  {
   "cell_type": "code",
   "execution_count": 97,
   "id": "aff3dad9",
   "metadata": {},
   "outputs": [],
   "source": [
    "\n",
    "# train=80%,test=20\n",
    "\n",
    "X_train,X_test,y_train,y_test = train_test_split(X,y,train_size=0.8)\n"
   ]
  },
  {
   "cell_type": "code",
   "execution_count": 98,
   "id": "aa5bea45",
   "metadata": {},
   "outputs": [
    {
     "name": "stdout",
     "output_type": "stream",
     "text": [
      "X_train shape: (80, 1)\n",
      "y_train shape: (80,)\n",
      "X_test shape: (20, 1)\n",
      "y_test shape: (20,)\n"
     ]
    }
   ],
   "source": [
    "\n",
    "print(f\"X_train shape: {X_train.shape}\")\n",
    "print(f\"y_train shape: {y_train.shape}\")\n",
    "print(f\"X_test shape: {X_test.shape}\")\n",
    "print(f\"y_test shape: {y_test.shape}\")\n"
   ]
  },
  {
   "cell_type": "code",
   "execution_count": 99,
   "id": "355a4130",
   "metadata": {},
   "outputs": [
    {
     "name": "stdout",
     "output_type": "stream",
     "text": [
      "-- Epoch 1\n",
      "Norm: 12.95, NNZs: 1, Bias: -0.710573, T: 80, Avg. loss: 849.972190\n",
      "Total training time: 0.00 seconds.\n",
      "-- Epoch 2\n",
      "Norm: 19.35, NNZs: 1, Bias: -0.911351, T: 160, Avg. loss: 574.267971\n",
      "Total training time: 0.00 seconds.\n",
      "-- Epoch 3\n",
      "Norm: 23.94, NNZs: 1, Bias: -0.922834, T: 240, Avg. loss: 441.937349\n",
      "Total training time: 0.00 seconds.\n",
      "-- Epoch 4\n",
      "Norm: 27.50, NNZs: 1, Bias: -0.825888, T: 320, Avg. loss: 360.411393\n",
      "Total training time: 0.00 seconds.\n",
      "-- Epoch 5\n",
      "Norm: 30.35, NNZs: 1, Bias: -0.709327, T: 400, Avg. loss: 306.280738\n",
      "Total training time: 0.00 seconds.\n",
      "-- Epoch 6\n",
      "Norm: 32.64, NNZs: 1, Bias: -0.555882, T: 480, Avg. loss: 269.214809\n",
      "Total training time: 0.00 seconds.\n",
      "-- Epoch 7\n",
      "Norm: 34.54, NNZs: 1, Bias: -0.367393, T: 560, Avg. loss: 243.163496\n",
      "Total training time: 0.00 seconds.\n",
      "-- Epoch 8\n",
      "Norm: 36.13, NNZs: 1, Bias: -0.208318, T: 640, Avg. loss: 224.306019\n",
      "Total training time: 0.00 seconds.\n",
      "-- Epoch 9\n",
      "Norm: 37.49, NNZs: 1, Bias: -0.059053, T: 720, Avg. loss: 210.385407\n",
      "Total training time: 0.00 seconds.\n",
      "-- Epoch 10\n",
      "Norm: 38.65, NNZs: 1, Bias: 0.079630, T: 800, Avg. loss: 199.996076\n",
      "Total training time: 0.00 seconds.\n",
      "-- Epoch 11\n",
      "Norm: 39.64, NNZs: 1, Bias: 0.223163, T: 880, Avg. loss: 192.220929\n",
      "Total training time: 0.00 seconds.\n",
      "-- Epoch 12\n",
      "Norm: 40.48, NNZs: 1, Bias: 0.369594, T: 960, Avg. loss: 186.300710\n",
      "Total training time: 0.00 seconds.\n",
      "-- Epoch 13\n",
      "Norm: 41.21, NNZs: 1, Bias: 0.503221, T: 1040, Avg. loss: 181.811648\n",
      "Total training time: 0.00 seconds.\n",
      "-- Epoch 14\n",
      "Norm: 41.85, NNZs: 1, Bias: 0.622815, T: 1120, Avg. loss: 178.305229\n",
      "Total training time: 0.00 seconds.\n",
      "-- Epoch 15\n",
      "Norm: 42.41, NNZs: 1, Bias: 0.746668, T: 1200, Avg. loss: 175.553846\n",
      "Total training time: 0.01 seconds.\n",
      "-- Epoch 16\n",
      "Norm: 42.89, NNZs: 1, Bias: 0.849742, T: 1280, Avg. loss: 173.433527\n",
      "Total training time: 0.01 seconds.\n",
      "-- Epoch 17\n",
      "Norm: 43.32, NNZs: 1, Bias: 0.943523, T: 1360, Avg. loss: 171.765042\n",
      "Total training time: 0.01 seconds.\n",
      "-- Epoch 18\n",
      "Norm: 43.72, NNZs: 1, Bias: 1.025859, T: 1440, Avg. loss: 170.394168\n",
      "Total training time: 0.01 seconds.\n",
      "-- Epoch 19\n",
      "Norm: 44.05, NNZs: 1, Bias: 1.102323, T: 1520, Avg. loss: 169.312670\n",
      "Total training time: 0.01 seconds.\n",
      "-- Epoch 20\n",
      "Norm: 44.34, NNZs: 1, Bias: 1.187668, T: 1600, Avg. loss: 168.470633\n",
      "Total training time: 0.01 seconds.\n",
      "-- Epoch 21\n",
      "Norm: 44.60, NNZs: 1, Bias: 1.269665, T: 1680, Avg. loss: 167.793598\n",
      "Total training time: 0.01 seconds.\n",
      "-- Epoch 22\n",
      "Norm: 44.84, NNZs: 1, Bias: 1.324272, T: 1760, Avg. loss: 167.259708\n",
      "Total training time: 0.01 seconds.\n",
      "-- Epoch 23\n",
      "Norm: 45.05, NNZs: 1, Bias: 1.385559, T: 1840, Avg. loss: 166.810934\n",
      "Total training time: 0.01 seconds.\n",
      "-- Epoch 24\n",
      "Norm: 45.23, NNZs: 1, Bias: 1.443077, T: 1920, Avg. loss: 166.451958\n",
      "Total training time: 0.01 seconds.\n",
      "-- Epoch 25\n",
      "Norm: 45.39, NNZs: 1, Bias: 1.487685, T: 2000, Avg. loss: 166.163501\n",
      "Total training time: 0.01 seconds.\n",
      "-- Epoch 26\n",
      "Norm: 45.55, NNZs: 1, Bias: 1.531883, T: 2080, Avg. loss: 165.927779\n",
      "Total training time: 0.01 seconds.\n",
      "-- Epoch 27\n",
      "Norm: 45.68, NNZs: 1, Bias: 1.562886, T: 2160, Avg. loss: 165.717184\n",
      "Total training time: 0.01 seconds.\n",
      "-- Epoch 28\n",
      "Norm: 45.80, NNZs: 1, Bias: 1.606445, T: 2240, Avg. loss: 165.560565\n",
      "Total training time: 0.01 seconds.\n",
      "-- Epoch 29\n",
      "Norm: 45.89, NNZs: 1, Bias: 1.655590, T: 2320, Avg. loss: 165.418100\n",
      "Total training time: 0.01 seconds.\n",
      "-- Epoch 30\n",
      "Norm: 45.98, NNZs: 1, Bias: 1.674369, T: 2400, Avg. loss: 165.320160\n",
      "Total training time: 0.01 seconds.\n",
      "-- Epoch 31\n",
      "Norm: 46.08, NNZs: 1, Bias: 1.697177, T: 2480, Avg. loss: 165.242889\n",
      "Total training time: 0.01 seconds.\n",
      "-- Epoch 32\n",
      "Norm: 46.16, NNZs: 1, Bias: 1.725803, T: 2560, Avg. loss: 165.164165\n",
      "Total training time: 0.01 seconds.\n",
      "-- Epoch 33\n",
      "Norm: 46.23, NNZs: 1, Bias: 1.762143, T: 2640, Avg. loss: 165.095847\n",
      "Total training time: 0.01 seconds.\n",
      "-- Epoch 34\n",
      "Norm: 46.30, NNZs: 1, Bias: 1.778460, T: 2720, Avg. loss: 165.034819\n",
      "Total training time: 0.01 seconds.\n",
      "-- Epoch 35\n",
      "Norm: 46.36, NNZs: 1, Bias: 1.791328, T: 2800, Avg. loss: 164.995018\n",
      "Total training time: 0.01 seconds.\n",
      "-- Epoch 36\n",
      "Norm: 46.41, NNZs: 1, Bias: 1.804190, T: 2880, Avg. loss: 164.959076\n",
      "Total training time: 0.01 seconds.\n",
      "-- Epoch 37\n",
      "Norm: 46.46, NNZs: 1, Bias: 1.823361, T: 2960, Avg. loss: 164.927305\n",
      "Total training time: 0.01 seconds.\n",
      "-- Epoch 38\n",
      "Norm: 46.49, NNZs: 1, Bias: 1.830527, T: 3040, Avg. loss: 164.888743\n",
      "Total training time: 0.01 seconds.\n",
      "-- Epoch 39\n",
      "Norm: 46.54, NNZs: 1, Bias: 1.836467, T: 3120, Avg. loss: 164.875941\n",
      "Total training time: 0.01 seconds.\n",
      "-- Epoch 40\n",
      "Norm: 46.58, NNZs: 1, Bias: 1.848446, T: 3200, Avg. loss: 164.860457\n",
      "Total training time: 0.01 seconds.\n",
      "-- Epoch 41\n",
      "Norm: 46.61, NNZs: 1, Bias: 1.866329, T: 3280, Avg. loss: 164.845242\n",
      "Total training time: 0.01 seconds.\n",
      "-- Epoch 42\n",
      "Norm: 46.65, NNZs: 1, Bias: 1.889124, T: 3360, Avg. loss: 164.825164\n",
      "Total training time: 0.01 seconds.\n",
      "-- Epoch 43\n",
      "Norm: 46.67, NNZs: 1, Bias: 1.907201, T: 3440, Avg. loss: 164.807409\n",
      "Total training time: 0.01 seconds.\n",
      "-- Epoch 44\n",
      "Norm: 46.70, NNZs: 1, Bias: 1.914205, T: 3520, Avg. loss: 164.796417\n",
      "Total training time: 0.01 seconds.\n",
      "-- Epoch 45\n",
      "Norm: 46.73, NNZs: 1, Bias: 1.922439, T: 3600, Avg. loss: 164.789828\n",
      "Total training time: 0.01 seconds.\n",
      "-- Epoch 46\n",
      "Norm: 46.76, NNZs: 1, Bias: 1.934518, T: 3680, Avg. loss: 164.773793\n",
      "Total training time: 0.01 seconds.\n",
      "-- Epoch 47\n",
      "Norm: 46.79, NNZs: 1, Bias: 1.955504, T: 3760, Avg. loss: 164.759348\n",
      "Total training time: 0.01 seconds.\n",
      "-- Epoch 48\n",
      "Norm: 46.80, NNZs: 1, Bias: 1.958710, T: 3840, Avg. loss: 164.759051\n",
      "Total training time: 0.01 seconds.\n",
      "-- Epoch 49\n",
      "Norm: 46.82, NNZs: 1, Bias: 1.954582, T: 3920, Avg. loss: 164.747707\n",
      "Total training time: 0.01 seconds.\n",
      "-- Epoch 50\n",
      "Norm: 46.83, NNZs: 1, Bias: 1.973669, T: 4000, Avg. loss: 164.743933\n",
      "Total training time: 0.01 seconds.\n",
      "-- Epoch 51\n",
      "Norm: 46.84, NNZs: 1, Bias: 1.989571, T: 4080, Avg. loss: 164.733244\n",
      "Total training time: 0.01 seconds.\n",
      "-- Epoch 52\n",
      "Norm: 46.85, NNZs: 1, Bias: 1.992682, T: 4160, Avg. loss: 164.740567\n",
      "Total training time: 0.01 seconds.\n",
      "-- Epoch 53\n",
      "Norm: 46.86, NNZs: 1, Bias: 1.999133, T: 4240, Avg. loss: 164.737752\n",
      "Total training time: 0.01 seconds.\n",
      "-- Epoch 54\n",
      "Norm: 46.87, NNZs: 1, Bias: 2.009669, T: 4320, Avg. loss: 164.732698\n",
      "Total training time: 0.01 seconds.\n",
      "-- Epoch 55\n",
      "Norm: 46.88, NNZs: 1, Bias: 2.015691, T: 4400, Avg. loss: 164.731554\n",
      "Total training time: 0.01 seconds.\n",
      "-- Epoch 56\n",
      "Norm: 46.88, NNZs: 1, Bias: 2.021129, T: 4480, Avg. loss: 164.724084\n",
      "Total training time: 0.01 seconds.\n",
      "-- Epoch 57\n",
      "Norm: 46.89, NNZs: 1, Bias: 2.023878, T: 4560, Avg. loss: 164.723583\n",
      "Total training time: 0.01 seconds.\n",
      "-- Epoch 58\n",
      "Norm: 46.89, NNZs: 1, Bias: 2.026607, T: 4640, Avg. loss: 164.721292\n",
      "Total training time: 0.01 seconds.\n",
      "-- Epoch 59\n",
      "Norm: 46.90, NNZs: 1, Bias: 2.030173, T: 4720, Avg. loss: 164.717450\n",
      "Total training time: 0.01 seconds.\n",
      "-- Epoch 60\n",
      "Norm: 46.90, NNZs: 1, Bias: 2.031677, T: 4800, Avg. loss: 164.718927\n",
      "Total training time: 0.01 seconds.\n",
      "-- Epoch 61\n",
      "Norm: 46.91, NNZs: 1, Bias: 2.036249, T: 4880, Avg. loss: 164.717083\n",
      "Total training time: 0.01 seconds.\n",
      "-- Epoch 62\n",
      "Norm: 46.92, NNZs: 1, Bias: 2.036614, T: 4960, Avg. loss: 164.714530\n",
      "Total training time: 0.01 seconds.\n",
      "-- Epoch 63\n",
      "Norm: 46.93, NNZs: 1, Bias: 2.033970, T: 5040, Avg. loss: 164.712453\n",
      "Total training time: 0.01 seconds.\n",
      "-- Epoch 64\n",
      "Norm: 46.93, NNZs: 1, Bias: 2.036645, T: 5120, Avg. loss: 164.707918\n",
      "Total training time: 0.01 seconds.\n",
      "-- Epoch 65\n",
      "Norm: 46.93, NNZs: 1, Bias: 2.033405, T: 5200, Avg. loss: 164.703300\n",
      "Total training time: 0.01 seconds.\n",
      "-- Epoch 66\n",
      "Norm: 46.94, NNZs: 1, Bias: 2.023116, T: 5280, Avg. loss: 164.694761\n",
      "Total training time: 0.01 seconds.\n",
      "-- Epoch 67\n",
      "Norm: 46.94, NNZs: 1, Bias: 2.023070, T: 5360, Avg. loss: 164.705334\n",
      "Total training time: 0.01 seconds.\n",
      "-- Epoch 68\n",
      "Norm: 46.94, NNZs: 1, Bias: 2.021417, T: 5440, Avg. loss: 164.700625\n",
      "Total training time: 0.01 seconds.\n",
      "-- Epoch 69\n",
      "Norm: 46.94, NNZs: 1, Bias: 2.029381, T: 5520, Avg. loss: 164.701079\n",
      "Total training time: 0.01 seconds.\n",
      "-- Epoch 70\n",
      "Norm: 46.95, NNZs: 1, Bias: 2.023474, T: 5600, Avg. loss: 164.695034\n",
      "Total training time: 0.01 seconds.\n",
      "-- Epoch 71\n",
      "Norm: 46.95, NNZs: 1, Bias: 2.027931, T: 5680, Avg. loss: 164.697725\n",
      "Total training time: 0.01 seconds.\n",
      "Convergence after 71 epochs took 0.01 seconds\n"
     ]
    },
    {
     "data": {
      "text/html": [
       "<style>#sk-container-id-5 {\n",
       "  /* Definition of color scheme common for light and dark mode */\n",
       "  --sklearn-color-text: #000;\n",
       "  --sklearn-color-text-muted: #666;\n",
       "  --sklearn-color-line: gray;\n",
       "  /* Definition of color scheme for unfitted estimators */\n",
       "  --sklearn-color-unfitted-level-0: #fff5e6;\n",
       "  --sklearn-color-unfitted-level-1: #f6e4d2;\n",
       "  --sklearn-color-unfitted-level-2: #ffe0b3;\n",
       "  --sklearn-color-unfitted-level-3: chocolate;\n",
       "  /* Definition of color scheme for fitted estimators */\n",
       "  --sklearn-color-fitted-level-0: #f0f8ff;\n",
       "  --sklearn-color-fitted-level-1: #d4ebff;\n",
       "  --sklearn-color-fitted-level-2: #b3dbfd;\n",
       "  --sklearn-color-fitted-level-3: cornflowerblue;\n",
       "\n",
       "  /* Specific color for light theme */\n",
       "  --sklearn-color-text-on-default-background: var(--sg-text-color, var(--theme-code-foreground, var(--jp-content-font-color1, black)));\n",
       "  --sklearn-color-background: var(--sg-background-color, var(--theme-background, var(--jp-layout-color0, white)));\n",
       "  --sklearn-color-border-box: var(--sg-text-color, var(--theme-code-foreground, var(--jp-content-font-color1, black)));\n",
       "  --sklearn-color-icon: #696969;\n",
       "\n",
       "  @media (prefers-color-scheme: dark) {\n",
       "    /* Redefinition of color scheme for dark theme */\n",
       "    --sklearn-color-text-on-default-background: var(--sg-text-color, var(--theme-code-foreground, var(--jp-content-font-color1, white)));\n",
       "    --sklearn-color-background: var(--sg-background-color, var(--theme-background, var(--jp-layout-color0, #111)));\n",
       "    --sklearn-color-border-box: var(--sg-text-color, var(--theme-code-foreground, var(--jp-content-font-color1, white)));\n",
       "    --sklearn-color-icon: #878787;\n",
       "  }\n",
       "}\n",
       "\n",
       "#sk-container-id-5 {\n",
       "  color: var(--sklearn-color-text);\n",
       "}\n",
       "\n",
       "#sk-container-id-5 pre {\n",
       "  padding: 0;\n",
       "}\n",
       "\n",
       "#sk-container-id-5 input.sk-hidden--visually {\n",
       "  border: 0;\n",
       "  clip: rect(1px 1px 1px 1px);\n",
       "  clip: rect(1px, 1px, 1px, 1px);\n",
       "  height: 1px;\n",
       "  margin: -1px;\n",
       "  overflow: hidden;\n",
       "  padding: 0;\n",
       "  position: absolute;\n",
       "  width: 1px;\n",
       "}\n",
       "\n",
       "#sk-container-id-5 div.sk-dashed-wrapped {\n",
       "  border: 1px dashed var(--sklearn-color-line);\n",
       "  margin: 0 0.4em 0.5em 0.4em;\n",
       "  box-sizing: border-box;\n",
       "  padding-bottom: 0.4em;\n",
       "  background-color: var(--sklearn-color-background);\n",
       "}\n",
       "\n",
       "#sk-container-id-5 div.sk-container {\n",
       "  /* jupyter's `normalize.less` sets `[hidden] { display: none; }`\n",
       "     but bootstrap.min.css set `[hidden] { display: none !important; }`\n",
       "     so we also need the `!important` here to be able to override the\n",
       "     default hidden behavior on the sphinx rendered scikit-learn.org.\n",
       "     See: https://github.com/scikit-learn/scikit-learn/issues/21755 */\n",
       "  display: inline-block !important;\n",
       "  position: relative;\n",
       "}\n",
       "\n",
       "#sk-container-id-5 div.sk-text-repr-fallback {\n",
       "  display: none;\n",
       "}\n",
       "\n",
       "div.sk-parallel-item,\n",
       "div.sk-serial,\n",
       "div.sk-item {\n",
       "  /* draw centered vertical line to link estimators */\n",
       "  background-image: linear-gradient(var(--sklearn-color-text-on-default-background), var(--sklearn-color-text-on-default-background));\n",
       "  background-size: 2px 100%;\n",
       "  background-repeat: no-repeat;\n",
       "  background-position: center center;\n",
       "}\n",
       "\n",
       "/* Parallel-specific style estimator block */\n",
       "\n",
       "#sk-container-id-5 div.sk-parallel-item::after {\n",
       "  content: \"\";\n",
       "  width: 100%;\n",
       "  border-bottom: 2px solid var(--sklearn-color-text-on-default-background);\n",
       "  flex-grow: 1;\n",
       "}\n",
       "\n",
       "#sk-container-id-5 div.sk-parallel {\n",
       "  display: flex;\n",
       "  align-items: stretch;\n",
       "  justify-content: center;\n",
       "  background-color: var(--sklearn-color-background);\n",
       "  position: relative;\n",
       "}\n",
       "\n",
       "#sk-container-id-5 div.sk-parallel-item {\n",
       "  display: flex;\n",
       "  flex-direction: column;\n",
       "}\n",
       "\n",
       "#sk-container-id-5 div.sk-parallel-item:first-child::after {\n",
       "  align-self: flex-end;\n",
       "  width: 50%;\n",
       "}\n",
       "\n",
       "#sk-container-id-5 div.sk-parallel-item:last-child::after {\n",
       "  align-self: flex-start;\n",
       "  width: 50%;\n",
       "}\n",
       "\n",
       "#sk-container-id-5 div.sk-parallel-item:only-child::after {\n",
       "  width: 0;\n",
       "}\n",
       "\n",
       "/* Serial-specific style estimator block */\n",
       "\n",
       "#sk-container-id-5 div.sk-serial {\n",
       "  display: flex;\n",
       "  flex-direction: column;\n",
       "  align-items: center;\n",
       "  background-color: var(--sklearn-color-background);\n",
       "  padding-right: 1em;\n",
       "  padding-left: 1em;\n",
       "}\n",
       "\n",
       "\n",
       "/* Toggleable style: style used for estimator/Pipeline/ColumnTransformer box that is\n",
       "clickable and can be expanded/collapsed.\n",
       "- Pipeline and ColumnTransformer use this feature and define the default style\n",
       "- Estimators will overwrite some part of the style using the `sk-estimator` class\n",
       "*/\n",
       "\n",
       "/* Pipeline and ColumnTransformer style (default) */\n",
       "\n",
       "#sk-container-id-5 div.sk-toggleable {\n",
       "  /* Default theme specific background. It is overwritten whether we have a\n",
       "  specific estimator or a Pipeline/ColumnTransformer */\n",
       "  background-color: var(--sklearn-color-background);\n",
       "}\n",
       "\n",
       "/* Toggleable label */\n",
       "#sk-container-id-5 label.sk-toggleable__label {\n",
       "  cursor: pointer;\n",
       "  display: flex;\n",
       "  width: 100%;\n",
       "  margin-bottom: 0;\n",
       "  padding: 0.5em;\n",
       "  box-sizing: border-box;\n",
       "  text-align: center;\n",
       "  align-items: start;\n",
       "  justify-content: space-between;\n",
       "  gap: 0.5em;\n",
       "}\n",
       "\n",
       "#sk-container-id-5 label.sk-toggleable__label .caption {\n",
       "  font-size: 0.6rem;\n",
       "  font-weight: lighter;\n",
       "  color: var(--sklearn-color-text-muted);\n",
       "}\n",
       "\n",
       "#sk-container-id-5 label.sk-toggleable__label-arrow:before {\n",
       "  /* Arrow on the left of the label */\n",
       "  content: \"▸\";\n",
       "  float: left;\n",
       "  margin-right: 0.25em;\n",
       "  color: var(--sklearn-color-icon);\n",
       "}\n",
       "\n",
       "#sk-container-id-5 label.sk-toggleable__label-arrow:hover:before {\n",
       "  color: var(--sklearn-color-text);\n",
       "}\n",
       "\n",
       "/* Toggleable content - dropdown */\n",
       "\n",
       "#sk-container-id-5 div.sk-toggleable__content {\n",
       "  display: none;\n",
       "  text-align: left;\n",
       "  /* unfitted */\n",
       "  background-color: var(--sklearn-color-unfitted-level-0);\n",
       "}\n",
       "\n",
       "#sk-container-id-5 div.sk-toggleable__content.fitted {\n",
       "  /* fitted */\n",
       "  background-color: var(--sklearn-color-fitted-level-0);\n",
       "}\n",
       "\n",
       "#sk-container-id-5 div.sk-toggleable__content pre {\n",
       "  margin: 0.2em;\n",
       "  border-radius: 0.25em;\n",
       "  color: var(--sklearn-color-text);\n",
       "  /* unfitted */\n",
       "  background-color: var(--sklearn-color-unfitted-level-0);\n",
       "}\n",
       "\n",
       "#sk-container-id-5 div.sk-toggleable__content.fitted pre {\n",
       "  /* unfitted */\n",
       "  background-color: var(--sklearn-color-fitted-level-0);\n",
       "}\n",
       "\n",
       "#sk-container-id-5 input.sk-toggleable__control:checked~div.sk-toggleable__content {\n",
       "  /* Expand drop-down */\n",
       "  display: block;\n",
       "  width: 100%;\n",
       "  overflow: visible;\n",
       "}\n",
       "\n",
       "#sk-container-id-5 input.sk-toggleable__control:checked~label.sk-toggleable__label-arrow:before {\n",
       "  content: \"▾\";\n",
       "}\n",
       "\n",
       "/* Pipeline/ColumnTransformer-specific style */\n",
       "\n",
       "#sk-container-id-5 div.sk-label input.sk-toggleable__control:checked~label.sk-toggleable__label {\n",
       "  color: var(--sklearn-color-text);\n",
       "  background-color: var(--sklearn-color-unfitted-level-2);\n",
       "}\n",
       "\n",
       "#sk-container-id-5 div.sk-label.fitted input.sk-toggleable__control:checked~label.sk-toggleable__label {\n",
       "  background-color: var(--sklearn-color-fitted-level-2);\n",
       "}\n",
       "\n",
       "/* Estimator-specific style */\n",
       "\n",
       "/* Colorize estimator box */\n",
       "#sk-container-id-5 div.sk-estimator input.sk-toggleable__control:checked~label.sk-toggleable__label {\n",
       "  /* unfitted */\n",
       "  background-color: var(--sklearn-color-unfitted-level-2);\n",
       "}\n",
       "\n",
       "#sk-container-id-5 div.sk-estimator.fitted input.sk-toggleable__control:checked~label.sk-toggleable__label {\n",
       "  /* fitted */\n",
       "  background-color: var(--sklearn-color-fitted-level-2);\n",
       "}\n",
       "\n",
       "#sk-container-id-5 div.sk-label label.sk-toggleable__label,\n",
       "#sk-container-id-5 div.sk-label label {\n",
       "  /* The background is the default theme color */\n",
       "  color: var(--sklearn-color-text-on-default-background);\n",
       "}\n",
       "\n",
       "/* On hover, darken the color of the background */\n",
       "#sk-container-id-5 div.sk-label:hover label.sk-toggleable__label {\n",
       "  color: var(--sklearn-color-text);\n",
       "  background-color: var(--sklearn-color-unfitted-level-2);\n",
       "}\n",
       "\n",
       "/* Label box, darken color on hover, fitted */\n",
       "#sk-container-id-5 div.sk-label.fitted:hover label.sk-toggleable__label.fitted {\n",
       "  color: var(--sklearn-color-text);\n",
       "  background-color: var(--sklearn-color-fitted-level-2);\n",
       "}\n",
       "\n",
       "/* Estimator label */\n",
       "\n",
       "#sk-container-id-5 div.sk-label label {\n",
       "  font-family: monospace;\n",
       "  font-weight: bold;\n",
       "  display: inline-block;\n",
       "  line-height: 1.2em;\n",
       "}\n",
       "\n",
       "#sk-container-id-5 div.sk-label-container {\n",
       "  text-align: center;\n",
       "}\n",
       "\n",
       "/* Estimator-specific */\n",
       "#sk-container-id-5 div.sk-estimator {\n",
       "  font-family: monospace;\n",
       "  border: 1px dotted var(--sklearn-color-border-box);\n",
       "  border-radius: 0.25em;\n",
       "  box-sizing: border-box;\n",
       "  margin-bottom: 0.5em;\n",
       "  /* unfitted */\n",
       "  background-color: var(--sklearn-color-unfitted-level-0);\n",
       "}\n",
       "\n",
       "#sk-container-id-5 div.sk-estimator.fitted {\n",
       "  /* fitted */\n",
       "  background-color: var(--sklearn-color-fitted-level-0);\n",
       "}\n",
       "\n",
       "/* on hover */\n",
       "#sk-container-id-5 div.sk-estimator:hover {\n",
       "  /* unfitted */\n",
       "  background-color: var(--sklearn-color-unfitted-level-2);\n",
       "}\n",
       "\n",
       "#sk-container-id-5 div.sk-estimator.fitted:hover {\n",
       "  /* fitted */\n",
       "  background-color: var(--sklearn-color-fitted-level-2);\n",
       "}\n",
       "\n",
       "/* Specification for estimator info (e.g. \"i\" and \"?\") */\n",
       "\n",
       "/* Common style for \"i\" and \"?\" */\n",
       "\n",
       ".sk-estimator-doc-link,\n",
       "a:link.sk-estimator-doc-link,\n",
       "a:visited.sk-estimator-doc-link {\n",
       "  float: right;\n",
       "  font-size: smaller;\n",
       "  line-height: 1em;\n",
       "  font-family: monospace;\n",
       "  background-color: var(--sklearn-color-background);\n",
       "  border-radius: 1em;\n",
       "  height: 1em;\n",
       "  width: 1em;\n",
       "  text-decoration: none !important;\n",
       "  margin-left: 0.5em;\n",
       "  text-align: center;\n",
       "  /* unfitted */\n",
       "  border: var(--sklearn-color-unfitted-level-1) 1pt solid;\n",
       "  color: var(--sklearn-color-unfitted-level-1);\n",
       "}\n",
       "\n",
       ".sk-estimator-doc-link.fitted,\n",
       "a:link.sk-estimator-doc-link.fitted,\n",
       "a:visited.sk-estimator-doc-link.fitted {\n",
       "  /* fitted */\n",
       "  border: var(--sklearn-color-fitted-level-1) 1pt solid;\n",
       "  color: var(--sklearn-color-fitted-level-1);\n",
       "}\n",
       "\n",
       "/* On hover */\n",
       "div.sk-estimator:hover .sk-estimator-doc-link:hover,\n",
       ".sk-estimator-doc-link:hover,\n",
       "div.sk-label-container:hover .sk-estimator-doc-link:hover,\n",
       ".sk-estimator-doc-link:hover {\n",
       "  /* unfitted */\n",
       "  background-color: var(--sklearn-color-unfitted-level-3);\n",
       "  color: var(--sklearn-color-background);\n",
       "  text-decoration: none;\n",
       "}\n",
       "\n",
       "div.sk-estimator.fitted:hover .sk-estimator-doc-link.fitted:hover,\n",
       ".sk-estimator-doc-link.fitted:hover,\n",
       "div.sk-label-container:hover .sk-estimator-doc-link.fitted:hover,\n",
       ".sk-estimator-doc-link.fitted:hover {\n",
       "  /* fitted */\n",
       "  background-color: var(--sklearn-color-fitted-level-3);\n",
       "  color: var(--sklearn-color-background);\n",
       "  text-decoration: none;\n",
       "}\n",
       "\n",
       "/* Span, style for the box shown on hovering the info icon */\n",
       ".sk-estimator-doc-link span {\n",
       "  display: none;\n",
       "  z-index: 9999;\n",
       "  position: relative;\n",
       "  font-weight: normal;\n",
       "  right: .2ex;\n",
       "  padding: .5ex;\n",
       "  margin: .5ex;\n",
       "  width: min-content;\n",
       "  min-width: 20ex;\n",
       "  max-width: 50ex;\n",
       "  color: var(--sklearn-color-text);\n",
       "  box-shadow: 2pt 2pt 4pt #999;\n",
       "  /* unfitted */\n",
       "  background: var(--sklearn-color-unfitted-level-0);\n",
       "  border: .5pt solid var(--sklearn-color-unfitted-level-3);\n",
       "}\n",
       "\n",
       ".sk-estimator-doc-link.fitted span {\n",
       "  /* fitted */\n",
       "  background: var(--sklearn-color-fitted-level-0);\n",
       "  border: var(--sklearn-color-fitted-level-3);\n",
       "}\n",
       "\n",
       ".sk-estimator-doc-link:hover span {\n",
       "  display: block;\n",
       "}\n",
       "\n",
       "/* \"?\"-specific style due to the `<a>` HTML tag */\n",
       "\n",
       "#sk-container-id-5 a.estimator_doc_link {\n",
       "  float: right;\n",
       "  font-size: 1rem;\n",
       "  line-height: 1em;\n",
       "  font-family: monospace;\n",
       "  background-color: var(--sklearn-color-background);\n",
       "  border-radius: 1rem;\n",
       "  height: 1rem;\n",
       "  width: 1rem;\n",
       "  text-decoration: none;\n",
       "  /* unfitted */\n",
       "  color: var(--sklearn-color-unfitted-level-1);\n",
       "  border: var(--sklearn-color-unfitted-level-1) 1pt solid;\n",
       "}\n",
       "\n",
       "#sk-container-id-5 a.estimator_doc_link.fitted {\n",
       "  /* fitted */\n",
       "  border: var(--sklearn-color-fitted-level-1) 1pt solid;\n",
       "  color: var(--sklearn-color-fitted-level-1);\n",
       "}\n",
       "\n",
       "/* On hover */\n",
       "#sk-container-id-5 a.estimator_doc_link:hover {\n",
       "  /* unfitted */\n",
       "  background-color: var(--sklearn-color-unfitted-level-3);\n",
       "  color: var(--sklearn-color-background);\n",
       "  text-decoration: none;\n",
       "}\n",
       "\n",
       "#sk-container-id-5 a.estimator_doc_link.fitted:hover {\n",
       "  /* fitted */\n",
       "  background-color: var(--sklearn-color-fitted-level-3);\n",
       "}\n",
       "\n",
       ".estimator-table summary {\n",
       "    padding: .5rem;\n",
       "    font-family: monospace;\n",
       "    cursor: pointer;\n",
       "}\n",
       "\n",
       ".estimator-table details[open] {\n",
       "    padding-left: 0.1rem;\n",
       "    padding-right: 0.1rem;\n",
       "    padding-bottom: 0.3rem;\n",
       "}\n",
       "\n",
       ".estimator-table .parameters-table {\n",
       "    margin-left: auto !important;\n",
       "    margin-right: auto !important;\n",
       "}\n",
       "\n",
       ".estimator-table .parameters-table tr:nth-child(odd) {\n",
       "    background-color: #fff;\n",
       "}\n",
       "\n",
       ".estimator-table .parameters-table tr:nth-child(even) {\n",
       "    background-color: #f6f6f6;\n",
       "}\n",
       "\n",
       ".estimator-table .parameters-table tr:hover {\n",
       "    background-color: #e0e0e0;\n",
       "}\n",
       "\n",
       ".estimator-table table td {\n",
       "    border: 1px solid rgba(106, 105, 104, 0.232);\n",
       "}\n",
       "\n",
       ".user-set td {\n",
       "    color:rgb(255, 94, 0);\n",
       "    text-align: left;\n",
       "}\n",
       "\n",
       ".user-set td.value pre {\n",
       "    color:rgb(255, 94, 0) !important;\n",
       "    background-color: transparent !important;\n",
       "}\n",
       "\n",
       ".default td {\n",
       "    color: black;\n",
       "    text-align: left;\n",
       "}\n",
       "\n",
       ".user-set td i,\n",
       ".default td i {\n",
       "    color: black;\n",
       "}\n",
       "\n",
       ".copy-paste-icon {\n",
       "    background-image: url(data:image/svg+xml;base64,PHN2ZyB4bWxucz0iaHR0cDovL3d3dy53My5vcmcvMjAwMC9zdmciIHZpZXdCb3g9IjAgMCA0NDggNTEyIj48IS0tIUZvbnQgQXdlc29tZSBGcmVlIDYuNy4yIGJ5IEBmb250YXdlc29tZSAtIGh0dHBzOi8vZm9udGF3ZXNvbWUuY29tIExpY2Vuc2UgLSBodHRwczovL2ZvbnRhd2Vzb21lLmNvbS9saWNlbnNlL2ZyZWUgQ29weXJpZ2h0IDIwMjUgRm9udGljb25zLCBJbmMuLS0+PHBhdGggZD0iTTIwOCAwTDMzMi4xIDBjMTIuNyAwIDI0LjkgNS4xIDMzLjkgMTQuMWw2Ny45IDY3LjljOSA5IDE0LjEgMjEuMiAxNC4xIDMzLjlMNDQ4IDMzNmMwIDI2LjUtMjEuNSA0OC00OCA0OGwtMTkyIDBjLTI2LjUgMC00OC0yMS41LTQ4LTQ4bDAtMjg4YzAtMjYuNSAyMS41LTQ4IDQ4LTQ4ek00OCAxMjhsODAgMCAwIDY0LTY0IDAgMCAyNTYgMTkyIDAgMC0zMiA2NCAwIDAgNDhjMCAyNi41LTIxLjUgNDgtNDggNDhMNDggNTEyYy0yNi41IDAtNDgtMjEuNS00OC00OEwwIDE3NmMwLTI2LjUgMjEuNS00OCA0OC00OHoiLz48L3N2Zz4=);\n",
       "    background-repeat: no-repeat;\n",
       "    background-size: 14px 14px;\n",
       "    background-position: 0;\n",
       "    display: inline-block;\n",
       "    width: 14px;\n",
       "    height: 14px;\n",
       "    cursor: pointer;\n",
       "}\n",
       "</style><body><div id=\"sk-container-id-5\" class=\"sk-top-container\"><div class=\"sk-text-repr-fallback\"><pre>SGDRegressor(alpha=0.001, verbose=True)</pre><b>In a Jupyter environment, please rerun this cell to show the HTML representation or trust the notebook. <br />On GitHub, the HTML representation is unable to render, please try loading this page with nbviewer.org.</b></div><div class=\"sk-container\" hidden><div class=\"sk-item\"><div class=\"sk-estimator fitted sk-toggleable\"><input class=\"sk-toggleable__control sk-hidden--visually\" id=\"sk-estimator-id-5\" type=\"checkbox\" checked><label for=\"sk-estimator-id-5\" class=\"sk-toggleable__label fitted sk-toggleable__label-arrow\"><div><div>SGDRegressor</div></div><div><a class=\"sk-estimator-doc-link fitted\" rel=\"noreferrer\" target=\"_blank\" href=\"https://scikit-learn.org/1.7/modules/generated/sklearn.linear_model.SGDRegressor.html\">?<span>Documentation for SGDRegressor</span></a><span class=\"sk-estimator-doc-link fitted\">i<span>Fitted</span></span></div></label><div class=\"sk-toggleable__content fitted\" data-param-prefix=\"\">\n",
       "        <div class=\"estimator-table\">\n",
       "            <details>\n",
       "                <summary>Parameters</summary>\n",
       "                <table class=\"parameters-table\">\n",
       "                  <tbody>\n",
       "                    \n",
       "        <tr class=\"default\">\n",
       "            <td><i class=\"copy-paste-icon\"\n",
       "                 onclick=\"copyToClipboard('loss',\n",
       "                          this.parentElement.nextElementSibling)\"\n",
       "            ></i></td>\n",
       "            <td class=\"param\">loss&nbsp;</td>\n",
       "            <td class=\"value\">&#x27;squared_error&#x27;</td>\n",
       "        </tr>\n",
       "    \n",
       "\n",
       "        <tr class=\"default\">\n",
       "            <td><i class=\"copy-paste-icon\"\n",
       "                 onclick=\"copyToClipboard('penalty',\n",
       "                          this.parentElement.nextElementSibling)\"\n",
       "            ></i></td>\n",
       "            <td class=\"param\">penalty&nbsp;</td>\n",
       "            <td class=\"value\">&#x27;l2&#x27;</td>\n",
       "        </tr>\n",
       "    \n",
       "\n",
       "        <tr class=\"user-set\">\n",
       "            <td><i class=\"copy-paste-icon\"\n",
       "                 onclick=\"copyToClipboard('alpha',\n",
       "                          this.parentElement.nextElementSibling)\"\n",
       "            ></i></td>\n",
       "            <td class=\"param\">alpha&nbsp;</td>\n",
       "            <td class=\"value\">0.001</td>\n",
       "        </tr>\n",
       "    \n",
       "\n",
       "        <tr class=\"default\">\n",
       "            <td><i class=\"copy-paste-icon\"\n",
       "                 onclick=\"copyToClipboard('l1_ratio',\n",
       "                          this.parentElement.nextElementSibling)\"\n",
       "            ></i></td>\n",
       "            <td class=\"param\">l1_ratio&nbsp;</td>\n",
       "            <td class=\"value\">0.15</td>\n",
       "        </tr>\n",
       "    \n",
       "\n",
       "        <tr class=\"default\">\n",
       "            <td><i class=\"copy-paste-icon\"\n",
       "                 onclick=\"copyToClipboard('fit_intercept',\n",
       "                          this.parentElement.nextElementSibling)\"\n",
       "            ></i></td>\n",
       "            <td class=\"param\">fit_intercept&nbsp;</td>\n",
       "            <td class=\"value\">True</td>\n",
       "        </tr>\n",
       "    \n",
       "\n",
       "        <tr class=\"default\">\n",
       "            <td><i class=\"copy-paste-icon\"\n",
       "                 onclick=\"copyToClipboard('max_iter',\n",
       "                          this.parentElement.nextElementSibling)\"\n",
       "            ></i></td>\n",
       "            <td class=\"param\">max_iter&nbsp;</td>\n",
       "            <td class=\"value\">1000</td>\n",
       "        </tr>\n",
       "    \n",
       "\n",
       "        <tr class=\"default\">\n",
       "            <td><i class=\"copy-paste-icon\"\n",
       "                 onclick=\"copyToClipboard('tol',\n",
       "                          this.parentElement.nextElementSibling)\"\n",
       "            ></i></td>\n",
       "            <td class=\"param\">tol&nbsp;</td>\n",
       "            <td class=\"value\">0.001</td>\n",
       "        </tr>\n",
       "    \n",
       "\n",
       "        <tr class=\"default\">\n",
       "            <td><i class=\"copy-paste-icon\"\n",
       "                 onclick=\"copyToClipboard('shuffle',\n",
       "                          this.parentElement.nextElementSibling)\"\n",
       "            ></i></td>\n",
       "            <td class=\"param\">shuffle&nbsp;</td>\n",
       "            <td class=\"value\">True</td>\n",
       "        </tr>\n",
       "    \n",
       "\n",
       "        <tr class=\"user-set\">\n",
       "            <td><i class=\"copy-paste-icon\"\n",
       "                 onclick=\"copyToClipboard('verbose',\n",
       "                          this.parentElement.nextElementSibling)\"\n",
       "            ></i></td>\n",
       "            <td class=\"param\">verbose&nbsp;</td>\n",
       "            <td class=\"value\">True</td>\n",
       "        </tr>\n",
       "    \n",
       "\n",
       "        <tr class=\"default\">\n",
       "            <td><i class=\"copy-paste-icon\"\n",
       "                 onclick=\"copyToClipboard('epsilon',\n",
       "                          this.parentElement.nextElementSibling)\"\n",
       "            ></i></td>\n",
       "            <td class=\"param\">epsilon&nbsp;</td>\n",
       "            <td class=\"value\">0.1</td>\n",
       "        </tr>\n",
       "    \n",
       "\n",
       "        <tr class=\"default\">\n",
       "            <td><i class=\"copy-paste-icon\"\n",
       "                 onclick=\"copyToClipboard('random_state',\n",
       "                          this.parentElement.nextElementSibling)\"\n",
       "            ></i></td>\n",
       "            <td class=\"param\">random_state&nbsp;</td>\n",
       "            <td class=\"value\">None</td>\n",
       "        </tr>\n",
       "    \n",
       "\n",
       "        <tr class=\"default\">\n",
       "            <td><i class=\"copy-paste-icon\"\n",
       "                 onclick=\"copyToClipboard('learning_rate',\n",
       "                          this.parentElement.nextElementSibling)\"\n",
       "            ></i></td>\n",
       "            <td class=\"param\">learning_rate&nbsp;</td>\n",
       "            <td class=\"value\">&#x27;invscaling&#x27;</td>\n",
       "        </tr>\n",
       "    \n",
       "\n",
       "        <tr class=\"default\">\n",
       "            <td><i class=\"copy-paste-icon\"\n",
       "                 onclick=\"copyToClipboard('eta0',\n",
       "                          this.parentElement.nextElementSibling)\"\n",
       "            ></i></td>\n",
       "            <td class=\"param\">eta0&nbsp;</td>\n",
       "            <td class=\"value\">0.01</td>\n",
       "        </tr>\n",
       "    \n",
       "\n",
       "        <tr class=\"default\">\n",
       "            <td><i class=\"copy-paste-icon\"\n",
       "                 onclick=\"copyToClipboard('power_t',\n",
       "                          this.parentElement.nextElementSibling)\"\n",
       "            ></i></td>\n",
       "            <td class=\"param\">power_t&nbsp;</td>\n",
       "            <td class=\"value\">0.25</td>\n",
       "        </tr>\n",
       "    \n",
       "\n",
       "        <tr class=\"default\">\n",
       "            <td><i class=\"copy-paste-icon\"\n",
       "                 onclick=\"copyToClipboard('early_stopping',\n",
       "                          this.parentElement.nextElementSibling)\"\n",
       "            ></i></td>\n",
       "            <td class=\"param\">early_stopping&nbsp;</td>\n",
       "            <td class=\"value\">False</td>\n",
       "        </tr>\n",
       "    \n",
       "\n",
       "        <tr class=\"default\">\n",
       "            <td><i class=\"copy-paste-icon\"\n",
       "                 onclick=\"copyToClipboard('validation_fraction',\n",
       "                          this.parentElement.nextElementSibling)\"\n",
       "            ></i></td>\n",
       "            <td class=\"param\">validation_fraction&nbsp;</td>\n",
       "            <td class=\"value\">0.1</td>\n",
       "        </tr>\n",
       "    \n",
       "\n",
       "        <tr class=\"default\">\n",
       "            <td><i class=\"copy-paste-icon\"\n",
       "                 onclick=\"copyToClipboard('n_iter_no_change',\n",
       "                          this.parentElement.nextElementSibling)\"\n",
       "            ></i></td>\n",
       "            <td class=\"param\">n_iter_no_change&nbsp;</td>\n",
       "            <td class=\"value\">5</td>\n",
       "        </tr>\n",
       "    \n",
       "\n",
       "        <tr class=\"default\">\n",
       "            <td><i class=\"copy-paste-icon\"\n",
       "                 onclick=\"copyToClipboard('warm_start',\n",
       "                          this.parentElement.nextElementSibling)\"\n",
       "            ></i></td>\n",
       "            <td class=\"param\">warm_start&nbsp;</td>\n",
       "            <td class=\"value\">False</td>\n",
       "        </tr>\n",
       "    \n",
       "\n",
       "        <tr class=\"default\">\n",
       "            <td><i class=\"copy-paste-icon\"\n",
       "                 onclick=\"copyToClipboard('average',\n",
       "                          this.parentElement.nextElementSibling)\"\n",
       "            ></i></td>\n",
       "            <td class=\"param\">average&nbsp;</td>\n",
       "            <td class=\"value\">False</td>\n",
       "        </tr>\n",
       "    \n",
       "                  </tbody>\n",
       "                </table>\n",
       "            </details>\n",
       "        </div>\n",
       "    </div></div></div></div></div><script>function copyToClipboard(text, element) {\n",
       "    // Get the parameter prefix from the closest toggleable content\n",
       "    const toggleableContent = element.closest('.sk-toggleable__content');\n",
       "    const paramPrefix = toggleableContent ? toggleableContent.dataset.paramPrefix : '';\n",
       "    const fullParamName = paramPrefix ? `${paramPrefix}${text}` : text;\n",
       "\n",
       "    const originalStyle = element.style;\n",
       "    const computedStyle = window.getComputedStyle(element);\n",
       "    const originalWidth = computedStyle.width;\n",
       "    const originalHTML = element.innerHTML.replace('Copied!', '');\n",
       "\n",
       "    navigator.clipboard.writeText(fullParamName)\n",
       "        .then(() => {\n",
       "            element.style.width = originalWidth;\n",
       "            element.style.color = 'green';\n",
       "            element.innerHTML = \"Copied!\";\n",
       "\n",
       "            setTimeout(() => {\n",
       "                element.innerHTML = originalHTML;\n",
       "                element.style = originalStyle;\n",
       "            }, 2000);\n",
       "        })\n",
       "        .catch(err => {\n",
       "            console.error('Failed to copy:', err);\n",
       "            element.style.color = 'red';\n",
       "            element.innerHTML = \"Failed!\";\n",
       "            setTimeout(() => {\n",
       "                element.innerHTML = originalHTML;\n",
       "                element.style = originalStyle;\n",
       "            }, 2000);\n",
       "        });\n",
       "    return false;\n",
       "}\n",
       "\n",
       "document.querySelectorAll('.fa-regular.fa-copy').forEach(function(element) {\n",
       "    const toggleableContent = element.closest('.sk-toggleable__content');\n",
       "    const paramPrefix = toggleableContent ? toggleableContent.dataset.paramPrefix : '';\n",
       "    const paramName = element.parentElement.nextElementSibling.textContent.trim();\n",
       "    const fullParamName = paramPrefix ? `${paramPrefix}${paramName}` : paramName;\n",
       "\n",
       "    element.setAttribute('title', fullParamName);\n",
       "});\n",
       "</script></body>"
      ],
      "text/plain": [
       "SGDRegressor(alpha=0.001, verbose=True)"
      ]
     },
     "execution_count": 99,
     "metadata": {},
     "output_type": "execute_result"
    }
   ],
   "source": [
    "\n",
    "model = SGDRegressor(loss=\"squared_error\",alpha=0.001,verbose=True)\n",
    "model.fit(X_train,y_train)\n"
   ]
  },
  {
   "cell_type": "code",
   "execution_count": 100,
   "id": "e75fe61e",
   "metadata": {},
   "outputs": [
    {
     "data": {
      "text/plain": [
       "0.8575192428748571"
      ]
     },
     "execution_count": 100,
     "metadata": {},
     "output_type": "execute_result"
    }
   ],
   "source": [
    "\n",
    "y_pred = model.predict(X_test)\n",
    "r2_score(y_test,y_pred)"
   ]
  },
  {
   "cell_type": "code",
   "execution_count": 103,
   "id": "bce6638f",
   "metadata": {},
   "outputs": [],
   "source": [
    "\n",
    "x_line = np.linspace(min(X_train),max(X_train),100)\n",
    "y_line = model.predict(x_line.reshape(-1,1))"
   ]
  },
  {
   "cell_type": "code",
   "execution_count": 111,
   "id": "a80bb955",
   "metadata": {},
   "outputs": [
    {
     "data": {
      "image/png": "[encoded data removed]",
      "text/plain": [
       "<Figure size 640x480 with 1 Axes>"
      ]
     },
     "metadata": {},
     "output_type": "display_data"
    }
   ],
   "source": [
    "\n",
    "plt.plot(x_line,y_line,c=\"blue\")\n",
    "plt.scatter(x=X,y=y,s=50,c=\"black\")\n",
    "plt.axis(\"off\")\n",
    "plt.show()"
   ]
  },
  {
   "cell_type": "markdown",
   "id": "a33a5c69",
   "metadata": {},
   "source": [
    "<br>\n",
    "<br>\n",
    "\n",
    "# `#07 Multiple Linear Regression:`\n",
    "\n",
    "<br>\n",
    "<br>"
   ]
  },
  {
   "cell_type": "code",
   "execution_count": 19,
   "id": "a319be30",
   "metadata": {},
   "outputs": [
    {
     "data": {
      "text/plain": [
       "((100, 2), (100,))"
      ]
     },
     "execution_count": 19,
     "metadata": {},
     "output_type": "execute_result"
    }
   ],
   "source": [
    "import random\n",
    "import numpy as np \n",
    "import seaborn as sns \n",
    "import matplotlib.pyplot as plt \n",
    "import plotly.graph_objects as go \n",
    "from sklearn.datasets import make_regression\n",
    "\n",
    "random.seed(42)\n",
    "np.random.seed(42)\n",
    "\n",
    "X,y = make_regression(n_samples=100,n_features=2,random_state=42,noise=40)\n",
    "X.shape,y.shape"
   ]
  },
  {
   "cell_type": "code",
   "execution_count": 20,
   "id": "cdb398f4",
   "metadata": {},
   "outputs": [
    {
     "data": {
      "image/png": "[encoded data removed]",
      "text/plain": [
       "<Figure size 640x480 with 1 Axes>"
      ]
     },
     "metadata": {},
     "output_type": "display_data"
    }
   ],
   "source": [
    "\n",
    "ax = plt.figure()\n",
    "fig = ax.add_subplot(111,projection=\"3d\")\n",
    "fig.scatter(X[:,0],X[:,1],y,c=\"black\",marker=\"o\",s=50)\n",
    "plt.show()"
   ]
  },
  {
   "cell_type": "code",
   "execution_count": 21,
   "id": "dfa67c08",
   "metadata": {},
   "outputs": [
    {
     "name": "stdout",
     "output_type": "stream",
     "text": [
      "X_train shape: (80, 2)\n",
      "y_train shape: (80,)\n",
      "X_test shape: (20, 2)\n",
      "y_test shape: (20,)\n"
     ]
    }
   ],
   "source": [
    "\n",
    "\n",
    "from sklearn.metrics import r2_score\n",
    "from sklearn.linear_model import SGDRegressor\n",
    "from sklearn.model_selection import train_test_split\n",
    "\n",
    "X_train,X_test,y_train,y_test = train_test_split(X,y,train_size=80,random_state=42)\n",
    "\n",
    "print(f\"X_train shape: {X_train.shape}\")\n",
    "print(f\"y_train shape: {y_train.shape}\")\n",
    "print(f\"X_test shape: {X_test.shape}\")\n",
    "print(f\"y_test shape: {y_test.shape}\")\n"
   ]
  },
  {
   "cell_type": "code",
   "execution_count": 22,
   "id": "9073cb7b",
   "metadata": {},
   "outputs": [
    {
     "name": "stdout",
     "output_type": "stream",
     "text": [
      "-- Epoch 1\n",
      "Norm: 28.64, NNZs: 2, Bias: -3.868888, T: 80, Avg. loss: 4835.753163\n",
      "Total training time: 0.00 seconds.\n",
      "-- Epoch 2\n",
      "Norm: 43.72, NNZs: 2, Bias: -4.592919, T: 160, Avg. loss: 3261.932856\n",
      "Total training time: 0.00 seconds.\n",
      "-- Epoch 3\n",
      "Norm: 54.25, NNZs: 2, Bias: -4.837118, T: 240, Avg. loss: 2486.768534\n",
      "Total training time: 0.00 seconds.\n",
      "-- Epoch 4\n",
      "Norm: 62.12, NNZs: 2, Bias: -4.902800, T: 320, Avg. loss: 2026.012469\n",
      "Total training time: 0.00 seconds.\n",
      "-- Epoch 5\n",
      "Norm: 68.16, NNZs: 2, Bias: -4.823536, T: 400, Avg. loss: 1727.143141\n",
      "Total training time: 0.00 seconds.\n",
      "-- Epoch 6\n",
      "Norm: 72.98, NNZs: 2, Bias: -4.700545, T: 480, Avg. loss: 1525.246292\n",
      "Total training time: 0.00 seconds.\n",
      "-- Epoch 7\n",
      "Norm: 76.90, NNZs: 2, Bias: -4.527150, T: 560, Avg. loss: 1382.120193\n",
      "Total training time: 0.00 seconds.\n",
      "-- Epoch 8\n",
      "Norm: 80.02, NNZs: 2, Bias: -4.284901, T: 640, Avg. loss: 1277.281240\n",
      "Total training time: 0.00 seconds.\n",
      "-- Epoch 9\n",
      "Norm: 82.63, NNZs: 2, Bias: -4.111741, T: 720, Avg. loss: 1202.024812\n",
      "Total training time: 0.00 seconds.\n",
      "-- Epoch 10\n",
      "Norm: 84.83, NNZs: 2, Bias: -3.965431, T: 800, Avg. loss: 1146.696654\n",
      "Total training time: 0.00 seconds.\n",
      "-- Epoch 11\n",
      "Norm: 86.67, NNZs: 2, Bias: -3.740198, T: 880, Avg. loss: 1101.346192\n",
      "Total training time: 0.01 seconds.\n",
      "-- Epoch 12\n",
      "Norm: 88.19, NNZs: 2, Bias: -3.541678, T: 960, Avg. loss: 1065.240941\n",
      "Total training time: 0.01 seconds.\n",
      "-- Epoch 13\n",
      "Norm: 89.48, NNZs: 2, Bias: -3.342268, T: 1040, Avg. loss: 1037.150975\n",
      "Total training time: 0.01 seconds.\n",
      "-- Epoch 14\n",
      "Norm: 90.58, NNZs: 2, Bias: -3.153663, T: 1120, Avg. loss: 1016.154060\n",
      "Total training time: 0.01 seconds.\n",
      "-- Epoch 15\n",
      "Norm: 91.56, NNZs: 2, Bias: -2.977124, T: 1200, Avg. loss: 1000.538486\n",
      "Total training time: 0.01 seconds.\n",
      "-- Epoch 16\n",
      "Norm: 92.39, NNZs: 2, Bias: -2.805385, T: 1280, Avg. loss: 985.282510\n",
      "Total training time: 0.01 seconds.\n",
      "-- Epoch 17\n",
      "Norm: 93.09, NNZs: 2, Bias: -2.661917, T: 1360, Avg. loss: 971.529441\n",
      "Total training time: 0.01 seconds.\n",
      "-- Epoch 18\n",
      "Norm: 93.74, NNZs: 2, Bias: -2.549966, T: 1440, Avg. loss: 965.188178\n",
      "Total training time: 0.01 seconds.\n",
      "-- Epoch 19\n",
      "Norm: 94.30, NNZs: 2, Bias: -2.443197, T: 1520, Avg. loss: 955.990463\n",
      "Total training time: 0.01 seconds.\n",
      "-- Epoch 20\n",
      "Norm: 94.78, NNZs: 2, Bias: -2.336579, T: 1600, Avg. loss: 949.156740\n",
      "Total training time: 0.01 seconds.\n",
      "-- Epoch 21\n",
      "Norm: 95.17, NNZs: 2, Bias: -2.230080, T: 1680, Avg. loss: 940.532968\n",
      "Total training time: 0.01 seconds.\n",
      "-- Epoch 22\n",
      "Norm: 95.55, NNZs: 2, Bias: -2.125911, T: 1760, Avg. loss: 938.948224\n",
      "Total training time: 0.01 seconds.\n",
      "-- Epoch 23\n",
      "Norm: 95.87, NNZs: 2, Bias: -2.034785, T: 1840, Avg. loss: 931.666173\n",
      "Total training time: 0.01 seconds.\n",
      "-- Epoch 24\n",
      "Norm: 96.14, NNZs: 2, Bias: -1.969521, T: 1920, Avg. loss: 928.941312\n",
      "Total training time: 0.01 seconds.\n",
      "-- Epoch 25\n",
      "Norm: 96.39, NNZs: 2, Bias: -1.904693, T: 2000, Avg. loss: 926.115351\n",
      "Total training time: 0.01 seconds.\n",
      "-- Epoch 26\n",
      "Norm: 96.59, NNZs: 2, Bias: -1.862921, T: 2080, Avg. loss: 920.820258\n",
      "Total training time: 0.01 seconds.\n",
      "-- Epoch 27\n",
      "Norm: 96.76, NNZs: 2, Bias: -1.771276, T: 2160, Avg. loss: 918.346056\n",
      "Total training time: 0.01 seconds.\n",
      "-- Epoch 28\n",
      "Norm: 96.90, NNZs: 2, Bias: -1.688214, T: 2240, Avg. loss: 916.768466\n",
      "Total training time: 0.01 seconds.\n",
      "-- Epoch 29\n",
      "Norm: 97.02, NNZs: 2, Bias: -1.621791, T: 2320, Avg. loss: 913.957623\n",
      "Total training time: 0.01 seconds.\n",
      "-- Epoch 30\n",
      "Norm: 97.15, NNZs: 2, Bias: -1.574045, T: 2400, Avg. loss: 914.564924\n",
      "Total training time: 0.01 seconds.\n",
      "-- Epoch 31\n",
      "Norm: 97.31, NNZs: 2, Bias: -1.538790, T: 2480, Avg. loss: 918.101215\n",
      "Total training time: 0.01 seconds.\n",
      "-- Epoch 32\n",
      "Norm: 97.42, NNZs: 2, Bias: -1.489486, T: 2560, Avg. loss: 913.523440\n",
      "Total training time: 0.01 seconds.\n",
      "-- Epoch 33\n",
      "Norm: 97.50, NNZs: 2, Bias: -1.439140, T: 2640, Avg. loss: 908.888771\n",
      "Total training time: 0.01 seconds.\n",
      "-- Epoch 34\n",
      "Norm: 97.60, NNZs: 2, Bias: -1.396466, T: 2720, Avg. loss: 911.129657\n",
      "Total training time: 0.01 seconds.\n",
      "-- Epoch 35\n",
      "Norm: 97.69, NNZs: 2, Bias: -1.386158, T: 2800, Avg. loss: 910.868677\n",
      "Total training time: 0.01 seconds.\n",
      "-- Epoch 36\n",
      "Norm: 97.79, NNZs: 2, Bias: -1.379219, T: 2880, Avg. loss: 911.283413\n",
      "Total training time: 0.01 seconds.\n",
      "-- Epoch 37\n",
      "Norm: 97.83, NNZs: 2, Bias: -1.353856, T: 2960, Avg. loss: 906.946701\n",
      "Total training time: 0.01 seconds.\n",
      "-- Epoch 38\n",
      "Norm: 97.89, NNZs: 2, Bias: -1.319651, T: 3040, Avg. loss: 908.124675\n",
      "Total training time: 0.01 seconds.\n",
      "-- Epoch 39\n",
      "Norm: 97.94, NNZs: 2, Bias: -1.308229, T: 3120, Avg. loss: 906.180778\n",
      "Total training time: 0.01 seconds.\n",
      "-- Epoch 40\n",
      "Norm: 97.98, NNZs: 2, Bias: -1.263569, T: 3200, Avg. loss: 905.747322\n",
      "Total training time: 0.01 seconds.\n",
      "-- Epoch 41\n",
      "Norm: 98.01, NNZs: 2, Bias: -1.222970, T: 3280, Avg. loss: 904.640124\n",
      "Total training time: 0.01 seconds.\n",
      "-- Epoch 42\n",
      "Norm: 98.02, NNZs: 2, Bias: -1.211258, T: 3360, Avg. loss: 903.203450\n",
      "Total training time: 0.01 seconds.\n",
      "-- Epoch 43\n",
      "Norm: 98.05, NNZs: 2, Bias: -1.183418, T: 3440, Avg. loss: 904.844327\n",
      "Total training time: 0.01 seconds.\n",
      "-- Epoch 44\n",
      "Norm: 98.06, NNZs: 2, Bias: -1.157606, T: 3520, Avg. loss: 902.714742\n",
      "Total training time: 0.01 seconds.\n",
      "-- Epoch 45\n",
      "Norm: 98.08, NNZs: 2, Bias: -1.161975, T: 3600, Avg. loss: 903.720525\n",
      "Total training time: 0.01 seconds.\n",
      "-- Epoch 46\n",
      "Norm: 98.09, NNZs: 2, Bias: -1.150977, T: 3680, Avg. loss: 903.215162\n",
      "Total training time: 0.01 seconds.\n",
      "-- Epoch 47\n",
      "Norm: 98.13, NNZs: 2, Bias: -1.120757, T: 3760, Avg. loss: 904.733465\n",
      "Total training time: 0.01 seconds.\n",
      "-- Epoch 48\n",
      "Norm: 98.15, NNZs: 2, Bias: -1.121147, T: 3840, Avg. loss: 904.228295\n",
      "Total training time: 0.01 seconds.\n",
      "-- Epoch 49\n",
      "Norm: 98.19, NNZs: 2, Bias: -1.114323, T: 3920, Avg. loss: 904.880904\n",
      "Total training time: 0.01 seconds.\n",
      "Convergence after 49 epochs took 0.01 seconds\n"
     ]
    },
    {
     "data": {
      "text/html": [
       "<style>#sk-container-id-2 {\n",
       "  /* Definition of color scheme common for light and dark mode */\n",
       "  --sklearn-color-text: #000;\n",
       "  --sklearn-color-text-muted: #666;\n",
       "  --sklearn-color-line: gray;\n",
       "  /* Definition of color scheme for unfitted estimators */\n",
       "  --sklearn-color-unfitted-level-0: #fff5e6;\n",
       "  --sklearn-color-unfitted-level-1: #f6e4d2;\n",
       "  --sklearn-color-unfitted-level-2: #ffe0b3;\n",
       "  --sklearn-color-unfitted-level-3: chocolate;\n",
       "  /* Definition of color scheme for fitted estimators */\n",
       "  --sklearn-color-fitted-level-0: #f0f8ff;\n",
       "  --sklearn-color-fitted-level-1: #d4ebff;\n",
       "  --sklearn-color-fitted-level-2: #b3dbfd;\n",
       "  --sklearn-color-fitted-level-3: cornflowerblue;\n",
       "\n",
       "  /* Specific color for light theme */\n",
       "  --sklearn-color-text-on-default-background: var(--sg-text-color, var(--theme-code-foreground, var(--jp-content-font-color1, black)));\n",
       "  --sklearn-color-background: var(--sg-background-color, var(--theme-background, var(--jp-layout-color0, white)));\n",
       "  --sklearn-color-border-box: var(--sg-text-color, var(--theme-code-foreground, var(--jp-content-font-color1, black)));\n",
       "  --sklearn-color-icon: #696969;\n",
       "\n",
       "  @media (prefers-color-scheme: dark) {\n",
       "    /* Redefinition of color scheme for dark theme */\n",
       "    --sklearn-color-text-on-default-background: var(--sg-text-color, var(--theme-code-foreground, var(--jp-content-font-color1, white)));\n",
       "    --sklearn-color-background: var(--sg-background-color, var(--theme-background, var(--jp-layout-color0, #111)));\n",
       "    --sklearn-color-border-box: var(--sg-text-color, var(--theme-code-foreground, var(--jp-content-font-color1, white)));\n",
       "    --sklearn-color-icon: #878787;\n",
       "  }\n",
       "}\n",
       "\n",
       "#sk-container-id-2 {\n",
       "  color: var(--sklearn-color-text);\n",
       "}\n",
       "\n",
       "#sk-container-id-2 pre {\n",
       "  padding: 0;\n",
       "}\n",
       "\n",
       "#sk-container-id-2 input.sk-hidden--visually {\n",
       "  border: 0;\n",
       "  clip: rect(1px 1px 1px 1px);\n",
       "  clip: rect(1px, 1px, 1px, 1px);\n",
       "  height: 1px;\n",
       "  margin: -1px;\n",
       "  overflow: hidden;\n",
       "  padding: 0;\n",
       "  position: absolute;\n",
       "  width: 1px;\n",
       "}\n",
       "\n",
       "#sk-container-id-2 div.sk-dashed-wrapped {\n",
       "  border: 1px dashed var(--sklearn-color-line);\n",
       "  margin: 0 0.4em 0.5em 0.4em;\n",
       "  box-sizing: border-box;\n",
       "  padding-bottom: 0.4em;\n",
       "  background-color: var(--sklearn-color-background);\n",
       "}\n",
       "\n",
       "#sk-container-id-2 div.sk-container {\n",
       "  /* jupyter's `normalize.less` sets `[hidden] { display: none; }`\n",
       "     but bootstrap.min.css set `[hidden] { display: none !important; }`\n",
       "     so we also need the `!important` here to be able to override the\n",
       "     default hidden behavior on the sphinx rendered scikit-learn.org.\n",
       "     See: https://github.com/scikit-learn/scikit-learn/issues/21755 */\n",
       "  display: inline-block !important;\n",
       "  position: relative;\n",
       "}\n",
       "\n",
       "#sk-container-id-2 div.sk-text-repr-fallback {\n",
       "  display: none;\n",
       "}\n",
       "\n",
       "div.sk-parallel-item,\n",
       "div.sk-serial,\n",
       "div.sk-item {\n",
       "  /* draw centered vertical line to link estimators */\n",
       "  background-image: linear-gradient(var(--sklearn-color-text-on-default-background), var(--sklearn-color-text-on-default-background));\n",
       "  background-size: 2px 100%;\n",
       "  background-repeat: no-repeat;\n",
       "  background-position: center center;\n",
       "}\n",
       "\n",
       "/* Parallel-specific style estimator block */\n",
       "\n",
       "#sk-container-id-2 div.sk-parallel-item::after {\n",
       "  content: \"\";\n",
       "  width: 100%;\n",
       "  border-bottom: 2px solid var(--sklearn-color-text-on-default-background);\n",
       "  flex-grow: 1;\n",
       "}\n",
       "\n",
       "#sk-container-id-2 div.sk-parallel {\n",
       "  display: flex;\n",
       "  align-items: stretch;\n",
       "  justify-content: center;\n",
       "  background-color: var(--sklearn-color-background);\n",
       "  position: relative;\n",
       "}\n",
       "\n",
       "#sk-container-id-2 div.sk-parallel-item {\n",
       "  display: flex;\n",
       "  flex-direction: column;\n",
       "}\n",
       "\n",
       "#sk-container-id-2 div.sk-parallel-item:first-child::after {\n",
       "  align-self: flex-end;\n",
       "  width: 50%;\n",
       "}\n",
       "\n",
       "#sk-container-id-2 div.sk-parallel-item:last-child::after {\n",
       "  align-self: flex-start;\n",
       "  width: 50%;\n",
       "}\n",
       "\n",
       "#sk-container-id-2 div.sk-parallel-item:only-child::after {\n",
       "  width: 0;\n",
       "}\n",
       "\n",
       "/* Serial-specific style estimator block */\n",
       "\n",
       "#sk-container-id-2 div.sk-serial {\n",
       "  display: flex;\n",
       "  flex-direction: column;\n",
       "  align-items: center;\n",
       "  background-color: var(--sklearn-color-background);\n",
       "  padding-right: 1em;\n",
       "  padding-left: 1em;\n",
       "}\n",
       "\n",
       "\n",
       "/* Toggleable style: style used for estimator/Pipeline/ColumnTransformer box that is\n",
       "clickable and can be expanded/collapsed.\n",
       "- Pipeline and ColumnTransformer use this feature and define the default style\n",
       "- Estimators will overwrite some part of the style using the `sk-estimator` class\n",
       "*/\n",
       "\n",
       "/* Pipeline and ColumnTransformer style (default) */\n",
       "\n",
       "#sk-container-id-2 div.sk-toggleable {\n",
       "  /* Default theme specific background. It is overwritten whether we have a\n",
       "  specific estimator or a Pipeline/ColumnTransformer */\n",
       "  background-color: var(--sklearn-color-background);\n",
       "}\n",
       "\n",
       "/* Toggleable label */\n",
       "#sk-container-id-2 label.sk-toggleable__label {\n",
       "  cursor: pointer;\n",
       "  display: flex;\n",
       "  width: 100%;\n",
       "  margin-bottom: 0;\n",
       "  padding: 0.5em;\n",
       "  box-sizing: border-box;\n",
       "  text-align: center;\n",
       "  align-items: start;\n",
       "  justify-content: space-between;\n",
       "  gap: 0.5em;\n",
       "}\n",
       "\n",
       "#sk-container-id-2 label.sk-toggleable__label .caption {\n",
       "  font-size: 0.6rem;\n",
       "  font-weight: lighter;\n",
       "  color: var(--sklearn-color-text-muted);\n",
       "}\n",
       "\n",
       "#sk-container-id-2 label.sk-toggleable__label-arrow:before {\n",
       "  /* Arrow on the left of the label */\n",
       "  content: \"▸\";\n",
       "  float: left;\n",
       "  margin-right: 0.25em;\n",
       "  color: var(--sklearn-color-icon);\n",
       "}\n",
       "\n",
       "#sk-container-id-2 label.sk-toggleable__label-arrow:hover:before {\n",
       "  color: var(--sklearn-color-text);\n",
       "}\n",
       "\n",
       "/* Toggleable content - dropdown */\n",
       "\n",
       "#sk-container-id-2 div.sk-toggleable__content {\n",
       "  display: none;\n",
       "  text-align: left;\n",
       "  /* unfitted */\n",
       "  background-color: var(--sklearn-color-unfitted-level-0);\n",
       "}\n",
       "\n",
       "#sk-container-id-2 div.sk-toggleable__content.fitted {\n",
       "  /* fitted */\n",
       "  background-color: var(--sklearn-color-fitted-level-0);\n",
       "}\n",
       "\n",
       "#sk-container-id-2 div.sk-toggleable__content pre {\n",
       "  margin: 0.2em;\n",
       "  border-radius: 0.25em;\n",
       "  color: var(--sklearn-color-text);\n",
       "  /* unfitted */\n",
       "  background-color: var(--sklearn-color-unfitted-level-0);\n",
       "}\n",
       "\n",
       "#sk-container-id-2 div.sk-toggleable__content.fitted pre {\n",
       "  /* unfitted */\n",
       "  background-color: var(--sklearn-color-fitted-level-0);\n",
       "}\n",
       "\n",
       "#sk-container-id-2 input.sk-toggleable__control:checked~div.sk-toggleable__content {\n",
       "  /* Expand drop-down */\n",
       "  display: block;\n",
       "  width: 100%;\n",
       "  overflow: visible;\n",
       "}\n",
       "\n",
       "#sk-container-id-2 input.sk-toggleable__control:checked~label.sk-toggleable__label-arrow:before {\n",
       "  content: \"▾\";\n",
       "}\n",
       "\n",
       "/* Pipeline/ColumnTransformer-specific style */\n",
       "\n",
       "#sk-container-id-2 div.sk-label input.sk-toggleable__control:checked~label.sk-toggleable__label {\n",
       "  color: var(--sklearn-color-text);\n",
       "  background-color: var(--sklearn-color-unfitted-level-2);\n",
       "}\n",
       "\n",
       "#sk-container-id-2 div.sk-label.fitted input.sk-toggleable__control:checked~label.sk-toggleable__label {\n",
       "  background-color: var(--sklearn-color-fitted-level-2);\n",
       "}\n",
       "\n",
       "/* Estimator-specific style */\n",
       "\n",
       "/* Colorize estimator box */\n",
       "#sk-container-id-2 div.sk-estimator input.sk-toggleable__control:checked~label.sk-toggleable__label {\n",
       "  /* unfitted */\n",
       "  background-color: var(--sklearn-color-unfitted-level-2);\n",
       "}\n",
       "\n",
       "#sk-container-id-2 div.sk-estimator.fitted input.sk-toggleable__control:checked~label.sk-toggleable__label {\n",
       "  /* fitted */\n",
       "  background-color: var(--sklearn-color-fitted-level-2);\n",
       "}\n",
       "\n",
       "#sk-container-id-2 div.sk-label label.sk-toggleable__label,\n",
       "#sk-container-id-2 div.sk-label label {\n",
       "  /* The background is the default theme color */\n",
       "  color: var(--sklearn-color-text-on-default-background);\n",
       "}\n",
       "\n",
       "/* On hover, darken the color of the background */\n",
       "#sk-container-id-2 div.sk-label:hover label.sk-toggleable__label {\n",
       "  color: var(--sklearn-color-text);\n",
       "  background-color: var(--sklearn-color-unfitted-level-2);\n",
       "}\n",
       "\n",
       "/* Label box, darken color on hover, fitted */\n",
       "#sk-container-id-2 div.sk-label.fitted:hover label.sk-toggleable__label.fitted {\n",
       "  color: var(--sklearn-color-text);\n",
       "  background-color: var(--sklearn-color-fitted-level-2);\n",
       "}\n",
       "\n",
       "/* Estimator label */\n",
       "\n",
       "#sk-container-id-2 div.sk-label label {\n",
       "  font-family: monospace;\n",
       "  font-weight: bold;\n",
       "  display: inline-block;\n",
       "  line-height: 1.2em;\n",
       "}\n",
       "\n",
       "#sk-container-id-2 div.sk-label-container {\n",
       "  text-align: center;\n",
       "}\n",
       "\n",
       "/* Estimator-specific */\n",
       "#sk-container-id-2 div.sk-estimator {\n",
       "  font-family: monospace;\n",
       "  border: 1px dotted var(--sklearn-color-border-box);\n",
       "  border-radius: 0.25em;\n",
       "  box-sizing: border-box;\n",
       "  margin-bottom: 0.5em;\n",
       "  /* unfitted */\n",
       "  background-color: var(--sklearn-color-unfitted-level-0);\n",
       "}\n",
       "\n",
       "#sk-container-id-2 div.sk-estimator.fitted {\n",
       "  /* fitted */\n",
       "  background-color: var(--sklearn-color-fitted-level-0);\n",
       "}\n",
       "\n",
       "/* on hover */\n",
       "#sk-container-id-2 div.sk-estimator:hover {\n",
       "  /* unfitted */\n",
       "  background-color: var(--sklearn-color-unfitted-level-2);\n",
       "}\n",
       "\n",
       "#sk-container-id-2 div.sk-estimator.fitted:hover {\n",
       "  /* fitted */\n",
       "  background-color: var(--sklearn-color-fitted-level-2);\n",
       "}\n",
       "\n",
       "/* Specification for estimator info (e.g. \"i\" and \"?\") */\n",
       "\n",
       "/* Common style for \"i\" and \"?\" */\n",
       "\n",
       ".sk-estimator-doc-link,\n",
       "a:link.sk-estimator-doc-link,\n",
       "a:visited.sk-estimator-doc-link {\n",
       "  float: right;\n",
       "  font-size: smaller;\n",
       "  line-height: 1em;\n",
       "  font-family: monospace;\n",
       "  background-color: var(--sklearn-color-background);\n",
       "  border-radius: 1em;\n",
       "  height: 1em;\n",
       "  width: 1em;\n",
       "  text-decoration: none !important;\n",
       "  margin-left: 0.5em;\n",
       "  text-align: center;\n",
       "  /* unfitted */\n",
       "  border: var(--sklearn-color-unfitted-level-1) 1pt solid;\n",
       "  color: var(--sklearn-color-unfitted-level-1);\n",
       "}\n",
       "\n",
       ".sk-estimator-doc-link.fitted,\n",
       "a:link.sk-estimator-doc-link.fitted,\n",
       "a:visited.sk-estimator-doc-link.fitted {\n",
       "  /* fitted */\n",
       "  border: var(--sklearn-color-fitted-level-1) 1pt solid;\n",
       "  color: var(--sklearn-color-fitted-level-1);\n",
       "}\n",
       "\n",
       "/* On hover */\n",
       "div.sk-estimator:hover .sk-estimator-doc-link:hover,\n",
       ".sk-estimator-doc-link:hover,\n",
       "div.sk-label-container:hover .sk-estimator-doc-link:hover,\n",
       ".sk-estimator-doc-link:hover {\n",
       "  /* unfitted */\n",
       "  background-color: var(--sklearn-color-unfitted-level-3);\n",
       "  color: var(--sklearn-color-background);\n",
       "  text-decoration: none;\n",
       "}\n",
       "\n",
       "div.sk-estimator.fitted:hover .sk-estimator-doc-link.fitted:hover,\n",
       ".sk-estimator-doc-link.fitted:hover,\n",
       "div.sk-label-container:hover .sk-estimator-doc-link.fitted:hover,\n",
       ".sk-estimator-doc-link.fitted:hover {\n",
       "  /* fitted */\n",
       "  background-color: var(--sklearn-color-fitted-level-3);\n",
       "  color: var(--sklearn-color-background);\n",
       "  text-decoration: none;\n",
       "}\n",
       "\n",
       "/* Span, style for the box shown on hovering the info icon */\n",
       ".sk-estimator-doc-link span {\n",
       "  display: none;\n",
       "  z-index: 9999;\n",
       "  position: relative;\n",
       "  font-weight: normal;\n",
       "  right: .2ex;\n",
       "  padding: .5ex;\n",
       "  margin: .5ex;\n",
       "  width: min-content;\n",
       "  min-width: 20ex;\n",
       "  max-width: 50ex;\n",
       "  color: var(--sklearn-color-text);\n",
       "  box-shadow: 2pt 2pt 4pt #999;\n",
       "  /* unfitted */\n",
       "  background: var(--sklearn-color-unfitted-level-0);\n",
       "  border: .5pt solid var(--sklearn-color-unfitted-level-3);\n",
       "}\n",
       "\n",
       ".sk-estimator-doc-link.fitted span {\n",
       "  /* fitted */\n",
       "  background: var(--sklearn-color-fitted-level-0);\n",
       "  border: var(--sklearn-color-fitted-level-3);\n",
       "}\n",
       "\n",
       ".sk-estimator-doc-link:hover span {\n",
       "  display: block;\n",
       "}\n",
       "\n",
       "/* \"?\"-specific style due to the `<a>` HTML tag */\n",
       "\n",
       "#sk-container-id-2 a.estimator_doc_link {\n",
       "  float: right;\n",
       "  font-size: 1rem;\n",
       "  line-height: 1em;\n",
       "  font-family: monospace;\n",
       "  background-color: var(--sklearn-color-background);\n",
       "  border-radius: 1rem;\n",
       "  height: 1rem;\n",
       "  width: 1rem;\n",
       "  text-decoration: none;\n",
       "  /* unfitted */\n",
       "  color: var(--sklearn-color-unfitted-level-1);\n",
       "  border: var(--sklearn-color-unfitted-level-1) 1pt solid;\n",
       "}\n",
       "\n",
       "#sk-container-id-2 a.estimator_doc_link.fitted {\n",
       "  /* fitted */\n",
       "  border: var(--sklearn-color-fitted-level-1) 1pt solid;\n",
       "  color: var(--sklearn-color-fitted-level-1);\n",
       "}\n",
       "\n",
       "/* On hover */\n",
       "#sk-container-id-2 a.estimator_doc_link:hover {\n",
       "  /* unfitted */\n",
       "  background-color: var(--sklearn-color-unfitted-level-3);\n",
       "  color: var(--sklearn-color-background);\n",
       "  text-decoration: none;\n",
       "}\n",
       "\n",
       "#sk-container-id-2 a.estimator_doc_link.fitted:hover {\n",
       "  /* fitted */\n",
       "  background-color: var(--sklearn-color-fitted-level-3);\n",
       "}\n",
       "\n",
       ".estimator-table summary {\n",
       "    padding: .5rem;\n",
       "    font-family: monospace;\n",
       "    cursor: pointer;\n",
       "}\n",
       "\n",
       ".estimator-table details[open] {\n",
       "    padding-left: 0.1rem;\n",
       "    padding-right: 0.1rem;\n",
       "    padding-bottom: 0.3rem;\n",
       "}\n",
       "\n",
       ".estimator-table .parameters-table {\n",
       "    margin-left: auto !important;\n",
       "    margin-right: auto !important;\n",
       "}\n",
       "\n",
       ".estimator-table .parameters-table tr:nth-child(odd) {\n",
       "    background-color: #fff;\n",
       "}\n",
       "\n",
       ".estimator-table .parameters-table tr:nth-child(even) {\n",
       "    background-color: #f6f6f6;\n",
       "}\n",
       "\n",
       ".estimator-table .parameters-table tr:hover {\n",
       "    background-color: #e0e0e0;\n",
       "}\n",
       "\n",
       ".estimator-table table td {\n",
       "    border: 1px solid rgba(106, 105, 104, 0.232);\n",
       "}\n",
       "\n",
       ".user-set td {\n",
       "    color:rgb(255, 94, 0);\n",
       "    text-align: left;\n",
       "}\n",
       "\n",
       ".user-set td.value pre {\n",
       "    color:rgb(255, 94, 0) !important;\n",
       "    background-color: transparent !important;\n",
       "}\n",
       "\n",
       ".default td {\n",
       "    color: black;\n",
       "    text-align: left;\n",
       "}\n",
       "\n",
       ".user-set td i,\n",
       ".default td i {\n",
       "    color: black;\n",
       "}\n",
       "\n",
       ".copy-paste-icon {\n",
       "    background-image: url(data:image/svg+xml;base64,PHN2ZyB4bWxucz0iaHR0cDovL3d3dy53My5vcmcvMjAwMC9zdmciIHZpZXdCb3g9IjAgMCA0NDggNTEyIj48IS0tIUZvbnQgQXdlc29tZSBGcmVlIDYuNy4yIGJ5IEBmb250YXdlc29tZSAtIGh0dHBzOi8vZm9udGF3ZXNvbWUuY29tIExpY2Vuc2UgLSBodHRwczovL2ZvbnRhd2Vzb21lLmNvbS9saWNlbnNlL2ZyZWUgQ29weXJpZ2h0IDIwMjUgRm9udGljb25zLCBJbmMuLS0+PHBhdGggZD0iTTIwOCAwTDMzMi4xIDBjMTIuNyAwIDI0LjkgNS4xIDMzLjkgMTQuMWw2Ny45IDY3LjljOSA5IDE0LjEgMjEuMiAxNC4xIDMzLjlMNDQ4IDMzNmMwIDI2LjUtMjEuNSA0OC00OCA0OGwtMTkyIDBjLTI2LjUgMC00OC0yMS41LTQ4LTQ4bDAtMjg4YzAtMjYuNSAyMS41LTQ4IDQ4LTQ4ek00OCAxMjhsODAgMCAwIDY0LTY0IDAgMCAyNTYgMTkyIDAgMC0zMiA2NCAwIDAgNDhjMCAyNi41LTIxLjUgNDgtNDggNDhMNDggNTEyYy0yNi41IDAtNDgtMjEuNS00OC00OEwwIDE3NmMwLTI2LjUgMjEuNS00OCA0OC00OHoiLz48L3N2Zz4=);\n",
       "    background-repeat: no-repeat;\n",
       "    background-size: 14px 14px;\n",
       "    background-position: 0;\n",
       "    display: inline-block;\n",
       "    width: 14px;\n",
       "    height: 14px;\n",
       "    cursor: pointer;\n",
       "}\n",
       "</style><body><div id=\"sk-container-id-2\" class=\"sk-top-container\"><div class=\"sk-text-repr-fallback\"><pre>SGDRegressor(alpha=0.1, verbose=True)</pre><b>In a Jupyter environment, please rerun this cell to show the HTML representation or trust the notebook. <br />On GitHub, the HTML representation is unable to render, please try loading this page with nbviewer.org.</b></div><div class=\"sk-container\" hidden><div class=\"sk-item\"><div class=\"sk-estimator fitted sk-toggleable\"><input class=\"sk-toggleable__control sk-hidden--visually\" id=\"sk-estimator-id-2\" type=\"checkbox\" checked><label for=\"sk-estimator-id-2\" class=\"sk-toggleable__label fitted sk-toggleable__label-arrow\"><div><div>SGDRegressor</div></div><div><a class=\"sk-estimator-doc-link fitted\" rel=\"noreferrer\" target=\"_blank\" href=\"https://scikit-learn.org/1.7/modules/generated/sklearn.linear_model.SGDRegressor.html\">?<span>Documentation for SGDRegressor</span></a><span class=\"sk-estimator-doc-link fitted\">i<span>Fitted</span></span></div></label><div class=\"sk-toggleable__content fitted\" data-param-prefix=\"\">\n",
       "        <div class=\"estimator-table\">\n",
       "            <details>\n",
       "                <summary>Parameters</summary>\n",
       "                <table class=\"parameters-table\">\n",
       "                  <tbody>\n",
       "                    \n",
       "        <tr class=\"default\">\n",
       "            <td><i class=\"copy-paste-icon\"\n",
       "                 onclick=\"copyToClipboard('loss',\n",
       "                          this.parentElement.nextElementSibling)\"\n",
       "            ></i></td>\n",
       "            <td class=\"param\">loss&nbsp;</td>\n",
       "            <td class=\"value\">&#x27;squared_error&#x27;</td>\n",
       "        </tr>\n",
       "    \n",
       "\n",
       "        <tr class=\"default\">\n",
       "            <td><i class=\"copy-paste-icon\"\n",
       "                 onclick=\"copyToClipboard('penalty',\n",
       "                          this.parentElement.nextElementSibling)\"\n",
       "            ></i></td>\n",
       "            <td class=\"param\">penalty&nbsp;</td>\n",
       "            <td class=\"value\">&#x27;l2&#x27;</td>\n",
       "        </tr>\n",
       "    \n",
       "\n",
       "        <tr class=\"user-set\">\n",
       "            <td><i class=\"copy-paste-icon\"\n",
       "                 onclick=\"copyToClipboard('alpha',\n",
       "                          this.parentElement.nextElementSibling)\"\n",
       "            ></i></td>\n",
       "            <td class=\"param\">alpha&nbsp;</td>\n",
       "            <td class=\"value\">0.1</td>\n",
       "        </tr>\n",
       "    \n",
       "\n",
       "        <tr class=\"default\">\n",
       "            <td><i class=\"copy-paste-icon\"\n",
       "                 onclick=\"copyToClipboard('l1_ratio',\n",
       "                          this.parentElement.nextElementSibling)\"\n",
       "            ></i></td>\n",
       "            <td class=\"param\">l1_ratio&nbsp;</td>\n",
       "            <td class=\"value\">0.15</td>\n",
       "        </tr>\n",
       "    \n",
       "\n",
       "        <tr class=\"default\">\n",
       "            <td><i class=\"copy-paste-icon\"\n",
       "                 onclick=\"copyToClipboard('fit_intercept',\n",
       "                          this.parentElement.nextElementSibling)\"\n",
       "            ></i></td>\n",
       "            <td class=\"param\">fit_intercept&nbsp;</td>\n",
       "            <td class=\"value\">True</td>\n",
       "        </tr>\n",
       "    \n",
       "\n",
       "        <tr class=\"default\">\n",
       "            <td><i class=\"copy-paste-icon\"\n",
       "                 onclick=\"copyToClipboard('max_iter',\n",
       "                          this.parentElement.nextElementSibling)\"\n",
       "            ></i></td>\n",
       "            <td class=\"param\">max_iter&nbsp;</td>\n",
       "            <td class=\"value\">1000</td>\n",
       "        </tr>\n",
       "    \n",
       "\n",
       "        <tr class=\"default\">\n",
       "            <td><i class=\"copy-paste-icon\"\n",
       "                 onclick=\"copyToClipboard('tol',\n",
       "                          this.parentElement.nextElementSibling)\"\n",
       "            ></i></td>\n",
       "            <td class=\"param\">tol&nbsp;</td>\n",
       "            <td class=\"value\">0.001</td>\n",
       "        </tr>\n",
       "    \n",
       "\n",
       "        <tr class=\"default\">\n",
       "            <td><i class=\"copy-paste-icon\"\n",
       "                 onclick=\"copyToClipboard('shuffle',\n",
       "                          this.parentElement.nextElementSibling)\"\n",
       "            ></i></td>\n",
       "            <td class=\"param\">shuffle&nbsp;</td>\n",
       "            <td class=\"value\">True</td>\n",
       "        </tr>\n",
       "    \n",
       "\n",
       "        <tr class=\"user-set\">\n",
       "            <td><i class=\"copy-paste-icon\"\n",
       "                 onclick=\"copyToClipboard('verbose',\n",
       "                          this.parentElement.nextElementSibling)\"\n",
       "            ></i></td>\n",
       "            <td class=\"param\">verbose&nbsp;</td>\n",
       "            <td class=\"value\">True</td>\n",
       "        </tr>\n",
       "    \n",
       "\n",
       "        <tr class=\"default\">\n",
       "            <td><i class=\"copy-paste-icon\"\n",
       "                 onclick=\"copyToClipboard('epsilon',\n",
       "                          this.parentElement.nextElementSibling)\"\n",
       "            ></i></td>\n",
       "            <td class=\"param\">epsilon&nbsp;</td>\n",
       "            <td class=\"value\">0.1</td>\n",
       "        </tr>\n",
       "    \n",
       "\n",
       "        <tr class=\"default\">\n",
       "            <td><i class=\"copy-paste-icon\"\n",
       "                 onclick=\"copyToClipboard('random_state',\n",
       "                          this.parentElement.nextElementSibling)\"\n",
       "            ></i></td>\n",
       "            <td class=\"param\">random_state&nbsp;</td>\n",
       "            <td class=\"value\">None</td>\n",
       "        </tr>\n",
       "    \n",
       "\n",
       "        <tr class=\"default\">\n",
       "            <td><i class=\"copy-paste-icon\"\n",
       "                 onclick=\"copyToClipboard('learning_rate',\n",
       "                          this.parentElement.nextElementSibling)\"\n",
       "            ></i></td>\n",
       "            <td class=\"param\">learning_rate&nbsp;</td>\n",
       "            <td class=\"value\">&#x27;invscaling&#x27;</td>\n",
       "        </tr>\n",
       "    \n",
       "\n",
       "        <tr class=\"default\">\n",
       "            <td><i class=\"copy-paste-icon\"\n",
       "                 onclick=\"copyToClipboard('eta0',\n",
       "                          this.parentElement.nextElementSibling)\"\n",
       "            ></i></td>\n",
       "            <td class=\"param\">eta0&nbsp;</td>\n",
       "            <td class=\"value\">0.01</td>\n",
       "        </tr>\n",
       "    \n",
       "\n",
       "        <tr class=\"default\">\n",
       "            <td><i class=\"copy-paste-icon\"\n",
       "                 onclick=\"copyToClipboard('power_t',\n",
       "                          this.parentElement.nextElementSibling)\"\n",
       "            ></i></td>\n",
       "            <td class=\"param\">power_t&nbsp;</td>\n",
       "            <td class=\"value\">0.25</td>\n",
       "        </tr>\n",
       "    \n",
       "\n",
       "        <tr class=\"default\">\n",
       "            <td><i class=\"copy-paste-icon\"\n",
       "                 onclick=\"copyToClipboard('early_stopping',\n",
       "                          this.parentElement.nextElementSibling)\"\n",
       "            ></i></td>\n",
       "            <td class=\"param\">early_stopping&nbsp;</td>\n",
       "            <td class=\"value\">False</td>\n",
       "        </tr>\n",
       "    \n",
       "\n",
       "        <tr class=\"default\">\n",
       "            <td><i class=\"copy-paste-icon\"\n",
       "                 onclick=\"copyToClipboard('validation_fraction',\n",
       "                          this.parentElement.nextElementSibling)\"\n",
       "            ></i></td>\n",
       "            <td class=\"param\">validation_fraction&nbsp;</td>\n",
       "            <td class=\"value\">0.1</td>\n",
       "        </tr>\n",
       "    \n",
       "\n",
       "        <tr class=\"default\">\n",
       "            <td><i class=\"copy-paste-icon\"\n",
       "                 onclick=\"copyToClipboard('n_iter_no_change',\n",
       "                          this.parentElement.nextElementSibling)\"\n",
       "            ></i></td>\n",
       "            <td class=\"param\">n_iter_no_change&nbsp;</td>\n",
       "            <td class=\"value\">5</td>\n",
       "        </tr>\n",
       "    \n",
       "\n",
       "        <tr class=\"default\">\n",
       "            <td><i class=\"copy-paste-icon\"\n",
       "                 onclick=\"copyToClipboard('warm_start',\n",
       "                          this.parentElement.nextElementSibling)\"\n",
       "            ></i></td>\n",
       "            <td class=\"param\">warm_start&nbsp;</td>\n",
       "            <td class=\"value\">False</td>\n",
       "        </tr>\n",
       "    \n",
       "\n",
       "        <tr class=\"default\">\n",
       "            <td><i class=\"copy-paste-icon\"\n",
       "                 onclick=\"copyToClipboard('average',\n",
       "                          this.parentElement.nextElementSibling)\"\n",
       "            ></i></td>\n",
       "            <td class=\"param\">average&nbsp;</td>\n",
       "            <td class=\"value\">False</td>\n",
       "        </tr>\n",
       "    \n",
       "                  </tbody>\n",
       "                </table>\n",
       "            </details>\n",
       "        </div>\n",
       "    </div></div></div></div></div><script>function copyToClipboard(text, element) {\n",
       "    // Get the parameter prefix from the closest toggleable content\n",
       "    const toggleableContent = element.closest('.sk-toggleable__content');\n",
       "    const paramPrefix = toggleableContent ? toggleableContent.dataset.paramPrefix : '';\n",
       "    const fullParamName = paramPrefix ? `${paramPrefix}${text}` : text;\n",
       "\n",
       "    const originalStyle = element.style;\n",
       "    const computedStyle = window.getComputedStyle(element);\n",
       "    const originalWidth = computedStyle.width;\n",
       "    const originalHTML = element.innerHTML.replace('Copied!', '');\n",
       "\n",
       "    navigator.clipboard.writeText(fullParamName)\n",
       "        .then(() => {\n",
       "            element.style.width = originalWidth;\n",
       "            element.style.color = 'green';\n",
       "            element.innerHTML = \"Copied!\";\n",
       "\n",
       "            setTimeout(() => {\n",
       "                element.innerHTML = originalHTML;\n",
       "                element.style = originalStyle;\n",
       "            }, 2000);\n",
       "        })\n",
       "        .catch(err => {\n",
       "            console.error('Failed to copy:', err);\n",
       "            element.style.color = 'red';\n",
       "            element.innerHTML = \"Failed!\";\n",
       "            setTimeout(() => {\n",
       "                element.innerHTML = originalHTML;\n",
       "                element.style = originalStyle;\n",
       "            }, 2000);\n",
       "        });\n",
       "    return false;\n",
       "}\n",
       "\n",
       "document.querySelectorAll('.fa-regular.fa-copy').forEach(function(element) {\n",
       "    const toggleableContent = element.closest('.sk-toggleable__content');\n",
       "    const paramPrefix = toggleableContent ? toggleableContent.dataset.paramPrefix : '';\n",
       "    const paramName = element.parentElement.nextElementSibling.textContent.trim();\n",
       "    const fullParamName = paramPrefix ? `${paramPrefix}${paramName}` : paramName;\n",
       "\n",
       "    element.setAttribute('title', fullParamName);\n",
       "});\n",
       "</script></body>"
      ],
      "text/plain": [
       "SGDRegressor(alpha=0.1, verbose=True)"
      ]
     },
     "execution_count": 22,
     "metadata": {},
     "output_type": "execute_result"
    }
   ],
   "source": [
    "\n",
    "model = SGDRegressor(\n",
    "    loss=\"squared_error\",\n",
    "    penalty=\"l2\",\n",
    "    alpha=0.1, # lamda in l2 \n",
    "    eta0=0.01, # learning rate\n",
    "    verbose=True\n",
    ")\n",
    "\n",
    "model.fit(X_train,y_train)"
   ]
  },
  {
   "cell_type": "code",
   "execution_count": 23,
   "id": "3f3398c6",
   "metadata": {},
   "outputs": [
    {
     "data": {
      "text/plain": [
       "0.7747647919852706"
      ]
     },
     "execution_count": 23,
     "metadata": {},
     "output_type": "execute_result"
    }
   ],
   "source": [
    "\n",
    "y_pred = model.predict(X_test)\n",
    "r2_score(y_test,y_pred)"
   ]
  },
  {
   "cell_type": "code",
   "execution_count": 24,
   "id": "67d219f9",
   "metadata": {},
   "outputs": [
    {
     "data": {
      "text/plain": [
       "0.855386835705617"
      ]
     },
     "execution_count": 24,
     "metadata": {},
     "output_type": "execute_result"
    }
   ],
   "source": [
    "\n",
    "y_pred = model.predict(X_train)\n",
    "r2_score(y_train,y_pred)"
   ]
  },
  {
   "cell_type": "code",
   "execution_count": 25,
   "id": "1053d6d5",
   "metadata": {},
   "outputs": [
    {
     "data": {
      "text/plain": [
       "(100,)"
      ]
     },
     "execution_count": 25,
     "metadata": {},
     "output_type": "execute_result"
    }
   ],
   "source": [
    "y.shape"
   ]
  },
  {
   "cell_type": "code",
   "execution_count": 26,
   "id": "f0d0097e",
   "metadata": {},
   "outputs": [
    {
     "name": "stdout",
     "output_type": "stream",
     "text": [
      "(50,)\n",
      "(50,)\n",
      "(50, 50)\n",
      "(50, 50)\n"
     ]
    }
   ],
   "source": [
    "\"\"\" \n",
    "# total row 100, \n",
    "# to draw a surface we need meshgrid.\n",
    "# in meshGrid, we need give x_line,y_line value it's give value of a surface(2D).\n",
    "# as in 1D we have, 100 value we need (50,50) values \n",
    "# where xGrid contain the value of x coordinate\n",
    "# where, yGrid contain the value of y coordinate\n",
    "\"\"\"\n",
    "# visulization the plot:, value should be, y.shape/2 = 100/2 = 50\n",
    "x_line = np.linspace(min(X_train[:,0]),max(X_train[:,0]),50)\n",
    "y_line = np.linspace(min(X_train[:,1]),max(X_train[:,1]),50)\n",
    "\n",
    "print(x_line.shape)\n",
    "print(y_line.shape)\n",
    "\n",
    "xGrid, yGrid = np.meshgrid(x_line,y_line)\n",
    "\n",
    "print(xGrid.shape)\n",
    "print(yGrid.shape)\n"
   ]
  },
  {
   "cell_type": "code",
   "execution_count": 34,
   "id": "4da3ae04",
   "metadata": {},
   "outputs": [
    {
     "data": {
      "text/plain": [
       "(50, 50)"
      ]
     },
     "execution_count": 34,
     "metadata": {},
     "output_type": "execute_result"
    }
   ],
   "source": [
    "\n",
    "z = model.intercept_ + model.coef_[0]*xGrid + model.coef_[1]*yGrid\n",
    "z.shape"
   ]
  },
  {
   "cell_type": "code",
   "execution_count": 35,
   "id": "abc5b046",
   "metadata": {},
   "outputs": [
    {
     "data": {
      "image/png": "[encoded data removed]",
      "text/plain": [
       "<Figure size 640x480 with 1 Axes>"
      ]
     },
     "metadata": {},
     "output_type": "display_data"
    }
   ],
   "source": [
    "#%matplotlib widget\n",
    "ax = plt.figure()\n",
    "fig = ax.add_subplot(111,projection=\"3d\")\n",
    "fig.plot_surface(xGrid,yGrid,z,color=\"blue\",alpha=0.5)\n",
    "fig.scatter(X[:,0],X[:,1],y,c=\"black\",marker=\"o\",s=100)\n",
    "plt.show()\n"
   ]
  },
  {
   "cell_type": "code",
   "execution_count": 44,
   "id": "f93a04f8",
   "metadata": {},
   "outputs": [
    {
     "data": {
      "application/vnd.plotly.v1+json": {
       "config": {
        "plotlyServerURL": "https://plot.ly"
       },
       "data": [
        {
         "colorscale": [
          [
           0,
           "rgb(247,251,255)"
          ],
          [
           0.125,
           "rgb(222,235,247)"
          ],
          [
           0.25,
           "rgb(198,219,239)"
          ],
          [
           0.375,
           "rgb(158,202,225)"
          ],
          [
           0.5,
           "rgb(107,174,214)"
          ],
          [
           0.625,
           "rgb(66,146,198)"
          ],
          [
           0.75,
           "rgb(33,113,181)"
          ],
          [
           0.875,
           "rgb(8,81,156)"
          ],
          [
           1,
           "rgb(8,48,107)"
          ]
         ],
         "name": "surface",
         "type": "surface",
         "x": {
          "bdata": "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",
          "dtype": "f8",
          "shape": "50, 50"
         },
         "y": {
          "bdata": "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",
          "dtype": "f8",
          "shape": "50, 50"
         },
         "z": {
          "bdata": "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",
          "dtype": "f8",
          "shape": "50, 50"
         }
        },
        {
         "marker": {
          "color": "black",
          "size": 200,
          "symbol": "circle"
         },
         "mode": "markers",
         "name": "Data Point",
         "type": "scatter3d",
         "x": {
          "bdata": "aYiBQZQP87/ooSJ8iM2tP0uHKYeIx+I/Le0xdoZJ3j++nUiqhKHnP5T5Effmduy/7XIjckmz/r8cYhNzs5Pcv7DVSic2AOo/XG9XkwBJ8j8wbjxNjLPxv6Fsmod3BeQ/0js9oW44478apYzLTBjZv0CmV9+8+M2/Q/yxI+8Y67+QBsdh+UrtPzhYbbDKvdQ/OiugAxPauD/6IytdQW+yv3Abwa6iqN2/rPfNLTL/8L8IdECodET5P8TCNmO8oIo/j+MlX+xr7b/BbA5bNR7Mvw06yBDZ8XQ//1qwA0BA9b9fMbI2IJu9v3wwqSgqyt8/OIpGXqJ9tz+mMWnmyirGPxLk7nBDmfu/AdZ0NMPC5b8EJo3KW6X2vxsCfkTRLf4/aF4kUN255D9NOahTWKnlvyo+CwyzwdI/7T4bLfrT7j9w+Z6lnvjOP19fz+s89QTA3ZmHtuBoz7/5A4uBiA7tv3PsV8y+s+A/r71qQlUI6j94SMgMOHfmvzcuH7VJUuo/QQ2fH0xz9z9Lcu75Ld/pv1MVD7Xe2uq/5JwNesCCuT9CpChtCyXXP4ueeUveC96/VWYobMqq3r8V9c49eGryv+eq0BtRTuo/5IZhukifyL8349E5dKX3P9qDOHWEz/i/9Nq8q8vz4L8hrkt3t0i2P60Y23t+1q4/2MMf1IzK87+/NmYI8Lyzv8BzdZwCpcS/uPAUV0C4+b+IQQCR1/3VP987sV822v0/3zBiNWkQ6b+n/ak5LkHjvws0Ft4I79W/1Pz0Wvl+8D9VNCM6aB3NP3lRo2eONPC/3IIHKhMI0D9TYjSdlzDvv9CD1DoiUOk/auDaNiPw0L8noah+bGfLP7Vp79IKvMo/CDJXt73Fob96f45TTbXRP31ECyxgIvG/hoOw1m6ki7+KTA+JazPVPxp+bLVtmsy/KPrKUZVr4b+de06itHvQP8Y1sUaHSbE/UhmlZMpXor80xIdy2HH2Pwa4sKwGqPe/we3ZY49I7L8hCJKEm4nyP4/ppAgbIdc/IzBrdqLz0j9p9j08ebLvv9muIgobe92/zsOFceuh0D8=",
          "dtype": "f8"
         },
         "y": {
          "bdata": "DOaktnwC5T/jtRc5m0nyv2mLYZkNhgFAqoMQZuqksr8MLqRVZe/FPwxYtSseG+q/OEbHD3Qmm78ogL5xnmfrP/3Ng74os/U/Vn8F3dUP6D/09ZqOqSPzv354Cq/Vbeu/oNLzQhyr0r8Q9Hamjmr3vzvbcCYz+M2/+mSHcdA8+L+AxSAYQgrVP0APKiYwpdi/U7x4xyP/7j9qgA6DeA7wP+fvFiuEzt2/LYVNoFZP3j/z1/BG047oPwoy0PKsQfc/xu3HBIjM+D/Tieiv7trWP4RO9IDzBs6/QDr0vL8yyT/hr1BvSEXTvyoF3gWlssG/4hzsDxXN/79VAiE6CqnYP2M8oWpC/uG/nT7XOH26zT90hh9c2uvav5EnXNaQWMY/K6oBjlRe+D/57Akn2pLjP3/ISIH32+a/d7VmsQBr2j++Ne6+y5z+v79YGXsGTeo/8kr3TZse6L/HExTEy5j2vzXJvADMAdM/EVsOyJ6x87+XkvGmavjUvxx64lmTiPO/2Zhm4TzmzL+hdpfJZA7gv88pc7QiytO/b1yY+Xgc4L+vCgEv0qTkv30tauGmXOE/E259YKzDx7/o3X2zbwvYP/l+PJlDWf4/cjBhOY1M0z8wPL9sq5Xgv9YjgtZXjbE/A1zq0q9s4D/A7eC57yLTv7gI2ke4tANABr4PHZcg9b9JabMXb9XVPzMc/B/429k/cbUQEBWixz9OFQ2YaTX8v+BkxVBHU94/xtPZ56ec1L9X9hhz7qL9P3wxNGFBrOm/Hpzg9gvN7T/Tik2FDur0Px+GFtigHNQ/bQZjHDUs1j9TSQgNzC/pP/yNN7izGe2/TLhQDejCBUDe1B7Ji+7zv8MwUA/PWv+/zxHyveey8r9yFE0BSXjqP2JDLPvT4N4/RsyHS2Ls8L8AaBhqqjfvPw+CbpAX2eY/NQYxP2xlvD9gVYk14w6zv2InDcHEy/a/Mdc5yccI+T8a5Ehh+232vyemqLj2COe/TBpOp0Otwz/cO7eQB0PqvyBgEDvMm/g/FIEdLCG10D+zLI5qHB/iv2LC1/746fA/FIwxZrEE6T8=",
          "dtype": "f8"
         },
         "z": {
          "bdata": "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",
          "dtype": "f8",
          "shape": "50, 50"
         }
        }
       ],
       "layout": {
        "height": 600,
        "scene": {
         "camera": {
          "eye": {
           "x": 1.5,
           "y": 1.5,
           "z": 1.5
          }
         },
         "xaxis": {
          "title": {
           "text": "X Axis"
          }
         },
         "yaxis": {
          "title": {
           "text": "Y Axis"
          }
         },
         "zaxis": {
          "title": {
           "text": "Z Axis"
          }
         }
        },
        "template": {
         "data": {
          "bar": [
           {
            "error_x": {
             "color": "#2a3f5f"
            },
            "error_y": {
             "color": "#2a3f5f"
            },
            "marker": {
             "line": {
              "color": "#E5ECF6",
              "width": 0.5
             },
             "pattern": {
              "fillmode": "overlay",
              "size": 10,
              "solidity": 0.2
             }
            },
            "type": "bar"
           }
          ],
          "barpolar": [
           {
            "marker": {
             "line": {
              "color": "#E5ECF6",
              "width": 0.5
             },
             "pattern": {
              "fillmode": "overlay",
              "size": 10,
              "solidity": 0.2
             }
            },
            "type": "barpolar"
           }
          ],
          "carpet": [
           {
            "aaxis": {
             "endlinecolor": "#2a3f5f",
             "gridcolor": "white",
             "linecolor": "white",
             "minorgridcolor": "white",
             "startlinecolor": "#2a3f5f"
            },
            "baxis": {
             "endlinecolor": "#2a3f5f",
             "gridcolor": "white",
             "linecolor": "white",
             "minorgridcolor": "white",
             "startlinecolor": "#2a3f5f"
            },
            "type": "carpet"
           }
          ],
          "choropleth": [
           {
            "colorbar": {
             "outlinewidth": 0,
             "ticks": ""
            },
            "type": "choropleth"
           }
          ],
          "contour": [
           {
            "colorbar": {
             "outlinewidth": 0,
             "ticks": ""
            },
            "colorscale": [
             [
              0,
              "#0d0887"
             ],
             [
              0.1111111111111111,
              "#46039f"
             ],
             [
              0.2222222222222222,
              "#7201a8"
             ],
             [
              0.3333333333333333,
              "#9c179e"
             ],
             [
              0.4444444444444444,
              "#bd3786"
             ],
             [
              0.5555555555555556,
              "#d8576b"
             ],
             [
              0.6666666666666666,
              "#ed7953"
             ],
             [
              0.7777777777777778,
              "#fb9f3a"
             ],
             [
              0.8888888888888888,
              "#fdca26"
             ],
             [
              1,
              "#f0f921"
             ]
            ],
            "type": "contour"
           }
          ],
          "contourcarpet": [
           {
            "colorbar": {
             "outlinewidth": 0,
             "ticks": ""
            },
            "type": "contourcarpet"
           }
          ],
          "heatmap": [
           {
            "colorbar": {
             "outlinewidth": 0,
             "ticks": ""
            },
            "colorscale": [
             [
              0,
              "#0d0887"
             ],
             [
              0.1111111111111111,
              "#46039f"
             ],
             [
              0.2222222222222222,
              "#7201a8"
             ],
             [
              0.3333333333333333,
              "#9c179e"
             ],
             [
              0.4444444444444444,
              "#bd3786"
             ],
             [
              0.5555555555555556,
              "#d8576b"
             ],
             [
              0.6666666666666666,
              "#ed7953"
             ],
             [
              0.7777777777777778,
              "#fb9f3a"
             ],
             [
              0.8888888888888888,
              "#fdca26"
             ],
             [
              1,
              "#f0f921"
             ]
            ],
            "type": "heatmap"
           }
          ],
          "histogram": [
           {
            "marker": {
             "pattern": {
              "fillmode": "overlay",
              "size": 10,
              "solidity": 0.2
             }
            },
            "type": "histogram"
           }
          ],
          "histogram2d": [
           {
            "colorbar": {
             "outlinewidth": 0,
             "ticks": ""
            },
            "colorscale": [
             [
              0,
              "#0d0887"
             ],
             [
              0.1111111111111111,
              "#46039f"
             ],
             [
              0.2222222222222222,
              "#7201a8"
             ],
             [
              0.3333333333333333,
              "#9c179e"
             ],
             [
              0.4444444444444444,
              "#bd3786"
             ],
             [
              0.5555555555555556,
              "#d8576b"
             ],
             [
              0.6666666666666666,
              "#ed7953"
             ],
             [
              0.7777777777777778,
              "#fb9f3a"
             ],
             [
              0.8888888888888888,
              "#fdca26"
             ],
             [
              1,
              "#f0f921"
             ]
            ],
            "type": "histogram2d"
           }
          ],
          "histogram2dcontour": [
           {
            "colorbar": {
             "outlinewidth": 0,
             "ticks": ""
            },
            "colorscale": [
             [
              0,
              "#0d0887"
             ],
             [
              0.1111111111111111,
              "#46039f"
             ],
             [
              0.2222222222222222,
              "#7201a8"
             ],
             [
              0.3333333333333333,
              "#9c179e"
             ],
             [
              0.4444444444444444,
              "#bd3786"
             ],
             [
              0.5555555555555556,
              "#d8576b"
             ],
             [
              0.6666666666666666,
              "#ed7953"
             ],
             [
              0.7777777777777778,
              "#fb9f3a"
             ],
             [
              0.8888888888888888,
              "#fdca26"
             ],
             [
              1,
              "#f0f921"
             ]
            ],
            "type": "histogram2dcontour"
           }
          ],
          "mesh3d": [
           {
            "colorbar": {
             "outlinewidth": 0,
             "ticks": ""
            },
            "type": "mesh3d"
           }
          ],
          "parcoords": [
           {
            "line": {
             "colorbar": {
              "outlinewidth": 0,
              "ticks": ""
             }
            },
            "type": "parcoords"
           }
          ],
          "pie": [
           {
            "automargin": true,
            "type": "pie"
           }
          ],
          "scatter": [
           {
            "fillpattern": {
             "fillmode": "overlay",
             "size": 10,
             "solidity": 0.2
            },
            "type": "scatter"
           }
          ],
          "scatter3d": [
           {
            "line": {
             "colorbar": {
              "outlinewidth": 0,
              "ticks": ""
             }
            },
            "marker": {
             "colorbar": {
              "outlinewidth": 0,
              "ticks": ""
             }
            },
            "type": "scatter3d"
           }
          ],
          "scattercarpet": [
           {
            "marker": {
             "colorbar": {
              "outlinewidth": 0,
              "ticks": ""
             }
            },
            "type": "scattercarpet"
           }
          ],
          "scattergeo": [
           {
            "marker": {
             "colorbar": {
              "outlinewidth": 0,
              "ticks": ""
             }
            },
            "type": "scattergeo"
           }
          ],
          "scattergl": [
           {
            "marker": {
             "colorbar": {
              "outlinewidth": 0,
              "ticks": ""
             }
            },
            "type": "scattergl"
           }
          ],
          "scattermap": [
           {
            "marker": {
             "colorbar": {
              "outlinewidth": 0,
              "ticks": ""
             }
            },
            "type": "scattermap"
           }
          ],
          "scattermapbox": [
           {
            "marker": {
             "colorbar": {
              "outlinewidth": 0,
              "ticks": ""
             }
            },
            "type": "scattermapbox"
           }
          ],
          "scatterpolar": [
           {
            "marker": {
             "colorbar": {
              "outlinewidth": 0,
              "ticks": ""
             }
            },
            "type": "scatterpolar"
           }
          ],
          "scatterpolargl": [
           {
            "marker": {
             "colorbar": {
              "outlinewidth": 0,
              "ticks": ""
             }
            },
            "type": "scatterpolargl"
           }
          ],
          "scatterternary": [
           {
            "marker": {
             "colorbar": {
              "outlinewidth": 0,
              "ticks": ""
             }
            },
            "type": "scatterternary"
           }
          ],
          "surface": [
           {
            "colorbar": {
             "outlinewidth": 0,
             "ticks": ""
            },
            "colorscale": [
             [
              0,
              "#0d0887"
             ],
             [
              0.1111111111111111,
              "#46039f"
             ],
             [
              0.2222222222222222,
              "#7201a8"
             ],
             [
              0.3333333333333333,
              "#9c179e"
             ],
             [
              0.4444444444444444,
              "#bd3786"
             ],
             [
              0.5555555555555556,
              "#d8576b"
             ],
             [
              0.6666666666666666,
              "#ed7953"
             ],
             [
              0.7777777777777778,
              "#fb9f3a"
             ],
             [
              0.8888888888888888,
              "#fdca26"
             ],
             [
              1,
              "#f0f921"
             ]
            ],
            "type": "surface"
           }
          ],
          "table": [
           {
            "cells": {
             "fill": {
              "color": "#EBF0F8"
             },
             "line": {
              "color": "white"
             }
            },
            "header": {
             "fill": {
              "color": "#C8D4E3"
             },
             "line": {
              "color": "white"
             }
            },
            "type": "table"
           }
          ]
         },
         "layout": {
          "annotationdefaults": {
           "arrowcolor": "#2a3f5f",
           "arrowhead": 0,
           "arrowwidth": 1
          },
          "autotypenumbers": "strict",
          "coloraxis": {
           "colorbar": {
            "outlinewidth": 0,
            "ticks": ""
           }
          },
          "colorscale": {
           "diverging": [
            [
             0,
             "#8e0152"
            ],
            [
             0.1,
             "#c51b7d"
            ],
            [
             0.2,
             "#de77ae"
            ],
            [
             0.3,
             "#f1b6da"
            ],
            [
             0.4,
             "#fde0ef"
            ],
            [
             0.5,
             "#f7f7f7"
            ],
            [
             0.6,
             "#e6f5d0"
            ],
            [
             0.7,
             "#b8e186"
            ],
            [
             0.8,
             "#7fbc41"
            ],
            [
             0.9,
             "#4d9221"
            ],
            [
             1,
             "#276419"
            ]
           ],
           "sequential": [
            [
             0,
             "#0d0887"
            ],
            [
             0.1111111111111111,
             "#46039f"
            ],
            [
             0.2222222222222222,
             "#7201a8"
            ],
            [
             0.3333333333333333,
             "#9c179e"
            ],
            [
             0.4444444444444444,
             "#bd3786"
            ],
            [
             0.5555555555555556,
             "#d8576b"
            ],
            [
             0.6666666666666666,
             "#ed7953"
            ],
            [
             0.7777777777777778,
             "#fb9f3a"
            ],
            [
             0.8888888888888888,
             "#fdca26"
            ],
            [
             1,
             "#f0f921"
            ]
           ],
           "sequentialminus": [
            [
             0,
             "#0d0887"
            ],
            [
             0.1111111111111111,
             "#46039f"
            ],
            [
             0.2222222222222222,
             "#7201a8"
            ],
            [
             0.3333333333333333,
             "#9c179e"
            ],
            [
             0.4444444444444444,
             "#bd3786"
            ],
            [
             0.5555555555555556,
             "#d8576b"
            ],
            [
             0.6666666666666666,
             "#ed7953"
            ],
            [
             0.7777777777777778,
             "#fb9f3a"
            ],
            [
             0.8888888888888888,
             "#fdca26"
            ],
            [
             1,
             "#f0f921"
            ]
           ]
          },
          "colorway": [
           "#636efa",
           "#EF553B",
           "#00cc96",
           "#ab63fa",
           "#FFA15A",
           "#19d3f3",
           "#FF6692",
           "#B6E880",
           "#FF97FF",
           "#FECB52"
          ],
          "font": {
           "color": "#2a3f5f"
          },
          "geo": {
           "bgcolor": "white",
           "lakecolor": "white",
           "landcolor": "#E5ECF6",
           "showlakes": true,
           "showland": true,
           "subunitcolor": "white"
          },
          "hoverlabel": {
           "align": "left"
          },
          "hovermode": "closest",
          "mapbox": {
           "style": "light"
          },
          "paper_bgcolor": "white",
          "plot_bgcolor": "#E5ECF6",
          "polar": {
           "angularaxis": {
            "gridcolor": "white",
            "linecolor": "white",
            "ticks": ""
           },
           "bgcolor": "#E5ECF6",
           "radialaxis": {
            "gridcolor": "white",
            "linecolor": "white",
            "ticks": ""
           }
          },
          "scene": {
           "xaxis": {
            "backgroundcolor": "#E5ECF6",
            "gridcolor": "white",
            "gridwidth": 2,
            "linecolor": "white",
            "showbackground": true,
            "ticks": "",
            "zerolinecolor": "white"
           },
           "yaxis": {
            "backgroundcolor": "#E5ECF6",
            "gridcolor": "white",
            "gridwidth": 2,
            "linecolor": "white",
            "showbackground": true,
            "ticks": "",
            "zerolinecolor": "white"
           },
           "zaxis": {
            "backgroundcolor": "#E5ECF6",
            "gridcolor": "white",
            "gridwidth": 2,
            "linecolor": "white",
            "showbackground": true,
            "ticks": "",
            "zerolinecolor": "white"
           }
          },
          "shapedefaults": {
           "line": {
            "color": "#2a3f5f"
           }
          },
          "ternary": {
           "aaxis": {
            "gridcolor": "white",
            "linecolor": "white",
            "ticks": ""
           },
           "baxis": {
            "gridcolor": "white",
            "linecolor": "white",
            "ticks": ""
           },
           "bgcolor": "#E5ECF6",
           "caxis": {
            "gridcolor": "white",
            "linecolor": "white",
            "ticks": ""
           }
          },
          "title": {
           "x": 0.05
          },
          "xaxis": {
           "automargin": true,
           "gridcolor": "white",
           "linecolor": "white",
           "ticks": "",
           "title": {
            "standoff": 15
           },
           "zerolinecolor": "white",
           "zerolinewidth": 2
          },
          "yaxis": {
           "automargin": true,
           "gridcolor": "white",
           "linecolor": "white",
           "ticks": "",
           "title": {
            "standoff": 15
           },
           "zerolinecolor": "white",
           "zerolinewidth": 2
          }
         }
        },
        "title": {
         "text": "3D Surface with Scatter Points"
        },
        "width": 800
       }
      }
     },
     "metadata": {},
     "output_type": "display_data"
    }
   ],
   "source": [
    "\n",
    "import plotly.graph_objects as go \n",
    "\n",
    "surface = go.Surface(\n",
    "    x=xGrid,\n",
    "    y=yGrid,\n",
    "    z=z,\n",
    "    colorscale=\"Blues\",\n",
    "    name=\"surface\"\n",
    ")\n",
    "\n",
    "scatter = go.Scatter3d(\n",
    "    x=X[:,0],\n",
    "    y=X[:,1],\n",
    "    z = z,\n",
    "    mode=\"markers\",\n",
    "    marker=dict(\n",
    "        color='black',\n",
    "        size=200,\n",
    "        symbol='circle'\n",
    "    ),\n",
    "    name=\"Data Point\"\n",
    ")\n",
    "\n",
    "\n",
    "fig = go.Figure([surface,scatter])\n",
    "\n",
    "fig.update_layout(\n",
    "    title='3D Surface with Scatter Points',\n",
    "    scene=dict(\n",
    "        xaxis_title='X Axis',\n",
    "        yaxis_title='Y Axis',\n",
    "        zaxis_title='Z Axis',\n",
    "        camera=dict(\n",
    "            eye=dict(x=1.5, y=1.5, z=1.5)  \n",
    "        )\n",
    "    ),\n",
    "    width=800,\n",
    "    height=600\n",
    ")\n",
    "\n",
    "fig.show()\n"
   ]
  },
  {
   "cell_type": "markdown",
   "id": "96bcdee6",
   "metadata": {},
   "source": [
    "<br>\n",
    "<br>\n",
    "\n",
    "# `#08 Logistics Regression:`\n",
    "\n",
    "<br>\n",
    "<br>"
   ]
  },
  {
   "cell_type": "code",
   "execution_count": 3,
   "id": "42cf4b35",
   "metadata": {},
   "outputs": [
    {
     "data": {
      "image/png": "[encoded data removed]",
      "text/plain": [
       "<Figure size 640x480 with 1 Axes>"
      ]
     },
     "metadata": {},
     "output_type": "display_data"
    }
   ],
   "source": [
    "import numpy as np \n",
    "import matplotlib.pyplot as plt \n",
    "import seaborn as sns \n",
    "import pandas as pd \n",
    "\n",
    "from sklearn.linear_model import SGDClassifier\n",
    "from sklearn.datasets import make_classification\n",
    "from mlxtend.plotting import plot_decision_regions\n",
    "from sklearn.model_selection import train_test_split\n",
    "from sklearn.metrics import confusion_matrix,accuracy_score\n",
    "from sklearn.metrics import ConfusionMatrixDisplay,RocCurveDisplay,auc\n",
    "from sklearn.metrics import roc_curve,precision_score,recall_score,f1_score\n",
    "\n",
    "X,y = make_classification(\n",
    "    n_samples=100,\n",
    "    n_features=2,\n",
    "    n_informative=1,\n",
    "    n_redundant=0,\n",
    "    n_repeated=0,\n",
    "    n_classes=2,\n",
    "    n_clusters_per_class=1,\n",
    "    random_state=42,\n",
    "    #noise: \n",
    "    class_sep=0.55, # distance between two classes\n",
    "    weights=[0.4,0.6] #imbalance \n",
    ")\n",
    "plt.scatter(x=X[:,0],y=X[:,1],c=y,s=100)\n",
    "plt.show()"
   ]
  },
  {
   "cell_type": "code",
   "execution_count": 4,
   "id": "8632c773",
   "metadata": {},
   "outputs": [
    {
     "data": {
      "text/plain": [
       "((80, 2), (20, 2), (80,), (20,))"
      ]
     },
     "execution_count": 4,
     "metadata": {},
     "output_type": "execute_result"
    }
   ],
   "source": [
    "\n",
    "X_train,X_test,y_train,y_test = train_test_split(X,y,train_size=80,random_state=42)\n",
    "X_train.shape,X_test.shape,y_train.shape,y_test.shape"
   ]
  },
  {
   "cell_type": "code",
   "execution_count": 5,
   "id": "c8d89350",
   "metadata": {},
   "outputs": [
    {
     "name": "stdout",
     "output_type": "stream",
     "text": [
      "-- Epoch 1\n",
      "Norm: 27.55, NNZs: 2, Bias: 5.701597, T: 72, Avg. loss: 0.665067\n",
      "Total training time: 0.00 seconds.\n",
      "-- Epoch 2\n",
      "Norm: 31.12, NNZs: 2, Bias: 8.321798, T: 144, Avg. loss: 0.924629\n",
      "Total training time: 0.03 seconds.\n",
      "-- Epoch 3\n",
      "Norm: 33.50, NNZs: 2, Bias: 10.017237, T: 216, Avg. loss: 0.617060\n",
      "Total training time: 0.03 seconds.\n",
      "-- Epoch 4\n",
      "Norm: 35.08, NNZs: 2, Bias: 12.742027, T: 288, Avg. loss: 0.920866\n",
      "Total training time: 0.03 seconds.\n",
      "-- Epoch 5\n",
      "Norm: 40.83, NNZs: 2, Bias: 5.621297, T: 360, Avg. loss: 0.360637\n",
      "Total training time: 0.03 seconds.\n",
      "-- Epoch 6\n",
      "Norm: 41.55, NNZs: 2, Bias: 8.182248, T: 432, Avg. loss: 0.593662\n",
      "Total training time: 0.04 seconds.\n",
      "Convergence after 6 epochs took 0.04 seconds\n"
     ]
    },
    {
     "data": {
      "text/html": [
       "<style>#sk-container-id-1 {\n",
       "  /* Definition of color scheme common for light and dark mode */\n",
       "  --sklearn-color-text: #000;\n",
       "  --sklearn-color-text-muted: #666;\n",
       "  --sklearn-color-line: gray;\n",
       "  /* Definition of color scheme for unfitted estimators */\n",
       "  --sklearn-color-unfitted-level-0: #fff5e6;\n",
       "  --sklearn-color-unfitted-level-1: #f6e4d2;\n",
       "  --sklearn-color-unfitted-level-2: #ffe0b3;\n",
       "  --sklearn-color-unfitted-level-3: chocolate;\n",
       "  /* Definition of color scheme for fitted estimators */\n",
       "  --sklearn-color-fitted-level-0: #f0f8ff;\n",
       "  --sklearn-color-fitted-level-1: #d4ebff;\n",
       "  --sklearn-color-fitted-level-2: #b3dbfd;\n",
       "  --sklearn-color-fitted-level-3: cornflowerblue;\n",
       "\n",
       "  /* Specific color for light theme */\n",
       "  --sklearn-color-text-on-default-background: var(--sg-text-color, var(--theme-code-foreground, var(--jp-content-font-color1, black)));\n",
       "  --sklearn-color-background: var(--sg-background-color, var(--theme-background, var(--jp-layout-color0, white)));\n",
       "  --sklearn-color-border-box: var(--sg-text-color, var(--theme-code-foreground, var(--jp-content-font-color1, black)));\n",
       "  --sklearn-color-icon: #696969;\n",
       "\n",
       "  @media (prefers-color-scheme: dark) {\n",
       "    /* Redefinition of color scheme for dark theme */\n",
       "    --sklearn-color-text-on-default-background: var(--sg-text-color, var(--theme-code-foreground, var(--jp-content-font-color1, white)));\n",
       "    --sklearn-color-background: var(--sg-background-color, var(--theme-background, var(--jp-layout-color0, #111)));\n",
       "    --sklearn-color-border-box: var(--sg-text-color, var(--theme-code-foreground, var(--jp-content-font-color1, white)));\n",
       "    --sklearn-color-icon: #878787;\n",
       "  }\n",
       "}\n",
       "\n",
       "#sk-container-id-1 {\n",
       "  color: var(--sklearn-color-text);\n",
       "}\n",
       "\n",
       "#sk-container-id-1 pre {\n",
       "  padding: 0;\n",
       "}\n",
       "\n",
       "#sk-container-id-1 input.sk-hidden--visually {\n",
       "  border: 0;\n",
       "  clip: rect(1px 1px 1px 1px);\n",
       "  clip: rect(1px, 1px, 1px, 1px);\n",
       "  height: 1px;\n",
       "  margin: -1px;\n",
       "  overflow: hidden;\n",
       "  padding: 0;\n",
       "  position: absolute;\n",
       "  width: 1px;\n",
       "}\n",
       "\n",
       "#sk-container-id-1 div.sk-dashed-wrapped {\n",
       "  border: 1px dashed var(--sklearn-color-line);\n",
       "  margin: 0 0.4em 0.5em 0.4em;\n",
       "  box-sizing: border-box;\n",
       "  padding-bottom: 0.4em;\n",
       "  background-color: var(--sklearn-color-background);\n",
       "}\n",
       "\n",
       "#sk-container-id-1 div.sk-container {\n",
       "  /* jupyter's `normalize.less` sets `[hidden] { display: none; }`\n",
       "     but bootstrap.min.css set `[hidden] { display: none !important; }`\n",
       "     so we also need the `!important` here to be able to override the\n",
       "     default hidden behavior on the sphinx rendered scikit-learn.org.\n",
       "     See: https://github.com/scikit-learn/scikit-learn/issues/21755 */\n",
       "  display: inline-block !important;\n",
       "  position: relative;\n",
       "}\n",
       "\n",
       "#sk-container-id-1 div.sk-text-repr-fallback {\n",
       "  display: none;\n",
       "}\n",
       "\n",
       "div.sk-parallel-item,\n",
       "div.sk-serial,\n",
       "div.sk-item {\n",
       "  /* draw centered vertical line to link estimators */\n",
       "  background-image: linear-gradient(var(--sklearn-color-text-on-default-background), var(--sklearn-color-text-on-default-background));\n",
       "  background-size: 2px 100%;\n",
       "  background-repeat: no-repeat;\n",
       "  background-position: center center;\n",
       "}\n",
       "\n",
       "/* Parallel-specific style estimator block */\n",
       "\n",
       "#sk-container-id-1 div.sk-parallel-item::after {\n",
       "  content: \"\";\n",
       "  width: 100%;\n",
       "  border-bottom: 2px solid var(--sklearn-color-text-on-default-background);\n",
       "  flex-grow: 1;\n",
       "}\n",
       "\n",
       "#sk-container-id-1 div.sk-parallel {\n",
       "  display: flex;\n",
       "  align-items: stretch;\n",
       "  justify-content: center;\n",
       "  background-color: var(--sklearn-color-background);\n",
       "  position: relative;\n",
       "}\n",
       "\n",
       "#sk-container-id-1 div.sk-parallel-item {\n",
       "  display: flex;\n",
       "  flex-direction: column;\n",
       "}\n",
       "\n",
       "#sk-container-id-1 div.sk-parallel-item:first-child::after {\n",
       "  align-self: flex-end;\n",
       "  width: 50%;\n",
       "}\n",
       "\n",
       "#sk-container-id-1 div.sk-parallel-item:last-child::after {\n",
       "  align-self: flex-start;\n",
       "  width: 50%;\n",
       "}\n",
       "\n",
       "#sk-container-id-1 div.sk-parallel-item:only-child::after {\n",
       "  width: 0;\n",
       "}\n",
       "\n",
       "/* Serial-specific style estimator block */\n",
       "\n",
       "#sk-container-id-1 div.sk-serial {\n",
       "  display: flex;\n",
       "  flex-direction: column;\n",
       "  align-items: center;\n",
       "  background-color: var(--sklearn-color-background);\n",
       "  padding-right: 1em;\n",
       "  padding-left: 1em;\n",
       "}\n",
       "\n",
       "\n",
       "/* Toggleable style: style used for estimator/Pipeline/ColumnTransformer box that is\n",
       "clickable and can be expanded/collapsed.\n",
       "- Pipeline and ColumnTransformer use this feature and define the default style\n",
       "- Estimators will overwrite some part of the style using the `sk-estimator` class\n",
       "*/\n",
       "\n",
       "/* Pipeline and ColumnTransformer style (default) */\n",
       "\n",
       "#sk-container-id-1 div.sk-toggleable {\n",
       "  /* Default theme specific background. It is overwritten whether we have a\n",
       "  specific estimator or a Pipeline/ColumnTransformer */\n",
       "  background-color: var(--sklearn-color-background);\n",
       "}\n",
       "\n",
       "/* Toggleable label */\n",
       "#sk-container-id-1 label.sk-toggleable__label {\n",
       "  cursor: pointer;\n",
       "  display: flex;\n",
       "  width: 100%;\n",
       "  margin-bottom: 0;\n",
       "  padding: 0.5em;\n",
       "  box-sizing: border-box;\n",
       "  text-align: center;\n",
       "  align-items: start;\n",
       "  justify-content: space-between;\n",
       "  gap: 0.5em;\n",
       "}\n",
       "\n",
       "#sk-container-id-1 label.sk-toggleable__label .caption {\n",
       "  font-size: 0.6rem;\n",
       "  font-weight: lighter;\n",
       "  color: var(--sklearn-color-text-muted);\n",
       "}\n",
       "\n",
       "#sk-container-id-1 label.sk-toggleable__label-arrow:before {\n",
       "  /* Arrow on the left of the label */\n",
       "  content: \"▸\";\n",
       "  float: left;\n",
       "  margin-right: 0.25em;\n",
       "  color: var(--sklearn-color-icon);\n",
       "}\n",
       "\n",
       "#sk-container-id-1 label.sk-toggleable__label-arrow:hover:before {\n",
       "  color: var(--sklearn-color-text);\n",
       "}\n",
       "\n",
       "/* Toggleable content - dropdown */\n",
       "\n",
       "#sk-container-id-1 div.sk-toggleable__content {\n",
       "  display: none;\n",
       "  text-align: left;\n",
       "  /* unfitted */\n",
       "  background-color: var(--sklearn-color-unfitted-level-0);\n",
       "}\n",
       "\n",
       "#sk-container-id-1 div.sk-toggleable__content.fitted {\n",
       "  /* fitted */\n",
       "  background-color: var(--sklearn-color-fitted-level-0);\n",
       "}\n",
       "\n",
       "#sk-container-id-1 div.sk-toggleable__content pre {\n",
       "  margin: 0.2em;\n",
       "  border-radius: 0.25em;\n",
       "  color: var(--sklearn-color-text);\n",
       "  /* unfitted */\n",
       "  background-color: var(--sklearn-color-unfitted-level-0);\n",
       "}\n",
       "\n",
       "#sk-container-id-1 div.sk-toggleable__content.fitted pre {\n",
       "  /* unfitted */\n",
       "  background-color: var(--sklearn-color-fitted-level-0);\n",
       "}\n",
       "\n",
       "#sk-container-id-1 input.sk-toggleable__control:checked~div.sk-toggleable__content {\n",
       "  /* Expand drop-down */\n",
       "  display: block;\n",
       "  width: 100%;\n",
       "  overflow: visible;\n",
       "}\n",
       "\n",
       "#sk-container-id-1 input.sk-toggleable__control:checked~label.sk-toggleable__label-arrow:before {\n",
       "  content: \"▾\";\n",
       "}\n",
       "\n",
       "/* Pipeline/ColumnTransformer-specific style */\n",
       "\n",
       "#sk-container-id-1 div.sk-label input.sk-toggleable__control:checked~label.sk-toggleable__label {\n",
       "  color: var(--sklearn-color-text);\n",
       "  background-color: var(--sklearn-color-unfitted-level-2);\n",
       "}\n",
       "\n",
       "#sk-container-id-1 div.sk-label.fitted input.sk-toggleable__control:checked~label.sk-toggleable__label {\n",
       "  background-color: var(--sklearn-color-fitted-level-2);\n",
       "}\n",
       "\n",
       "/* Estimator-specific style */\n",
       "\n",
       "/* Colorize estimator box */\n",
       "#sk-container-id-1 div.sk-estimator input.sk-toggleable__control:checked~label.sk-toggleable__label {\n",
       "  /* unfitted */\n",
       "  background-color: var(--sklearn-color-unfitted-level-2);\n",
       "}\n",
       "\n",
       "#sk-container-id-1 div.sk-estimator.fitted input.sk-toggleable__control:checked~label.sk-toggleable__label {\n",
       "  /* fitted */\n",
       "  background-color: var(--sklearn-color-fitted-level-2);\n",
       "}\n",
       "\n",
       "#sk-container-id-1 div.sk-label label.sk-toggleable__label,\n",
       "#sk-container-id-1 div.sk-label label {\n",
       "  /* The background is the default theme color */\n",
       "  color: var(--sklearn-color-text-on-default-background);\n",
       "}\n",
       "\n",
       "/* On hover, darken the color of the background */\n",
       "#sk-container-id-1 div.sk-label:hover label.sk-toggleable__label {\n",
       "  color: var(--sklearn-color-text);\n",
       "  background-color: var(--sklearn-color-unfitted-level-2);\n",
       "}\n",
       "\n",
       "/* Label box, darken color on hover, fitted */\n",
       "#sk-container-id-1 div.sk-label.fitted:hover label.sk-toggleable__label.fitted {\n",
       "  color: var(--sklearn-color-text);\n",
       "  background-color: var(--sklearn-color-fitted-level-2);\n",
       "}\n",
       "\n",
       "/* Estimator label */\n",
       "\n",
       "#sk-container-id-1 div.sk-label label {\n",
       "  font-family: monospace;\n",
       "  font-weight: bold;\n",
       "  display: inline-block;\n",
       "  line-height: 1.2em;\n",
       "}\n",
       "\n",
       "#sk-container-id-1 div.sk-label-container {\n",
       "  text-align: center;\n",
       "}\n",
       "\n",
       "/* Estimator-specific */\n",
       "#sk-container-id-1 div.sk-estimator {\n",
       "  font-family: monospace;\n",
       "  border: 1px dotted var(--sklearn-color-border-box);\n",
       "  border-radius: 0.25em;\n",
       "  box-sizing: border-box;\n",
       "  margin-bottom: 0.5em;\n",
       "  /* unfitted */\n",
       "  background-color: var(--sklearn-color-unfitted-level-0);\n",
       "}\n",
       "\n",
       "#sk-container-id-1 div.sk-estimator.fitted {\n",
       "  /* fitted */\n",
       "  background-color: var(--sklearn-color-fitted-level-0);\n",
       "}\n",
       "\n",
       "/* on hover */\n",
       "#sk-container-id-1 div.sk-estimator:hover {\n",
       "  /* unfitted */\n",
       "  background-color: var(--sklearn-color-unfitted-level-2);\n",
       "}\n",
       "\n",
       "#sk-container-id-1 div.sk-estimator.fitted:hover {\n",
       "  /* fitted */\n",
       "  background-color: var(--sklearn-color-fitted-level-2);\n",
       "}\n",
       "\n",
       "/* Specification for estimator info (e.g. \"i\" and \"?\") */\n",
       "\n",
       "/* Common style for \"i\" and \"?\" */\n",
       "\n",
       ".sk-estimator-doc-link,\n",
       "a:link.sk-estimator-doc-link,\n",
       "a:visited.sk-estimator-doc-link {\n",
       "  float: right;\n",
       "  font-size: smaller;\n",
       "  line-height: 1em;\n",
       "  font-family: monospace;\n",
       "  background-color: var(--sklearn-color-background);\n",
       "  border-radius: 1em;\n",
       "  height: 1em;\n",
       "  width: 1em;\n",
       "  text-decoration: none !important;\n",
       "  margin-left: 0.5em;\n",
       "  text-align: center;\n",
       "  /* unfitted */\n",
       "  border: var(--sklearn-color-unfitted-level-1) 1pt solid;\n",
       "  color: var(--sklearn-color-unfitted-level-1);\n",
       "}\n",
       "\n",
       ".sk-estimator-doc-link.fitted,\n",
       "a:link.sk-estimator-doc-link.fitted,\n",
       "a:visited.sk-estimator-doc-link.fitted {\n",
       "  /* fitted */\n",
       "  border: var(--sklearn-color-fitted-level-1) 1pt solid;\n",
       "  color: var(--sklearn-color-fitted-level-1);\n",
       "}\n",
       "\n",
       "/* On hover */\n",
       "div.sk-estimator:hover .sk-estimator-doc-link:hover,\n",
       ".sk-estimator-doc-link:hover,\n",
       "div.sk-label-container:hover .sk-estimator-doc-link:hover,\n",
       ".sk-estimator-doc-link:hover {\n",
       "  /* unfitted */\n",
       "  background-color: var(--sklearn-color-unfitted-level-3);\n",
       "  color: var(--sklearn-color-background);\n",
       "  text-decoration: none;\n",
       "}\n",
       "\n",
       "div.sk-estimator.fitted:hover .sk-estimator-doc-link.fitted:hover,\n",
       ".sk-estimator-doc-link.fitted:hover,\n",
       "div.sk-label-container:hover .sk-estimator-doc-link.fitted:hover,\n",
       ".sk-estimator-doc-link.fitted:hover {\n",
       "  /* fitted */\n",
       "  background-color: var(--sklearn-color-fitted-level-3);\n",
       "  color: var(--sklearn-color-background);\n",
       "  text-decoration: none;\n",
       "}\n",
       "\n",
       "/* Span, style for the box shown on hovering the info icon */\n",
       ".sk-estimator-doc-link span {\n",
       "  display: none;\n",
       "  z-index: 9999;\n",
       "  position: relative;\n",
       "  font-weight: normal;\n",
       "  right: .2ex;\n",
       "  padding: .5ex;\n",
       "  margin: .5ex;\n",
       "  width: min-content;\n",
       "  min-width: 20ex;\n",
       "  max-width: 50ex;\n",
       "  color: var(--sklearn-color-text);\n",
       "  box-shadow: 2pt 2pt 4pt #999;\n",
       "  /* unfitted */\n",
       "  background: var(--sklearn-color-unfitted-level-0);\n",
       "  border: .5pt solid var(--sklearn-color-unfitted-level-3);\n",
       "}\n",
       "\n",
       ".sk-estimator-doc-link.fitted span {\n",
       "  /* fitted */\n",
       "  background: var(--sklearn-color-fitted-level-0);\n",
       "  border: var(--sklearn-color-fitted-level-3);\n",
       "}\n",
       "\n",
       ".sk-estimator-doc-link:hover span {\n",
       "  display: block;\n",
       "}\n",
       "\n",
       "/* \"?\"-specific style due to the `<a>` HTML tag */\n",
       "\n",
       "#sk-container-id-1 a.estimator_doc_link {\n",
       "  float: right;\n",
       "  font-size: 1rem;\n",
       "  line-height: 1em;\n",
       "  font-family: monospace;\n",
       "  background-color: var(--sklearn-color-background);\n",
       "  border-radius: 1rem;\n",
       "  height: 1rem;\n",
       "  width: 1rem;\n",
       "  text-decoration: none;\n",
       "  /* unfitted */\n",
       "  color: var(--sklearn-color-unfitted-level-1);\n",
       "  border: var(--sklearn-color-unfitted-level-1) 1pt solid;\n",
       "}\n",
       "\n",
       "#sk-container-id-1 a.estimator_doc_link.fitted {\n",
       "  /* fitted */\n",
       "  border: var(--sklearn-color-fitted-level-1) 1pt solid;\n",
       "  color: var(--sklearn-color-fitted-level-1);\n",
       "}\n",
       "\n",
       "/* On hover */\n",
       "#sk-container-id-1 a.estimator_doc_link:hover {\n",
       "  /* unfitted */\n",
       "  background-color: var(--sklearn-color-unfitted-level-3);\n",
       "  color: var(--sklearn-color-background);\n",
       "  text-decoration: none;\n",
       "}\n",
       "\n",
       "#sk-container-id-1 a.estimator_doc_link.fitted:hover {\n",
       "  /* fitted */\n",
       "  background-color: var(--sklearn-color-fitted-level-3);\n",
       "}\n",
       "\n",
       ".estimator-table summary {\n",
       "    padding: .5rem;\n",
       "    font-family: monospace;\n",
       "    cursor: pointer;\n",
       "}\n",
       "\n",
       ".estimator-table details[open] {\n",
       "    padding-left: 0.1rem;\n",
       "    padding-right: 0.1rem;\n",
       "    padding-bottom: 0.3rem;\n",
       "}\n",
       "\n",
       ".estimator-table .parameters-table {\n",
       "    margin-left: auto !important;\n",
       "    margin-right: auto !important;\n",
       "}\n",
       "\n",
       ".estimator-table .parameters-table tr:nth-child(odd) {\n",
       "    background-color: #fff;\n",
       "}\n",
       "\n",
       ".estimator-table .parameters-table tr:nth-child(even) {\n",
       "    background-color: #f6f6f6;\n",
       "}\n",
       "\n",
       ".estimator-table .parameters-table tr:hover {\n",
       "    background-color: #e0e0e0;\n",
       "}\n",
       "\n",
       ".estimator-table table td {\n",
       "    border: 1px solid rgba(106, 105, 104, 0.232);\n",
       "}\n",
       "\n",
       ".user-set td {\n",
       "    color:rgb(255, 94, 0);\n",
       "    text-align: left;\n",
       "}\n",
       "\n",
       ".user-set td.value pre {\n",
       "    color:rgb(255, 94, 0) !important;\n",
       "    background-color: transparent !important;\n",
       "}\n",
       "\n",
       ".default td {\n",
       "    color: black;\n",
       "    text-align: left;\n",
       "}\n",
       "\n",
       ".user-set td i,\n",
       ".default td i {\n",
       "    color: black;\n",
       "}\n",
       "\n",
       ".copy-paste-icon {\n",
       "    background-image: url(data:image/svg+xml;base64,PHN2ZyB4bWxucz0iaHR0cDovL3d3dy53My5vcmcvMjAwMC9zdmciIHZpZXdCb3g9IjAgMCA0NDggNTEyIj48IS0tIUZvbnQgQXdlc29tZSBGcmVlIDYuNy4yIGJ5IEBmb250YXdlc29tZSAtIGh0dHBzOi8vZm9udGF3ZXNvbWUuY29tIExpY2Vuc2UgLSBodHRwczovL2ZvbnRhd2Vzb21lLmNvbS9saWNlbnNlL2ZyZWUgQ29weXJpZ2h0IDIwMjUgRm9udGljb25zLCBJbmMuLS0+PHBhdGggZD0iTTIwOCAwTDMzMi4xIDBjMTIuNyAwIDI0LjkgNS4xIDMzLjkgMTQuMWw2Ny45IDY3LjljOSA5IDE0LjEgMjEuMiAxNC4xIDMzLjlMNDQ4IDMzNmMwIDI2LjUtMjEuNSA0OC00OCA0OGwtMTkyIDBjLTI2LjUgMC00OC0yMS41LTQ4LTQ4bDAtMjg4YzAtMjYuNSAyMS41LTQ4IDQ4LTQ4ek00OCAxMjhsODAgMCAwIDY0LTY0IDAgMCAyNTYgMTkyIDAgMC0zMiA2NCAwIDAgNDhjMCAyNi41LTIxLjUgNDgtNDggNDhMNDggNTEyYy0yNi41IDAtNDgtMjEuNS00OC00OEwwIDE3NmMwLTI2LjUgMjEuNS00OCA0OC00OHoiLz48L3N2Zz4=);\n",
       "    background-repeat: no-repeat;\n",
       "    background-size: 14px 14px;\n",
       "    background-position: 0;\n",
       "    display: inline-block;\n",
       "    width: 14px;\n",
       "    height: 14px;\n",
       "    cursor: pointer;\n",
       "}\n",
       "</style><body><div id=\"sk-container-id-1\" class=\"sk-top-container\"><div class=\"sk-text-repr-fallback\"><pre>SGDClassifier(early_stopping=True, eta0=0.01, loss=&#x27;log_loss&#x27;, tol=1e-06,\n",
       "              verbose=True)</pre><b>In a Jupyter environment, please rerun this cell to show the HTML representation or trust the notebook. <br />On GitHub, the HTML representation is unable to render, please try loading this page with nbviewer.org.</b></div><div class=\"sk-container\" hidden><div class=\"sk-item\"><div class=\"sk-estimator fitted sk-toggleable\"><input class=\"sk-toggleable__control sk-hidden--visually\" id=\"sk-estimator-id-1\" type=\"checkbox\" checked><label for=\"sk-estimator-id-1\" class=\"sk-toggleable__label fitted sk-toggleable__label-arrow\"><div><div>SGDClassifier</div></div><div><a class=\"sk-estimator-doc-link fitted\" rel=\"noreferrer\" target=\"_blank\" href=\"https://scikit-learn.org/1.7/modules/generated/sklearn.linear_model.SGDClassifier.html\">?<span>Documentation for SGDClassifier</span></a><span class=\"sk-estimator-doc-link fitted\">i<span>Fitted</span></span></div></label><div class=\"sk-toggleable__content fitted\" data-param-prefix=\"\">\n",
       "        <div class=\"estimator-table\">\n",
       "            <details>\n",
       "                <summary>Parameters</summary>\n",
       "                <table class=\"parameters-table\">\n",
       "                  <tbody>\n",
       "                    \n",
       "        <tr class=\"user-set\">\n",
       "            <td><i class=\"copy-paste-icon\"\n",
       "                 onclick=\"copyToClipboard('loss',\n",
       "                          this.parentElement.nextElementSibling)\"\n",
       "            ></i></td>\n",
       "            <td class=\"param\">loss&nbsp;</td>\n",
       "            <td class=\"value\">&#x27;log_loss&#x27;</td>\n",
       "        </tr>\n",
       "    \n",
       "\n",
       "        <tr class=\"default\">\n",
       "            <td><i class=\"copy-paste-icon\"\n",
       "                 onclick=\"copyToClipboard('penalty',\n",
       "                          this.parentElement.nextElementSibling)\"\n",
       "            ></i></td>\n",
       "            <td class=\"param\">penalty&nbsp;</td>\n",
       "            <td class=\"value\">&#x27;l2&#x27;</td>\n",
       "        </tr>\n",
       "    \n",
       "\n",
       "        <tr class=\"default\">\n",
       "            <td><i class=\"copy-paste-icon\"\n",
       "                 onclick=\"copyToClipboard('alpha',\n",
       "                          this.parentElement.nextElementSibling)\"\n",
       "            ></i></td>\n",
       "            <td class=\"param\">alpha&nbsp;</td>\n",
       "            <td class=\"value\">0.0001</td>\n",
       "        </tr>\n",
       "    \n",
       "\n",
       "        <tr class=\"default\">\n",
       "            <td><i class=\"copy-paste-icon\"\n",
       "                 onclick=\"copyToClipboard('l1_ratio',\n",
       "                          this.parentElement.nextElementSibling)\"\n",
       "            ></i></td>\n",
       "            <td class=\"param\">l1_ratio&nbsp;</td>\n",
       "            <td class=\"value\">0.15</td>\n",
       "        </tr>\n",
       "    \n",
       "\n",
       "        <tr class=\"default\">\n",
       "            <td><i class=\"copy-paste-icon\"\n",
       "                 onclick=\"copyToClipboard('fit_intercept',\n",
       "                          this.parentElement.nextElementSibling)\"\n",
       "            ></i></td>\n",
       "            <td class=\"param\">fit_intercept&nbsp;</td>\n",
       "            <td class=\"value\">True</td>\n",
       "        </tr>\n",
       "    \n",
       "\n",
       "        <tr class=\"default\">\n",
       "            <td><i class=\"copy-paste-icon\"\n",
       "                 onclick=\"copyToClipboard('max_iter',\n",
       "                          this.parentElement.nextElementSibling)\"\n",
       "            ></i></td>\n",
       "            <td class=\"param\">max_iter&nbsp;</td>\n",
       "            <td class=\"value\">1000</td>\n",
       "        </tr>\n",
       "    \n",
       "\n",
       "        <tr class=\"user-set\">\n",
       "            <td><i class=\"copy-paste-icon\"\n",
       "                 onclick=\"copyToClipboard('tol',\n",
       "                          this.parentElement.nextElementSibling)\"\n",
       "            ></i></td>\n",
       "            <td class=\"param\">tol&nbsp;</td>\n",
       "            <td class=\"value\">1e-06</td>\n",
       "        </tr>\n",
       "    \n",
       "\n",
       "        <tr class=\"default\">\n",
       "            <td><i class=\"copy-paste-icon\"\n",
       "                 onclick=\"copyToClipboard('shuffle',\n",
       "                          this.parentElement.nextElementSibling)\"\n",
       "            ></i></td>\n",
       "            <td class=\"param\">shuffle&nbsp;</td>\n",
       "            <td class=\"value\">True</td>\n",
       "        </tr>\n",
       "    \n",
       "\n",
       "        <tr class=\"user-set\">\n",
       "            <td><i class=\"copy-paste-icon\"\n",
       "                 onclick=\"copyToClipboard('verbose',\n",
       "                          this.parentElement.nextElementSibling)\"\n",
       "            ></i></td>\n",
       "            <td class=\"param\">verbose&nbsp;</td>\n",
       "            <td class=\"value\">True</td>\n",
       "        </tr>\n",
       "    \n",
       "\n",
       "        <tr class=\"default\">\n",
       "            <td><i class=\"copy-paste-icon\"\n",
       "                 onclick=\"copyToClipboard('epsilon',\n",
       "                          this.parentElement.nextElementSibling)\"\n",
       "            ></i></td>\n",
       "            <td class=\"param\">epsilon&nbsp;</td>\n",
       "            <td class=\"value\">0.1</td>\n",
       "        </tr>\n",
       "    \n",
       "\n",
       "        <tr class=\"default\">\n",
       "            <td><i class=\"copy-paste-icon\"\n",
       "                 onclick=\"copyToClipboard('n_jobs',\n",
       "                          this.parentElement.nextElementSibling)\"\n",
       "            ></i></td>\n",
       "            <td class=\"param\">n_jobs&nbsp;</td>\n",
       "            <td class=\"value\">None</td>\n",
       "        </tr>\n",
       "    \n",
       "\n",
       "        <tr class=\"default\">\n",
       "            <td><i class=\"copy-paste-icon\"\n",
       "                 onclick=\"copyToClipboard('random_state',\n",
       "                          this.parentElement.nextElementSibling)\"\n",
       "            ></i></td>\n",
       "            <td class=\"param\">random_state&nbsp;</td>\n",
       "            <td class=\"value\">None</td>\n",
       "        </tr>\n",
       "    \n",
       "\n",
       "        <tr class=\"default\">\n",
       "            <td><i class=\"copy-paste-icon\"\n",
       "                 onclick=\"copyToClipboard('learning_rate',\n",
       "                          this.parentElement.nextElementSibling)\"\n",
       "            ></i></td>\n",
       "            <td class=\"param\">learning_rate&nbsp;</td>\n",
       "            <td class=\"value\">&#x27;optimal&#x27;</td>\n",
       "        </tr>\n",
       "    \n",
       "\n",
       "        <tr class=\"user-set\">\n",
       "            <td><i class=\"copy-paste-icon\"\n",
       "                 onclick=\"copyToClipboard('eta0',\n",
       "                          this.parentElement.nextElementSibling)\"\n",
       "            ></i></td>\n",
       "            <td class=\"param\">eta0&nbsp;</td>\n",
       "            <td class=\"value\">0.01</td>\n",
       "        </tr>\n",
       "    \n",
       "\n",
       "        <tr class=\"default\">\n",
       "            <td><i class=\"copy-paste-icon\"\n",
       "                 onclick=\"copyToClipboard('power_t',\n",
       "                          this.parentElement.nextElementSibling)\"\n",
       "            ></i></td>\n",
       "            <td class=\"param\">power_t&nbsp;</td>\n",
       "            <td class=\"value\">0.5</td>\n",
       "        </tr>\n",
       "    \n",
       "\n",
       "        <tr class=\"user-set\">\n",
       "            <td><i class=\"copy-paste-icon\"\n",
       "                 onclick=\"copyToClipboard('early_stopping',\n",
       "                          this.parentElement.nextElementSibling)\"\n",
       "            ></i></td>\n",
       "            <td class=\"param\">early_stopping&nbsp;</td>\n",
       "            <td class=\"value\">True</td>\n",
       "        </tr>\n",
       "    \n",
       "\n",
       "        <tr class=\"default\">\n",
       "            <td><i class=\"copy-paste-icon\"\n",
       "                 onclick=\"copyToClipboard('validation_fraction',\n",
       "                          this.parentElement.nextElementSibling)\"\n",
       "            ></i></td>\n",
       "            <td class=\"param\">validation_fraction&nbsp;</td>\n",
       "            <td class=\"value\">0.1</td>\n",
       "        </tr>\n",
       "    \n",
       "\n",
       "        <tr class=\"default\">\n",
       "            <td><i class=\"copy-paste-icon\"\n",
       "                 onclick=\"copyToClipboard('n_iter_no_change',\n",
       "                          this.parentElement.nextElementSibling)\"\n",
       "            ></i></td>\n",
       "            <td class=\"param\">n_iter_no_change&nbsp;</td>\n",
       "            <td class=\"value\">5</td>\n",
       "        </tr>\n",
       "    \n",
       "\n",
       "        <tr class=\"default\">\n",
       "            <td><i class=\"copy-paste-icon\"\n",
       "                 onclick=\"copyToClipboard('class_weight',\n",
       "                          this.parentElement.nextElementSibling)\"\n",
       "            ></i></td>\n",
       "            <td class=\"param\">class_weight&nbsp;</td>\n",
       "            <td class=\"value\">None</td>\n",
       "        </tr>\n",
       "    \n",
       "\n",
       "        <tr class=\"default\">\n",
       "            <td><i class=\"copy-paste-icon\"\n",
       "                 onclick=\"copyToClipboard('warm_start',\n",
       "                          this.parentElement.nextElementSibling)\"\n",
       "            ></i></td>\n",
       "            <td class=\"param\">warm_start&nbsp;</td>\n",
       "            <td class=\"value\">False</td>\n",
       "        </tr>\n",
       "    \n",
       "\n",
       "        <tr class=\"default\">\n",
       "            <td><i class=\"copy-paste-icon\"\n",
       "                 onclick=\"copyToClipboard('average',\n",
       "                          this.parentElement.nextElementSibling)\"\n",
       "            ></i></td>\n",
       "            <td class=\"param\">average&nbsp;</td>\n",
       "            <td class=\"value\">False</td>\n",
       "        </tr>\n",
       "    \n",
       "                  </tbody>\n",
       "                </table>\n",
       "            </details>\n",
       "        </div>\n",
       "    </div></div></div></div></div><script>function copyToClipboard(text, element) {\n",
       "    // Get the parameter prefix from the closest toggleable content\n",
       "    const toggleableContent = element.closest('.sk-toggleable__content');\n",
       "    const paramPrefix = toggleableContent ? toggleableContent.dataset.paramPrefix : '';\n",
       "    const fullParamName = paramPrefix ? `${paramPrefix}${text}` : text;\n",
       "\n",
       "    const originalStyle = element.style;\n",
       "    const computedStyle = window.getComputedStyle(element);\n",
       "    const originalWidth = computedStyle.width;\n",
       "    const originalHTML = element.innerHTML.replace('Copied!', '');\n",
       "\n",
       "    navigator.clipboard.writeText(fullParamName)\n",
       "        .then(() => {\n",
       "            element.style.width = originalWidth;\n",
       "            element.style.color = 'green';\n",
       "            element.innerHTML = \"Copied!\";\n",
       "\n",
       "            setTimeout(() => {\n",
       "                element.innerHTML = originalHTML;\n",
       "                element.style = originalStyle;\n",
       "            }, 2000);\n",
       "        })\n",
       "        .catch(err => {\n",
       "            console.error('Failed to copy:', err);\n",
       "            element.style.color = 'red';\n",
       "            element.innerHTML = \"Failed!\";\n",
       "            setTimeout(() => {\n",
       "                element.innerHTML = originalHTML;\n",
       "                element.style = originalStyle;\n",
       "            }, 2000);\n",
       "        });\n",
       "    return false;\n",
       "}\n",
       "\n",
       "document.querySelectorAll('.fa-regular.fa-copy').forEach(function(element) {\n",
       "    const toggleableContent = element.closest('.sk-toggleable__content');\n",
       "    const paramPrefix = toggleableContent ? toggleableContent.dataset.paramPrefix : '';\n",
       "    const paramName = element.parentElement.nextElementSibling.textContent.trim();\n",
       "    const fullParamName = paramPrefix ? `${paramPrefix}${paramName}` : paramName;\n",
       "\n",
       "    element.setAttribute('title', fullParamName);\n",
       "});\n",
       "</script></body>"
      ],
      "text/plain": [
       "SGDClassifier(early_stopping=True, eta0=0.01, loss='log_loss', tol=1e-06,\n",
       "              verbose=True)"
      ]
     },
     "execution_count": 5,
     "metadata": {},
     "output_type": "execute_result"
    }
   ],
   "source": [
    "\n",
    "model = SGDClassifier(\n",
    "    loss=\"log_loss\", # binary cross entrophy loss\n",
    "    penalty=\"l2\",\n",
    "    eta0=0.01,\n",
    "    tol=1e-6,\n",
    "    early_stopping=True,\n",
    "    verbose=True\n",
    ")\n",
    "model.fit(X_train,y_train)"
   ]
  },
  {
   "cell_type": "code",
   "execution_count": 8,
   "id": "a2a95b9c",
   "metadata": {},
   "outputs": [
    {
     "data": {
      "text/plain": [
       "1.0"
      ]
     },
     "execution_count": 8,
     "metadata": {},
     "output_type": "execute_result"
    }
   ],
   "source": [
    "y_pred = model.predict(X_test)\n",
    "accuracy_score(y_test,y_pred) "
   ]
  },
  {
   "cell_type": "code",
   "execution_count": 9,
   "id": "585231bd",
   "metadata": {},
   "outputs": [
    {
     "data": {
      "text/plain": [
       "0.9625"
      ]
     },
     "execution_count": 9,
     "metadata": {},
     "output_type": "execute_result"
    }
   ],
   "source": [
    "y_pred = model.predict(X_train)\n",
    "accuracy_score(y_train,y_pred) "
   ]
  },
  {
   "cell_type": "code",
   "execution_count": 10,
   "id": "9c3f21a3",
   "metadata": {},
   "outputs": [
    {
     "data": {
      "text/plain": [
       "array([[32,  0],\n",
       "       [ 3, 45]])"
      ]
     },
     "execution_count": 10,
     "metadata": {},
     "output_type": "execute_result"
    }
   ],
   "source": [
    "conf = confusion_matrix(y_train,y_pred)\n",
    "conf"
   ]
  },
  {
   "cell_type": "code",
   "execution_count": 11,
   "id": "51cc0949",
   "metadata": {},
   "outputs": [
    {
     "name": "stdout",
     "output_type": "stream",
     "text": [
      "precision_sore:  1.0\n",
      "recall_score:  0.9375\n",
      "f1 score:  0.967741935483871\n"
     ]
    }
   ],
   "source": [
    "\n",
    "print(\"precision_sore: \",precision_score(y_train,y_pred))\n",
    "print(\"recall_score: \",recall_score(y_train,y_pred))\n",
    "print(\"f1 score: \",f1_score(y_train,y_pred))"
   ]
  },
  {
   "cell_type": "code",
   "execution_count": 12,
   "id": "2a6e5da1",
   "metadata": {},
   "outputs": [
    {
     "data": {
      "image/png": "[encoded data removed]",
      "text/plain": [
       "<Figure size 640x480 with 2 Axes>"
      ]
     },
     "metadata": {},
     "output_type": "display_data"
    }
   ],
   "source": [
    "\n",
    "ConfusionMatrixDisplay(confusion_matrix=conf).plot()\n",
    "plt.show()\n"
   ]
  },
  {
   "cell_type": "code",
   "execution_count": 13,
   "id": "4ab6567d",
   "metadata": {},
   "outputs": [
    {
     "data": {
      "text/plain": [
       "<Axes: >"
      ]
     },
     "execution_count": 13,
     "metadata": {},
     "output_type": "execute_result"
    },
    {
     "data": {
      "image/png": "[encoded data removed]",
      "text/plain": [
       "<Figure size 640x480 with 1 Axes>"
      ]
     },
     "metadata": {},
     "output_type": "display_data"
    }
   ],
   "source": [
    "plot_decision_regions(X,y,model)"
   ]
  },
  {
   "cell_type": "code",
   "execution_count": 14,
   "id": "6e8b19ba",
   "metadata": {},
   "outputs": [
    {
     "data": {
      "image/png": "[encoded data removed]",
      "text/plain": [
       "<IPython.core.display.Image object>"
      ]
     },
     "metadata": {},
     "output_type": "display_data"
    }
   ],
   "source": [
    "from IPython.display import display,Image\n",
    "display(Image(\"../img/img01.png\"))"
   ]
  },
  {
   "cell_type": "code",
   "execution_count": 16,
   "id": "3abf6702",
   "metadata": {},
   "outputs": [
    {
     "data": {
      "text/plain": [
       "(array([0., 0., 1.]), array([0.    , 0.9375, 1.    ]), array([inf,  1.,  0.]))"
      ]
     },
     "execution_count": 16,
     "metadata": {},
     "output_type": "execute_result"
    }
   ],
   "source": [
    "roc = roc_curve(y_train,y_pred)\n",
    "roc "
   ]
  },
  {
   "cell_type": "code",
   "execution_count": 17,
   "id": "ef286190",
   "metadata": {},
   "outputs": [
    {
     "data": {
      "text/plain": [
       "<sklearn.metrics._plot.roc_curve.RocCurveDisplay at 0x7f3782fddfd0>"
      ]
     },
     "execution_count": 17,
     "metadata": {},
     "output_type": "execute_result"
    },
    {
     "data": {
      "image/png": "[encoded data removed]",
      "text/plain": [
       "<Figure size 640x480 with 1 Axes>"
      ]
     },
     "metadata": {},
     "output_type": "display_data"
    }
   ],
   "source": [
    "\n",
    "#roc:\n",
    "fpr,tpr,theshold = roc \n",
    "\n",
    "# auc: Area Under the Curve\n",
    "roc_auc = auc(fpr,tpr)\n",
    "\n",
    "# display the roc: \n",
    "RocCurveDisplay(fpr=fpr,tpr=tpr,roc_auc=roc_auc).plot()"
   ]
  },
  {
   "cell_type": "code",
   "execution_count": 18,
   "id": "23250319",
   "metadata": {},
   "outputs": [
    {
     "data": {
      "application/vnd.plotly.v1+json": {
       "config": {
        "plotlyServerURL": "https://plot.ly"
       },
       "data": [
        {
         "type": "scatter",
         "x": {
          "bdata": "AAAAAAAAAAAAAAAAAAAAAAAAAAAAAPA/",
          "dtype": "f8"
         },
         "y": {
          "bdata": "AAAAAAAAAAAAAAAAAADuPwAAAAAAAPA/",
          "dtype": "f8"
         }
        },
        {
         "text": [
          "Thr=inf"
         ],
         "type": "scatter",
         "x": {
          "bdata": "AAAAAAAAAAA=",
          "dtype": "f8"
         },
         "y": {
          "bdata": "AAAAAAAAAAA=",
          "dtype": "f8"
         }
        },
        {
         "type": "scatter",
         "x": [
          0,
          1
         ],
         "y": [
          0,
          1
         ]
        }
       ],
       "layout": {
        "autosize": false,
        "height": 800,
        "showlegend": true,
        "template": {
         "data": {
          "bar": [
           {
            "error_x": {
             "color": "#2a3f5f"
            },
            "error_y": {
             "color": "#2a3f5f"
            },
            "marker": {
             "line": {
              "color": "#E5ECF6",
              "width": 0.5
             },
             "pattern": {
              "fillmode": "overlay",
              "size": 10,
              "solidity": 0.2
             }
            },
            "type": "bar"
           }
          ],
          "barpolar": [
           {
            "marker": {
             "line": {
              "color": "#E5ECF6",
              "width": 0.5
             },
             "pattern": {
              "fillmode": "overlay",
              "size": 10,
              "solidity": 0.2
             }
            },
            "type": "barpolar"
           }
          ],
          "carpet": [
           {
            "aaxis": {
             "endlinecolor": "#2a3f5f",
             "gridcolor": "white",
             "linecolor": "white",
             "minorgridcolor": "white",
             "startlinecolor": "#2a3f5f"
            },
            "baxis": {
             "endlinecolor": "#2a3f5f",
             "gridcolor": "white",
             "linecolor": "white",
             "minorgridcolor": "white",
             "startlinecolor": "#2a3f5f"
            },
            "type": "carpet"
           }
          ],
          "choropleth": [
           {
            "colorbar": {
             "outlinewidth": 0,
             "ticks": ""
            },
            "type": "choropleth"
           }
          ],
          "contour": [
           {
            "colorbar": {
             "outlinewidth": 0,
             "ticks": ""
            },
            "colorscale": [
             [
              0,
              "#0d0887"
             ],
             [
              0.1111111111111111,
              "#46039f"
             ],
             [
              0.2222222222222222,
              "#7201a8"
             ],
             [
              0.3333333333333333,
              "#9c179e"
             ],
             [
              0.4444444444444444,
              "#bd3786"
             ],
             [
              0.5555555555555556,
              "#d8576b"
             ],
             [
              0.6666666666666666,
              "#ed7953"
             ],
             [
              0.7777777777777778,
              "#fb9f3a"
             ],
             [
              0.8888888888888888,
              "#fdca26"
             ],
             [
              1,
              "#f0f921"
             ]
            ],
            "type": "contour"
           }
          ],
          "contourcarpet": [
           {
            "colorbar": {
             "outlinewidth": 0,
             "ticks": ""
            },
            "type": "contourcarpet"
           }
          ],
          "heatmap": [
           {
            "colorbar": {
             "outlinewidth": 0,
             "ticks": ""
            },
            "colorscale": [
             [
              0,
              "#0d0887"
             ],
             [
              0.1111111111111111,
              "#46039f"
             ],
             [
              0.2222222222222222,
              "#7201a8"
             ],
             [
              0.3333333333333333,
              "#9c179e"
             ],
             [
              0.4444444444444444,
              "#bd3786"
             ],
             [
              0.5555555555555556,
              "#d8576b"
             ],
             [
              0.6666666666666666,
              "#ed7953"
             ],
             [
              0.7777777777777778,
              "#fb9f3a"
             ],
             [
              0.8888888888888888,
              "#fdca26"
             ],
             [
              1,
              "#f0f921"
             ]
            ],
            "type": "heatmap"
           }
          ],
          "histogram": [
           {
            "marker": {
             "pattern": {
              "fillmode": "overlay",
              "size": 10,
              "solidity": 0.2
             }
            },
            "type": "histogram"
           }
          ],
          "histogram2d": [
           {
            "colorbar": {
             "outlinewidth": 0,
             "ticks": ""
            },
            "colorscale": [
             [
              0,
              "#0d0887"
             ],
             [
              0.1111111111111111,
              "#46039f"
             ],
             [
              0.2222222222222222,
              "#7201a8"
             ],
             [
              0.3333333333333333,
              "#9c179e"
             ],
             [
              0.4444444444444444,
              "#bd3786"
             ],
             [
              0.5555555555555556,
              "#d8576b"
             ],
             [
              0.6666666666666666,
              "#ed7953"
             ],
             [
              0.7777777777777778,
              "#fb9f3a"
             ],
             [
              0.8888888888888888,
              "#fdca26"
             ],
             [
              1,
              "#f0f921"
             ]
            ],
            "type": "histogram2d"
           }
          ],
          "histogram2dcontour": [
           {
            "colorbar": {
             "outlinewidth": 0,
             "ticks": ""
            },
            "colorscale": [
             [
              0,
              "#0d0887"
             ],
             [
              0.1111111111111111,
              "#46039f"
             ],
             [
              0.2222222222222222,
              "#7201a8"
             ],
             [
              0.3333333333333333,
              "#9c179e"
             ],
             [
              0.4444444444444444,
              "#bd3786"
             ],
             [
              0.5555555555555556,
              "#d8576b"
             ],
             [
              0.6666666666666666,
              "#ed7953"
             ],
             [
              0.7777777777777778,
              "#fb9f3a"
             ],
             [
              0.8888888888888888,
              "#fdca26"
             ],
             [
              1,
              "#f0f921"
             ]
            ],
            "type": "histogram2dcontour"
           }
          ],
          "mesh3d": [
           {
            "colorbar": {
             "outlinewidth": 0,
             "ticks": ""
            },
            "type": "mesh3d"
           }
          ],
          "parcoords": [
           {
            "line": {
             "colorbar": {
              "outlinewidth": 0,
              "ticks": ""
             }
            },
            "type": "parcoords"
           }
          ],
          "pie": [
           {
            "automargin": true,
            "type": "pie"
           }
          ],
          "scatter": [
           {
            "fillpattern": {
             "fillmode": "overlay",
             "size": 10,
             "solidity": 0.2
            },
            "type": "scatter"
           }
          ],
          "scatter3d": [
           {
            "line": {
             "colorbar": {
              "outlinewidth": 0,
              "ticks": ""
             }
            },
            "marker": {
             "colorbar": {
              "outlinewidth": 0,
              "ticks": ""
             }
            },
            "type": "scatter3d"
           }
          ],
          "scattercarpet": [
           {
            "marker": {
             "colorbar": {
              "outlinewidth": 0,
              "ticks": ""
             }
            },
            "type": "scattercarpet"
           }
          ],
          "scattergeo": [
           {
            "marker": {
             "colorbar": {
              "outlinewidth": 0,
              "ticks": ""
             }
            },
            "type": "scattergeo"
           }
          ],
          "scattergl": [
           {
            "marker": {
             "colorbar": {
              "outlinewidth": 0,
              "ticks": ""
             }
            },
            "type": "scattergl"
           }
          ],
          "scattermap": [
           {
            "marker": {
             "colorbar": {
              "outlinewidth": 0,
              "ticks": ""
             }
            },
            "type": "scattermap"
           }
          ],
          "scattermapbox": [
           {
            "marker": {
             "colorbar": {
              "outlinewidth": 0,
              "ticks": ""
             }
            },
            "type": "scattermapbox"
           }
          ],
          "scatterpolar": [
           {
            "marker": {
             "colorbar": {
              "outlinewidth": 0,
              "ticks": ""
             }
            },
            "type": "scatterpolar"
           }
          ],
          "scatterpolargl": [
           {
            "marker": {
             "colorbar": {
              "outlinewidth": 0,
              "ticks": ""
             }
            },
            "type": "scatterpolargl"
           }
          ],
          "scatterternary": [
           {
            "marker": {
             "colorbar": {
              "outlinewidth": 0,
              "ticks": ""
             }
            },
            "type": "scatterternary"
           }
          ],
          "surface": [
           {
            "colorbar": {
             "outlinewidth": 0,
             "ticks": ""
            },
            "colorscale": [
             [
              0,
              "#0d0887"
             ],
             [
              0.1111111111111111,
              "#46039f"
             ],
             [
              0.2222222222222222,
              "#7201a8"
             ],
             [
              0.3333333333333333,
              "#9c179e"
             ],
             [
              0.4444444444444444,
              "#bd3786"
             ],
             [
              0.5555555555555556,
              "#d8576b"
             ],
             [
              0.6666666666666666,
              "#ed7953"
             ],
             [
              0.7777777777777778,
              "#fb9f3a"
             ],
             [
              0.8888888888888888,
              "#fdca26"
             ],
             [
              1,
              "#f0f921"
             ]
            ],
            "type": "surface"
           }
          ],
          "table": [
           {
            "cells": {
             "fill": {
              "color": "#EBF0F8"
             },
             "line": {
              "color": "white"
             }
            },
            "header": {
             "fill": {
              "color": "#C8D4E3"
             },
             "line": {
              "color": "white"
             }
            },
            "type": "table"
           }
          ]
         },
         "layout": {
          "annotationdefaults": {
           "arrowcolor": "#2a3f5f",
           "arrowhead": 0,
           "arrowwidth": 1
          },
          "autotypenumbers": "strict",
          "coloraxis": {
           "colorbar": {
            "outlinewidth": 0,
            "ticks": ""
           }
          },
          "colorscale": {
           "diverging": [
            [
             0,
             "#8e0152"
            ],
            [
             0.1,
             "#c51b7d"
            ],
            [
             0.2,
             "#de77ae"
            ],
            [
             0.3,
             "#f1b6da"
            ],
            [
             0.4,
             "#fde0ef"
            ],
            [
             0.5,
             "#f7f7f7"
            ],
            [
             0.6,
             "#e6f5d0"
            ],
            [
             0.7,
             "#b8e186"
            ],
            [
             0.8,
             "#7fbc41"
            ],
            [
             0.9,
             "#4d9221"
            ],
            [
             1,
             "#276419"
            ]
           ],
           "sequential": [
            [
             0,
             "#0d0887"
            ],
            [
             0.1111111111111111,
             "#46039f"
            ],
            [
             0.2222222222222222,
             "#7201a8"
            ],
            [
             0.3333333333333333,
             "#9c179e"
            ],
            [
             0.4444444444444444,
             "#bd3786"
            ],
            [
             0.5555555555555556,
             "#d8576b"
            ],
            [
             0.6666666666666666,
             "#ed7953"
            ],
            [
             0.7777777777777778,
             "#fb9f3a"
            ],
            [
             0.8888888888888888,
             "#fdca26"
            ],
            [
             1,
             "#f0f921"
            ]
           ],
           "sequentialminus": [
            [
             0,
             "#0d0887"
            ],
            [
             0.1111111111111111,
             "#46039f"
            ],
            [
             0.2222222222222222,
             "#7201a8"
            ],
            [
             0.3333333333333333,
             "#9c179e"
            ],
            [
             0.4444444444444444,
             "#bd3786"
            ],
            [
             0.5555555555555556,
             "#d8576b"
            ],
            [
             0.6666666666666666,
             "#ed7953"
            ],
            [
             0.7777777777777778,
             "#fb9f3a"
            ],
            [
             0.8888888888888888,
             "#fdca26"
            ],
            [
             1,
             "#f0f921"
            ]
           ]
          },
          "colorway": [
           "#636efa",
           "#EF553B",
           "#00cc96",
           "#ab63fa",
           "#FFA15A",
           "#19d3f3",
           "#FF6692",
           "#B6E880",
           "#FF97FF",
           "#FECB52"
          ],
          "font": {
           "color": "#2a3f5f"
          },
          "geo": {
           "bgcolor": "white",
           "lakecolor": "white",
           "landcolor": "#E5ECF6",
           "showlakes": true,
           "showland": true,
           "subunitcolor": "white"
          },
          "hoverlabel": {
           "align": "left"
          },
          "hovermode": "closest",
          "mapbox": {
           "style": "light"
          },
          "paper_bgcolor": "white",
          "plot_bgcolor": "#E5ECF6",
          "polar": {
           "angularaxis": {
            "gridcolor": "white",
            "linecolor": "white",
            "ticks": ""
           },
           "bgcolor": "#E5ECF6",
           "radialaxis": {
            "gridcolor": "white",
            "linecolor": "white",
            "ticks": ""
           }
          },
          "scene": {
           "xaxis": {
            "backgroundcolor": "#E5ECF6",
            "gridcolor": "white",
            "gridwidth": 2,
            "linecolor": "white",
            "showbackground": true,
            "ticks": "",
            "zerolinecolor": "white"
           },
           "yaxis": {
            "backgroundcolor": "#E5ECF6",
            "gridcolor": "white",
            "gridwidth": 2,
            "linecolor": "white",
            "showbackground": true,
            "ticks": "",
            "zerolinecolor": "white"
           },
           "zaxis": {
            "backgroundcolor": "#E5ECF6",
            "gridcolor": "white",
            "gridwidth": 2,
            "linecolor": "white",
            "showbackground": true,
            "ticks": "",
            "zerolinecolor": "white"
           }
          },
          "shapedefaults": {
           "line": {
            "color": "#2a3f5f"
           }
          },
          "ternary": {
           "aaxis": {
            "gridcolor": "white",
            "linecolor": "white",
            "ticks": ""
           },
           "baxis": {
            "gridcolor": "white",
            "linecolor": "white",
            "ticks": ""
           },
           "bgcolor": "#E5ECF6",
           "caxis": {
            "gridcolor": "white",
            "linecolor": "white",
            "ticks": ""
           }
          },
          "title": {
           "x": 0.05
          },
          "xaxis": {
           "automargin": true,
           "gridcolor": "white",
           "linecolor": "white",
           "ticks": "",
           "title": {
            "standoff": 15
           },
           "zerolinecolor": "white",
           "zerolinewidth": 2
          },
          "yaxis": {
           "automargin": true,
           "gridcolor": "white",
           "linecolor": "white",
           "ticks": "",
           "title": {
            "standoff": 15
           },
           "zerolinecolor": "white",
           "zerolinewidth": 2
          }
         }
        },
        "width": 800,
        "xaxis": {
         "title": {
          "text": "fpr"
         }
        },
        "yaxis": {
         "title": {
          "text": "tpr"
         }
        }
       }
      }
     },
     "metadata": {},
     "output_type": "display_data"
    }
   ],
   "source": [
    "import plotly.graph_objects as go \n",
    "\n",
    "#generate a trace of ROC Curve:\n",
    "trace1 = go.Scatter(\n",
    "    x=fpr,\n",
    "    y=tpr\n",
    ")\n",
    "\n",
    "#trace2: Diagonal line\n",
    "n = 10  \n",
    "indices = np.arange(len(theshold))%n==0 \n",
    "\n",
    "trace2 = go.Scatter(\n",
    "    x = fpr[indices],\n",
    "    y = tpr[indices],\n",
    "    text= [f\"Thr={thr:.2f}\" for thr in theshold[indices]]\n",
    ")\n",
    "\n",
    "#diagoran line:\n",
    "trace3 = go.Scatter(\n",
    "    x=[0,1],\n",
    "    y=[0,1]\n",
    ")\n",
    "\n",
    "data = [trace1,trace2,trace3]\n",
    "\n",
    "\n",
    "# define the layout:\n",
    "layout = go.Layout(\n",
    "    xaxis=dict(title=\"fpr\"),\n",
    "    yaxis=dict(title=\"tpr\"),\n",
    "    autosize=False,\n",
    "    width=800,\n",
    "    height=800,\n",
    "    showlegend=True\n",
    ")\n",
    "\n",
    "\n",
    "fig = go.Figure(data=data,layout=layout)\n",
    "fig\n"
   ]
  },
  {
   "cell_type": "markdown",
   "id": "1b10521c",
   "metadata": {},
   "source": [
    "<br>\n",
    "<br>\n",
    "\n",
    "# `#09 Linear Regression from Scartch:`\n",
    "\n",
    "<br>\n",
    "<br>"
   ]
  },
  {
   "cell_type": "code",
   "execution_count": null,
   "id": "56868afb",
   "metadata": {},
   "outputs": [],
   "source": [
    "\n",
    "\n",
    "\n"
   ]
  },
  {
   "cell_type": "markdown",
   "id": "82b9016d",
   "metadata": {},
   "source": [
    "<br>\n",
    "<br>\n",
    "\n",
    "# `#10 Logistics Regression from Scartch:`\n",
    "\n",
    "<br>\n",
    "<br>"
   ]
  },
  {
   "cell_type": "code",
   "execution_count": 54,
   "id": "6a7c4e2e",
   "metadata": {},
   "outputs": [
    {
     "data": {
      "image/png": "[encoded data removed]",
      "text/plain": [
       "<Figure size 640x480 with 1 Axes>"
      ]
     },
     "metadata": {},
     "output_type": "display_data"
    }
   ],
   "source": [
    "import numpy as np \n",
    "import matplotlib.pyplot as plt \n",
    "import seaborn as sns \n",
    "import pandas as pd \n",
    "\n",
    "from sklearn.datasets import make_classification\n",
    "from sklearn.model_selection import train_test_split \n",
    "\n",
    "X,y = make_classification(\n",
    "    n_samples=100,\n",
    "    n_features=2,\n",
    "    n_informative=1,\n",
    "    n_redundant=0,\n",
    "    n_repeated=0,\n",
    "    n_classes=2,\n",
    "    n_clusters_per_class=1,\n",
    "    random_state=42,\n",
    "    #noise: \n",
    "    class_sep=0.55, # distance between two classes\n",
    "    weights=[0.4,0.6] #imbalance \n",
    ")\n",
    "plt.scatter(x=X[:,0],y=X[:,1],c=y,s=100)\n",
    "plt.show()"
   ]
  },
  {
   "cell_type": "code",
   "execution_count": 55,
   "id": "a0167b1e",
   "metadata": {},
   "outputs": [
    {
     "data": {
      "text/plain": [
       "((80, 2), (20, 2), (80,), (20,))"
      ]
     },
     "execution_count": 55,
     "metadata": {},
     "output_type": "execute_result"
    }
   ],
   "source": [
    "\n",
    "X_train,X_test,y_train,y_test = train_test_split(X,y,test_size=0.2,random_state=42)\n",
    "X_train.shape,X_test.shape,y_train.shape,y_test.shape "
   ]
  },
  {
   "cell_type": "code",
   "execution_count": 67,
   "id": "a1c521ee",
   "metadata": {},
   "outputs": [
    {
     "name": "stdout",
     "output_type": "stream",
     "text": [
      "Epoch: 1,Loss: 0.6931\n",
      "Epoch: 2,Loss: 0.6849\n",
      "Epoch: 3,Loss: 0.6769\n",
      "Epoch: 4,Loss: 0.6692\n",
      "Epoch: 5,Loss: 0.6616\n",
      "Epoch: 6,Loss: 0.6543\n",
      "Epoch: 7,Loss: 0.6471\n",
      "Epoch: 8,Loss: 0.6402\n",
      "Epoch: 9,Loss: 0.6335\n",
      "Epoch: 10,Loss: 0.6269\n",
      "Epoch: 11,Loss: 0.6205\n",
      "Epoch: 12,Loss: 0.6143\n",
      "Epoch: 13,Loss: 0.6082\n",
      "Epoch: 14,Loss: 0.6023\n",
      "Epoch: 15,Loss: 0.5966\n",
      "Epoch: 16,Loss: 0.5909\n",
      "Epoch: 17,Loss: 0.5855\n",
      "Epoch: 18,Loss: 0.5801\n",
      "Epoch: 19,Loss: 0.5749\n",
      "Epoch: 20,Loss: 0.5698\n",
      "Epoch: 21,Loss: 0.5649\n",
      "Epoch: 22,Loss: 0.5600\n",
      "Epoch: 23,Loss: 0.5553\n",
      "Epoch: 24,Loss: 0.5507\n",
      "Epoch: 25,Loss: 0.5461\n",
      "Epoch: 26,Loss: 0.5417\n",
      "Epoch: 27,Loss: 0.5374\n",
      "Epoch: 28,Loss: 0.5332\n",
      "Epoch: 29,Loss: 0.5290\n",
      "Epoch: 30,Loss: 0.5250\n",
      "Epoch: 31,Loss: 0.5210\n",
      "Epoch: 32,Loss: 0.5171\n",
      "Epoch: 33,Loss: 0.5133\n",
      "Epoch: 34,Loss: 0.5096\n",
      "Epoch: 35,Loss: 0.5059\n",
      "Epoch: 36,Loss: 0.5023\n",
      "Epoch: 37,Loss: 0.4988\n",
      "Epoch: 38,Loss: 0.4953\n",
      "Epoch: 39,Loss: 0.4920\n",
      "Epoch: 40,Loss: 0.4886\n",
      "Epoch: 41,Loss: 0.4854\n",
      "Epoch: 42,Loss: 0.4822\n",
      "Epoch: 43,Loss: 0.4790\n",
      "Epoch: 44,Loss: 0.4759\n",
      "Epoch: 45,Loss: 0.4729\n",
      "Epoch: 46,Loss: 0.4699\n",
      "Epoch: 47,Loss: 0.4670\n",
      "Epoch: 48,Loss: 0.4641\n",
      "Epoch: 49,Loss: 0.4613\n",
      "Epoch: 50,Loss: 0.4585\n",
      "Epoch: 51,Loss: 0.4558\n",
      "Epoch: 52,Loss: 0.4531\n",
      "Epoch: 53,Loss: 0.4505\n",
      "Epoch: 54,Loss: 0.4479\n",
      "Epoch: 55,Loss: 0.4453\n",
      "Epoch: 56,Loss: 0.4428\n",
      "Epoch: 57,Loss: 0.4403\n",
      "Epoch: 58,Loss: 0.4379\n",
      "Epoch: 59,Loss: 0.4355\n",
      "Epoch: 60,Loss: 0.4331\n",
      "Epoch: 61,Loss: 0.4308\n",
      "Epoch: 62,Loss: 0.4285\n",
      "Epoch: 63,Loss: 0.4262\n",
      "Epoch: 64,Loss: 0.4240\n",
      "Epoch: 65,Loss: 0.4218\n",
      "Epoch: 66,Loss: 0.4196\n",
      "Epoch: 67,Loss: 0.4175\n",
      "Epoch: 68,Loss: 0.4154\n",
      "Epoch: 69,Loss: 0.4133\n",
      "Epoch: 70,Loss: 0.4113\n",
      "Epoch: 71,Loss: 0.4093\n",
      "Epoch: 72,Loss: 0.4073\n",
      "Epoch: 73,Loss: 0.4054\n",
      "Epoch: 74,Loss: 0.4034\n",
      "Epoch: 75,Loss: 0.4015\n",
      "Epoch: 76,Loss: 0.3997\n",
      "Epoch: 77,Loss: 0.3978\n",
      "Epoch: 78,Loss: 0.3960\n",
      "Epoch: 79,Loss: 0.3942\n",
      "Epoch: 80,Loss: 0.3924\n",
      "Epoch: 81,Loss: 0.3906\n",
      "Epoch: 82,Loss: 0.3889\n",
      "Epoch: 83,Loss: 0.3872\n",
      "Epoch: 84,Loss: 0.3855\n",
      "Epoch: 85,Loss: 0.3838\n",
      "Epoch: 86,Loss: 0.3822\n",
      "Epoch: 87,Loss: 0.3806\n",
      "Epoch: 88,Loss: 0.3790\n",
      "Epoch: 89,Loss: 0.3774\n",
      "Epoch: 90,Loss: 0.3758\n",
      "Epoch: 91,Loss: 0.3743\n",
      "Epoch: 92,Loss: 0.3727\n",
      "Epoch: 93,Loss: 0.3712\n",
      "Epoch: 94,Loss: 0.3697\n",
      "Epoch: 95,Loss: 0.3683\n",
      "Epoch: 96,Loss: 0.3668\n",
      "Epoch: 97,Loss: 0.3654\n",
      "Epoch: 98,Loss: 0.3640\n",
      "Epoch: 99,Loss: 0.3625\n",
      "Epoch: 100,Loss: 0.3612\n"
     ]
    }
   ],
   "source": [
    "\n",
    "\n",
    "def sigmoid(x):\n",
    "    return 1/(1+np.exp(-x))\n",
    "\n",
    "def binary_cross_entrophy(y_true,y_pred):\n",
    "    theshold = 1e-15\n",
    "    y_pred = np.clip(y_pred,theshold,(1-theshold))\n",
    "    return -np.mean((y_true * np.log(y_pred)) + ((1-y_true)*(np.log(1-y_pred))))\n",
    "\n",
    "\n",
    "def logistics_regression(X,y,lr=0.01,num_epoch=100):\n",
    "    num_features = X.shape[1]\n",
    "    \n",
    "    # weith and bias initialization:\n",
    "    #weights = np.random.normal(loc=1,scale=0.2,size=num_features)\n",
    "    weights = np.zeros(num_features)\n",
    "    bias = 0 \n",
    "    \n",
    "    losses = []\n",
    "    \n",
    "    for epoch in range(num_epoch):\n",
    "        \n",
    "        # forward pass:\n",
    "        linear_model = np.dot(X,weights) + bias\n",
    "        y_pred = sigmoid(linear_model)\n",
    "        \n",
    "        #loss:\n",
    "        loss = binary_cross_entrophy(y,y_pred)\n",
    "        losses.append(loss)\n",
    "        \n",
    "        # calculate gradient:\n",
    "        error = y_pred-y\n",
    "        dw = np.dot(X.T,error)/len(y)\n",
    "        db = np.sum(error)/len(y)\n",
    "    \n",
    "        #update weights ans bias:\n",
    "        weights -= lr*dw \n",
    "        bias -= lr*db\n",
    "        \n",
    "        print(f\"Epoch: {epoch+1},Loss: {loss:.4f}\")\n",
    "\n",
    "    return weights,bias, losses \n",
    "\n",
    "weights, bias, losses = logistics_regression(X_train,y_train,lr=0.1,num_epoch=100)\n"
   ]
  },
  {
   "cell_type": "code",
   "execution_count": 88,
   "id": "714a8067",
   "metadata": {},
   "outputs": [
    {
     "data": {
      "text/plain": [
       "array([0, 0, 1, 1, 1, 0, 1, 1, 1, 0, 1, 0, 1, 1, 0, 1, 0, 0, 0, 1])"
      ]
     },
     "execution_count": 88,
     "metadata": {},
     "output_type": "execute_result"
    }
   ],
   "source": [
    "\n",
    "def predict(y,weights,bias,threshold=0.5):\n",
    "    linear_model = np.dot(y,weights) + bias\n",
    "    y_pred_prob = sigmoid(linear_model)\n",
    "    y_pred = (y_pred_prob>=threshold).astype(int)\n",
    "    return y_pred\n",
    "\n",
    "y_pred = predict(X_test,weights,bias,0.6)\n",
    "y_pred"
   ]
  },
  {
   "cell_type": "code",
   "execution_count": 89,
   "id": "c665575f",
   "metadata": {},
   "outputs": [
    {
     "data": {
      "text/plain": [
       "95.0"
      ]
     },
     "execution_count": 89,
     "metadata": {},
     "output_type": "execute_result"
    }
   ],
   "source": [
    "\n",
    "# accuracy: \n",
    "np.mean(y_pred==y_test).item() * 100\n"
   ]
  },
  {
   "cell_type": "code",
   "execution_count": 79,
   "id": "8f431c5d",
   "metadata": {},
   "outputs": [
    {
     "data": {
      "image/png": "[encoded data removed]",
      "text/plain": [
       "<Figure size 640x480 with 1 Axes>"
      ]
     },
     "metadata": {},
     "output_type": "display_data"
    }
   ],
   "source": [
    "\n",
    "# iteration vs loss:\n",
    "iteration = [i for i in range(1,101)]\n",
    "plt.plot(iteration,losses)\n",
    "plt.xlabel(\"iteration\")\n",
    "plt.ylabel(\"losses\")\n",
    "plt.show()"
   ]
  },
  {
   "cell_type": "code",
   "execution_count": null,
   "id": "8797071e",
   "metadata": {},
   "outputs": [],
   "source": [
    "\n",
    "\n",
    "\n"
   ]
  }
 ],
 "metadata": {
  "kernelspec": {
   "display_name": "venv",
   "language": "python",
   "name": "python3"
  },
  "language_info": {
   "codemirror_mode": {
    "name": "ipython",
    "version": 3
   },
   "file_extension": ".py",
   "mimetype": "text/x-python",
   "name": "python",
   "nbconvert_exporter": "python",
   "pygments_lexer": "ipython3",
   "version": "3.13.3"
  }
 },
 "nbformat": 4,
 "nbformat_minor": 5
}

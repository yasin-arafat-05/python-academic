{
 "cells": [
  {
   "cell_type": "markdown",
   "id": "dbd189f3",
   "metadata": {},
   "source": [
    "\n",
    "<br>\n",
    "\n",
    "### Submited To: \n",
    "**Name:** Prof. Dr. Md Samsuzzaman <br>\n",
    "**Department of Computer and Communication Engineering,** <br>\n",
    "**Faculty of Computer Science and Engineering** <br>\n",
    "\n",
    "<br>\n",
    "\n",
    "### Submited By: \n",
    "**Name** : Yasin Arafat <br>\n",
    "**ID:** 2102030 <br>\n",
    "**Registration NO:** 10157 <br>\n",
    "**Date of submission:** 1 Aug, 2025 <br>\n"
   ]
  },
  {
   "cell_type": "code",
   "execution_count": 7,
   "id": "17044677",
   "metadata": {},
   "outputs": [
    {
     "name": "stdout",
     "output_type": "stream",
     "text": [
      "[[ 1  1  3  1]\n",
      " [ 0  1  3  3]\n",
      " [-1  3  0  5]] \n",
      " \n",
      "[[1 1 3 1]\n",
      " [0 1 3 3]\n",
      " [0 4 3 6]] \n",
      " \n",
      "[[ 1  1  3  1]\n",
      " [ 0  1  3  3]\n",
      " [ 0  0 -9 -6]] \n",
      " \n",
      "solution: [1.         3.         0.66666667]\n"
     ]
    }
   ],
   "source": [
    "\n",
    "import numpy as np \n",
    "\n",
    "def gauss_elimination(coefficient_matrix,y_matrix):\n",
    "    if coefficient_matrix.shape[0] != coefficient_matrix.shape[1]:\n",
    "        print(\"-coefficient-matrix-need-to-be-square-\")\n",
    "        return \n",
    "    \n",
    "    if y_matrix.shape[1]>1 or y_matrix.shape[0] != y_matrix.shape[0]:\n",
    "        print(\"-constant-vector-incorrect-\")\n",
    "        return\n",
    "    \n",
    "    \n",
    "    # necessary variables:\n",
    "    n = len(y_matrix)\n",
    "    m = n - 1\n",
    "    i = 0\n",
    "    j = i -1 \n",
    "    x = np.zeros(n)\n",
    "    \n",
    "    # create our augmentated matrix:\n",
    "    augmented_matrix = np.concatenate((coefficient_matrix,y_matrix),axis=1)\n",
    "    \n",
    "    # applying Gauss Elimination:\n",
    "    while i<n:\n",
    "        if augmented_matrix[i][i] == 0:\n",
    "            print(\"Dividing by zero error\")\n",
    "            return \n",
    "        # formula: R2 - R1 (R2_1,0/R1_00):\n",
    "        # visulization from 2nd video:\n",
    "        for j in range(i+1,n):\n",
    "            scaling_factor = augmented_matrix[j][i] / augmented_matrix[i][i]\n",
    "            augmented_matrix[j] = augmented_matrix[j] - (scaling_factor * augmented_matrix[i])\n",
    "            print(f\"{augmented_matrix} \\n \")\n",
    "        i = i + 1 \n",
    "        \n",
    "    # backward subtituion:\n",
    "    # like we calcualte y value from Echelon matrix from:\n",
    "    # last row\n",
    "    x[m] = augmented_matrix[m][n] / augmented_matrix[m][m]\n",
    "    \n",
    "    for k in range(n-2,-1,-1):\n",
    "        #second last row:\n",
    "        x[k] = augmented_matrix[k][n]\n",
    "        # column:\n",
    "        for j in range(k+1,n):\n",
    "            x[k] = x[k] / augmented_matrix[k][k]\n",
    "            \n",
    "    print(f\"solution: {x}\")\n",
    "            \n",
    "        \n",
    "    \n",
    "co_efficient_matrix = np.array([[1,1,3],[0,1,3],[-1,3,0]])\n",
    "y_matrix = np.array([[1],[3],[5]])\n",
    "\n",
    "gauss_elimination(co_efficient_matrix,y_matrix)\n",
    "\n"
   ]
  }
 ],
 "metadata": {
  "kernelspec": {
   "display_name": "venv",
   "language": "python",
   "name": "python3"
  },
  "language_info": {
   "codemirror_mode": {
    "name": "ipython",
    "version": 3
   },
   "file_extension": ".py",
   "mimetype": "text/x-python",
   "name": "python",
   "nbconvert_exporter": "python",
   "pygments_lexer": "ipython3",
   "version": "3.13.3"
  }
 },
 "nbformat": 4,
 "nbformat_minor": 5
}

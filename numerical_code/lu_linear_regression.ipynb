{
 "cells": [
  {
   "cell_type": "code",
   "execution_count": 141,
   "id": "76ac59fa",
   "metadata": {},
   "outputs": [],
   "source": [
    "\n",
    "\n",
    "#%pip install numpy scipy \n"
   ]
  },
  {
   "cell_type": "code",
   "execution_count": 142,
   "id": "8a4121ee",
   "metadata": {},
   "outputs": [
    {
     "data": {
      "text/plain": [
       "(array([[3., 5., 2.],\n",
       "        [1., 2., 0.],\n",
       "        [1., 0., 2.]], dtype=float32),\n",
       " (3, 3))"
      ]
     },
     "execution_count": 142,
     "metadata": {},
     "output_type": "execute_result"
    }
   ],
   "source": [
    "\n",
    "import numpy as np \n",
    "from scipy.linalg import lu \n",
    "\n",
    "# feature data: \n",
    "obj = [[3,5,2],[1,2,0],[1,0,2]]\n",
    "X = np.array(object=obj,dtype=np.float32)\n",
    "X, X.shape"
   ]
  },
  {
   "cell_type": "code",
   "execution_count": 143,
   "id": "5b3dc31f",
   "metadata": {},
   "outputs": [
    {
     "data": {
      "text/plain": [
       "array([4., 5., 3.], dtype=float32)"
      ]
     },
     "execution_count": 143,
     "metadata": {},
     "output_type": "execute_result"
    }
   ],
   "source": [
    "\n",
    "# target value: \n",
    "y = np.array([4,5,3],dtype=np.float32)\n",
    "y"
   ]
  },
  {
   "cell_type": "code",
   "execution_count": 144,
   "id": "548f1b99",
   "metadata": {},
   "outputs": [
    {
     "data": {
      "text/plain": [
       "array([[11., 17.,  8.],\n",
       "       [17., 29., 10.],\n",
       "       [ 8., 10.,  8.]], dtype=float32)"
      ]
     },
     "execution_count": 144,
     "metadata": {},
     "output_type": "execute_result"
    }
   ],
   "source": [
    "\n",
    "# calcuate, X^T.X \n",
    "xtx = np.dot(a=X.transpose(),b=X)\n",
    "xtx"
   ]
  },
  {
   "cell_type": "code",
   "execution_count": 145,
   "id": "143ce4d8",
   "metadata": {},
   "outputs": [
    {
     "data": {
      "text/plain": [
       "array([20., 30., 14.], dtype=float32)"
      ]
     },
     "execution_count": 145,
     "metadata": {},
     "output_type": "execute_result"
    }
   ],
   "source": [
    "\n",
    "# calcuate X^T,y\n",
    "xty = np.dot(a=X.transpose(),b=y)\n",
    "xty"
   ]
  },
  {
   "cell_type": "code",
   "execution_count": 146,
   "id": "a67c69a8",
   "metadata": {},
   "outputs": [
    {
     "name": "stdout",
     "output_type": "stream",
     "text": [
      "Lower triangular metrix:\n",
      "[[1.         0.         0.        ]\n",
      " [0.47058824 1.         0.        ]\n",
      " [0.64705884 0.48387098 1.        ]] \n",
      "\n",
      "\n",
      "Upper triangualr matrix:\n",
      " [[17.         29.         10.        ]\n",
      " [ 0.         -3.6470585   3.2941175 ]\n",
      " [ 0.          0.         -0.06451607]]\n"
     ]
    }
   ],
   "source": [
    "\n",
    "# perform LU Decomposition \n",
    "_ , L , U = lu(xtx)\n",
    "\n",
    "print(f\"Lower triangular metrix:\\n{L} \\n\\n\")\n",
    "print(f\"Upper triangualr matrix:\\n {U}\")\n"
   ]
  },
  {
   "cell_type": "code",
   "execution_count": 147,
   "id": "65507b2e",
   "metadata": {},
   "outputs": [
    {
     "data": {
      "text/plain": [
       "array([20.      , 20.588236, -8.903227], dtype=float32)"
      ]
     },
     "execution_count": 147,
     "metadata": {},
     "output_type": "execute_result"
    }
   ],
   "source": [
    "\n",
    "# Lz = xty (do: Forward Substituion)\n",
    "z = np.linalg.solve(L,xty)\n",
    "z"
   ]
  },
  {
   "cell_type": "code",
   "execution_count": 148,
   "id": "bf043750",
   "metadata": {},
   "outputs": [
    {
     "data": {
      "text/plain": [
       "array([20.      , 20.588234, -8.903227], dtype=float32)"
      ]
     },
     "execution_count": 148,
     "metadata": {},
     "output_type": "execute_result"
    }
   ],
   "source": [
    "\"\"\" \n",
    "Or, with inverse, we got same result:\n",
    "\"\"\"\n",
    "np.dot(np.linalg.inv(L),xty)\n"
   ]
  },
  {
   "cell_type": "code",
   "execution_count": 149,
   "id": "f0ec8047",
   "metadata": {},
   "outputs": [
    {
     "data": {
      "text/plain": [
       "array([-283.00034,  119.00014,  138.00015], dtype=float32)"
      ]
     },
     "execution_count": 149,
     "metadata": {},
     "output_type": "execute_result"
    }
   ],
   "source": [
    "\n",
    "# backword subtituion:\n",
    "beta = np.linalg.solve(U,z)\n",
    "beta"
   ]
  }
 ],
 "metadata": {
  "kernelspec": {
   "display_name": "venv",
   "language": "python",
   "name": "python3"
  },
  "language_info": {
   "codemirror_mode": {
    "name": "ipython",
    "version": 3
   },
   "file_extension": ".py",
   "mimetype": "text/x-python",
   "name": "python",
   "nbconvert_exporter": "python",
   "pygments_lexer": "ipython3",
   "version": "3.13.3"
  }
 },
 "nbformat": 4,
 "nbformat_minor": 5
}

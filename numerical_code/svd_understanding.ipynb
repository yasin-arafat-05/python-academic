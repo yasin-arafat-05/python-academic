{
 "cells": [
  {
   "cell_type": "markdown",
   "id": "136dcfa0",
   "metadata": {},
   "source": [
    "<br>\n",
    "<br>\n",
    "\n",
    "# `# SVD: Single value Decomposition`\n",
    "\n",
    "<br>\n",
    "<br>"
   ]
  },
  {
   "cell_type": "code",
   "execution_count": 1,
   "id": "30271e37",
   "metadata": {},
   "outputs": [
    {
     "data": {
      "text/plain": [
       "array([[ 3,  1,  1],\n",
       "       [-1,  3,  1]])"
      ]
     },
     "execution_count": 1,
     "metadata": {},
     "output_type": "execute_result"
    }
   ],
   "source": [
    "import numpy as np \n",
    "from scipy.linalg import svd\n",
    "\n",
    "matrix = np.array([[3,1,1],[-1,3,1]])\n",
    "matrix"
   ]
  },
  {
   "cell_type": "code",
   "execution_count": 2,
   "id": "6a7ebbd0",
   "metadata": {},
   "outputs": [],
   "source": [
    "\n",
    "U,S,V = svd(matrix)"
   ]
  },
  {
   "cell_type": "code",
   "execution_count": 3,
   "id": "171b3d0c",
   "metadata": {},
   "outputs": [
    {
     "data": {
      "text/plain": [
       "(array([[-0.70710678, -0.70710678],\n",
       "        [-0.70710678,  0.70710678]]),\n",
       " array([3.46410162, 3.16227766]),\n",
       " array([[-4.08248290e-01, -8.16496581e-01, -4.08248290e-01],\n",
       "        [-8.94427191e-01,  4.47213595e-01,  5.26260748e-16],\n",
       "        [-1.82574186e-01, -3.65148372e-01,  9.12870929e-01]]))"
      ]
     },
     "execution_count": 3,
     "metadata": {},
     "output_type": "execute_result"
    }
   ],
   "source": [
    "U,S,V"
   ]
  },
  {
   "cell_type": "code",
   "execution_count": 4,
   "id": "9e29ead4",
   "metadata": {},
   "outputs": [
    {
     "data": {
      "text/plain": [
       "(array([[-0.70710678, -0.70710678],\n",
       "        [-0.70710678,  0.70710678]]),\n",
       " array([3.46410162, 3.16227766]),\n",
       " array([[-4.08248290e-01, -8.16496581e-01, -4.08248290e-01],\n",
       "        [-8.94427191e-01,  4.47213595e-01,  5.26260748e-16],\n",
       "        [-1.82574186e-01, -3.65148372e-01,  9.12870929e-01]]))"
      ]
     },
     "execution_count": 4,
     "metadata": {},
     "output_type": "execute_result"
    }
   ],
   "source": [
    "\n",
    "# with numpy: \n",
    "u,s,v = np.linalg.svd(matrix)\n",
    "u,s,v"
   ]
  },
  {
   "cell_type": "code",
   "execution_count": 12,
   "id": "61f4c3e3",
   "metadata": {},
   "outputs": [
    {
     "data": {
      "text/plain": [
       "(array([[-0.70710678, -0.70710678],\n",
       "        [-0.70710678,  0.70710678]]),\n",
       " array([3.46410162, 3.16227766]),\n",
       " array([[-4.08248290e-01, -8.16496581e-01, -4.08248290e-01],\n",
       "        [-8.94427191e-01,  4.47213595e-01,  5.26260748e-16]]))"
      ]
     },
     "execution_count": 12,
     "metadata": {},
     "output_type": "execute_result"
    }
   ],
   "source": [
    "\n",
    "\n",
    "# full matries = False: \n",
    "u,s,v = np.linalg.svd(matrix,full_matrices=False)\n",
    "u,s,v"
   ]
  },
  {
   "cell_type": "markdown",
   "id": "4c7ab79e",
   "metadata": {},
   "source": [
    "<br>\n",
    "<br>\n",
    "\n",
    "# `#manually solve find the SVD:`\n",
    "\n",
    "<br>\n",
    "<br>"
   ]
  },
  {
   "cell_type": "code",
   "execution_count": 5,
   "id": "84f35fb3",
   "metadata": {},
   "outputs": [
    {
     "data": {
      "text/plain": [
       "(array([12., 10.]),\n",
       " array([[ 0.70710678, -0.70710678],\n",
       "        [ 0.70710678,  0.70710678]]))"
      ]
     },
     "execution_count": 5,
     "metadata": {},
     "output_type": "execute_result"
    }
   ],
   "source": [
    "\n",
    "# step:01\n",
    "# u = A . A^T \n",
    "# find eigen_matrix\n",
    "u = matrix @ matrix.transpose()\n",
    "eigen_values,eigen_matrix1 = np.linalg.eig(u)\n",
    "eigen_values, eigen_matrix1\n"
   ]
  },
  {
   "cell_type": "code",
   "execution_count": 6,
   "id": "3d7847d9",
   "metadata": {},
   "outputs": [
    {
     "data": {
      "text/plain": [
       "(array([ 0., 10., 12.]),\n",
       " array([[ 1.82574186e-01, -8.94427191e-01, -4.08248290e-01],\n",
       "        [ 3.65148372e-01,  4.47213595e-01, -8.16496581e-01],\n",
       "        [-9.12870929e-01,  5.07704275e-16, -4.08248290e-01]]))"
      ]
     },
     "execution_count": 6,
     "metadata": {},
     "output_type": "execute_result"
    }
   ],
   "source": [
    "\n",
    "# step:01\n",
    "# u = A^T . A \n",
    "# find eigen_matrix\n",
    "v = matrix.T @ matrix\n",
    "eigen_values , eigen_matrix2 = np.linalg.eig(v)\n",
    "eigen_values,eigen_matrix2"
   ]
  },
  {
   "cell_type": "code",
   "execution_count": 7,
   "id": "0956fe07",
   "metadata": {},
   "outputs": [
    {
     "data": {
      "text/plain": [
       "array([[ 1.82574186e-01,  3.65148372e-01, -9.12870929e-01],\n",
       "       [-8.94427191e-01,  4.47213595e-01,  5.07704275e-16],\n",
       "       [-4.08248290e-01, -8.16496581e-01, -4.08248290e-01]])"
      ]
     },
     "execution_count": 7,
     "metadata": {},
     "output_type": "execute_result"
    }
   ],
   "source": [
    "eigen_matrix2.T"
   ]
  },
  {
   "cell_type": "code",
   "execution_count": 14,
   "id": "5f64db03",
   "metadata": {},
   "outputs": [
    {
     "name": "stdout",
     "output_type": "stream",
     "text": [
      "Orginal matrix:\n",
      " [[ 3  1  1]\n",
      " [-1  3  1]]\n",
      "Diagonal matrix: [3 3]\n"
     ]
    }
   ],
   "source": [
    "\n",
    "# diagonal matrix: \n",
    "print(f\"Orginal matrix:\\n {matrix}\")\n",
    "print(f\"Diagonal matrix: {np.diag(matrix)}\")\n"
   ]
  },
  {
   "cell_type": "code",
   "execution_count": 15,
   "id": "14aa8591",
   "metadata": {},
   "outputs": [
    {
     "name": "stdout",
     "output_type": "stream",
     "text": [
      "rank of matrix: 2\n"
     ]
    }
   ],
   "source": [
    "\n",
    "# Find rank of an metrix: \n",
    "print(f\"rank of matrix: {np.linalg.matrix_rank(matrix)}\")"
   ]
  }
 ],
 "metadata": {
  "kernelspec": {
   "display_name": "venv",
   "language": "python",
   "name": "python3"
  },
  "language_info": {
   "codemirror_mode": {
    "name": "ipython",
    "version": 3
   },
   "file_extension": ".py",
   "mimetype": "text/x-python",
   "name": "python",
   "nbconvert_exporter": "python",
   "pygments_lexer": "ipython3",
   "version": "3.13.3"
  }
 },
 "nbformat": 4,
 "nbformat_minor": 5
}

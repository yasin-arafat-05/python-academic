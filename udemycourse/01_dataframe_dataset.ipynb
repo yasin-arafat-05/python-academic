{
 "cells": [
  {
   "cell_type": "markdown",
   "id": "b934c246",
   "metadata": {},
   "source": [
    "\n",
    "csv -> Comma seperate value.\n"
   ]
  }
 ],
 "metadata": {
  "kernelspec": {
   "display_name": "venv",
   "language": "python",
   "name": "python3"
  },
  "language_info": {
   "name": "python",
   "version": "3.13.3"
  }
 },
 "nbformat": 4,
 "nbformat_minor": 5
}

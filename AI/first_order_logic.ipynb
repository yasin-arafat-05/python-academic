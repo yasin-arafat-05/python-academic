{
 "cells": [
  {
   "cell_type": "markdown",
   "id": "3b08ba3b",
   "metadata": {},
   "source": [
    "Problem: Parent(John,Mary) এবং Parent(Mary,Joe) থেকে প্রমাণ করো Grandparent(John,Joe)।\n",
    "\n",
    "(১) Domain: Person <br>\n",
    "(২) Constants: John, Mary, Joe <br>\n",
    "(৩) Predicates: Parent(Person,Person), Grandparent(Person,Person) <br>\n",
    "(৪) Rule: ∀x∀y∀z ( Parent(x,y) ∧ Parent(y,z) → Grandparent(x,z) ) <br>\n",
    "(৫) Facts: Parent(John,Mary), Parent(Mary,Joe) <br>\n",
    "(৬) Query: Grandparent(John,Joe)? — prove via Not(...) trick.<br>"
   ]
  },
  {
   "cell_type": "code",
   "execution_count": 9,
   "id": "3a882525",
   "metadata": {},
   "outputs": [
    {
     "name": "stdout",
     "output_type": "stream",
     "text": [
      "Result: sat\n",
      "Statement:-> True\n"
     ]
    }
   ],
   "source": [
    "\n",
    "from z3 import * \n",
    "\n",
    "\n",
    "# define domain:\n",
    "Person = DeclareSort(\"Person\")\n",
    "\n",
    "# Predicated:\n",
    "Parent = Function('Parent',Person,Person,BoolSort())\n",
    "Grandparent = Function('Grandparent',Person,Person,BoolSort())\n",
    "\n",
    "#constant:\n",
    "Jhon = Const('Jhon',Person)\n",
    "Mary = Const('Mary',Person)\n",
    "Joe = Const('Joe',Person)\n",
    "\n",
    "# solver:\n",
    "s = Solver()\n",
    "\n",
    "# variables for rules:\n",
    "x = Const('x',Person)\n",
    "y = Const('y',Person)\n",
    "z = Const('z',Person)\n",
    "\n",
    "\n",
    "#rules: Parent(x,y) and parent(y,z) -> Grandfather(x,z)\n",
    "s.add(ForAll([x,y,x],Implies(And(Parent(x,y),Parent(y,z)),Grandparent(x,z))))\n",
    "\n",
    "\n",
    "#Facts:\n",
    "s.add(Parent(Jhon,Mary))\n",
    "s.add(Parent(Mary,Joe))\n",
    "\n",
    "\n",
    "# Query: prove Grandparent(John, Joe)\n",
    "s.push()\n",
    "s.add(Not(Grandparent(Jhon, Joe)))\n",
    "res = s.check()\n",
    "print(\"Result:\", res)   \n",
    "\n",
    "if str(res)==\"sat\":\n",
    "    print(\"Statement:-> True\")\n",
    "else:\n",
    "    print(\"Statement False\")\n",
    "    "
   ]
  }
 ],
 "metadata": {
  "kernelspec": {
   "display_name": "venv",
   "language": "python",
   "name": "python3"
  },
  "language_info": {
   "codemirror_mode": {
    "name": "ipython",
    "version": 3
   },
   "file_extension": ".py",
   "mimetype": "text/x-python",
   "name": "python",
   "nbconvert_exporter": "python",
   "pygments_lexer": "ipython3",
   "version": "3.13.3"
  }
 },
 "nbformat": 4,
 "nbformat_minor": 5
}

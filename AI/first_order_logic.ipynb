{
 "cells": [
  {
   "cell_type": "markdown",
   "id": "3b08ba3b",
   "metadata": {},
   "source": [
    "\n",
    "## **Problem:01** \n",
    "Parent(John,Mary) এবং Parent(Mary,Joe) থেকে প্রমাণ করো Grandparent(John,Joe)।\n",
    "\n",
    "(১) Domain: Person <br>\n",
    "(২) Constants: John, Mary, Joe <br>\n",
    "(৩) Predicates: Parent(Person,Person), Grandparent(Person,Person) <br>\n",
    "(৪) Rule: ∀x∀y∀z ( Parent(x,y) ∧ Parent(y,z) → Grandparent(x,z) ) <br>\n",
    "(৫) Facts: Parent(John,Mary), Parent(Mary,Joe) <br>\n",
    "(৬) Query: Grandparent(John,Joe)? — prove via Not(...) trick.<br>"
   ]
  },
  {
   "cell_type": "code",
   "execution_count": 20,
   "id": "3a882525",
   "metadata": {},
   "outputs": [
    {
     "name": "stdout",
     "output_type": "stream",
     "text": [
      "Result: unsat\n",
      "✅ Grandparent(John, Joe) is proved.\n"
     ]
    }
   ],
   "source": [
    "\n",
    "from z3 import * \n",
    "\n",
    "\n",
    "# define domain:\n",
    "Person = DeclareSort(\"Person\")\n",
    "\n",
    "# Predicated:\n",
    "Parent = Function('Parent',Person,Person,BoolSort())\n",
    "Grandparent = Function('Grandparent',Person,Person,BoolSort())\n",
    "\n",
    "#constant:\n",
    "Jhon = Const('Jhon',Person)\n",
    "Mary = Const('Mary',Person)\n",
    "Joe = Const('Joe',Person)\n",
    "\n",
    "# solver:\n",
    "s = Solver()\n",
    "\n",
    "# variables for rules:\n",
    "x = Const('x',Person)\n",
    "y = Const('y',Person)\n",
    "z = Const('z',Person)\n",
    "\n",
    "\n",
    "#rules: Parent(x,y) and parent(y,z) -> Grandfather(x,z)\n",
    "s.add(ForAll([x,y,z],Implies(And(Parent(x,y),Parent(y,z)),Grandparent(x,z))))\n",
    "\n",
    "\n",
    "#Facts:\n",
    "s.add(Parent(Jhon,Mary))\n",
    "s.add(Parent(Mary,Joe))\n",
    "\n",
    "\n",
    "# Query: prove Grandparent(John, Joe)\n",
    "s.push()\n",
    "s.add(Not(Grandparent(Jhon, Joe)))\n",
    "res = s.check()\n",
    "print(\"Result:\", res)   \n",
    "\n",
    "if res == unsat:\n",
    "    print(\"✅ Grandparent(John, Joe) is proved.\")\n",
    "else:\n",
    "    print(\"❌ Cannot prove Grandparent(John, Joe).\")\n",
    "    "
   ]
  },
  {
   "cell_type": "markdown",
   "id": "efd5eb83",
   "metadata": {},
   "source": [
    "<br>\n",
    "<br>\n",
    "\n",
    "### **Problem02:** \n",
    "Advisor(Alice,Bob) এবং Teacher(Bob,Carol) থেকে প্রমাণ করো Guide(Alice,Carol) যদি rule বলে Advisor(x,y) & Teacher(y,z) -> Guide(x,z)।\n",
    "\n",
    "<br>\n",
    "<br>"
   ]
  },
  {
   "cell_type": "code",
   "execution_count": 16,
   "id": "ae4efd69",
   "metadata": {},
   "outputs": [
    {
     "name": "stdout",
     "output_type": "stream",
     "text": [
      "✅ Guide(Alice, Carol) is proved.\n"
     ]
    }
   ],
   "source": [
    "\n",
    "\n",
    "from  z3 import * \n",
    "\n",
    "# define domain:\n",
    "Person = DeclareSort(\"Person\")\n",
    "\n",
    "#Predicated:\n",
    "Advisor = Function(\"Advisor\",Person,Person,BoolSort()) \n",
    "Teacher = Function(\"Teacher\",Person,Person,BoolSort())\n",
    "Guide = Function(\"Guide\",Person,Person,BoolSort())\n",
    "\n",
    "# constant:\n",
    "Alice = Const('Alice',Person)\n",
    "Bob = Const('Bob',Person)\n",
    "Carol = Const('Carol',Person)\n",
    "\n",
    "# solver \n",
    "s = Solver()\n",
    "\n",
    "#variable for rules:\n",
    "x = Const('x',Person)\n",
    "y = Const('y',Person)\n",
    "z = Const('z',Person)\n",
    "\n",
    "\n",
    "# set rules: \n",
    "s.add(ForAll(\n",
    "    [x,y,z],\n",
    "    Implies(\n",
    "        And(Advisor(x,y),Teacher(y,z)),\n",
    "        Guide(x,z))\n",
    "    ))\n",
    "\n",
    "\n",
    "# add facts:\n",
    "s.add(Advisor(Alice,Bob))\n",
    "s.add(Teacher(Bob,Carol))\n",
    "\n",
    "\n",
    "# Now, do query:\n",
    "s.push()\n",
    "s.add(Not(Guide(Alice,Carol)))\n",
    "\n",
    "res = s.check()\n",
    "\n",
    "if res == unsat:\n",
    "    print(\"✅ Guide(Alice, Carol) is proved.\")\n",
    "else:\n",
    "    print(\"❌ Cannot prove Guide(Alice, Carol).\")\n",
    "s.pop()\n",
    "    "
   ]
  },
  {
   "cell_type": "markdown",
   "id": "924a333f",
   "metadata": {},
   "source": [
    "<br>\n",
    "<br>\n",
    "\n",
    "### **Problem:03**\n",
    "Tom owns Spike, Spike is a dog → প্রমাণ করো Tom owns a Dog।\n",
    "\n",
    "<br>\n",
    "<br>"
   ]
  },
  {
   "cell_type": "code",
   "execution_count": 15,
   "id": "28149ef5",
   "metadata": {},
   "outputs": [
    {
     "name": "stdout",
     "output_type": "stream",
     "text": [
      "✅ Tom owns a Dog (proved).\n"
     ]
    }
   ],
   "source": [
    "\n",
    "\n",
    "from z3 import * \n",
    "\n",
    "#domain:\n",
    "Person = DeclareSort(\"Person\")\n",
    "Animal = DeclareSort(\"Animal\")\n",
    "\n",
    "#predicated:\n",
    "Owns = Function(\"Owns\",Person,Animal,BoolSort())\n",
    "Dog = Function(\"Dog\",Animal,Animal,BoolSort())\n",
    "OwnsDog = Function(\"OwnsDog\",Person,Animal,BoolSort())\n",
    "\n",
    "\n",
    "# constant:\n",
    "Tom = Const(\"Tom\",Person)\n",
    "Spike = Const(\"Spike\",Animal)\n",
    "\n",
    "# Solver:\n",
    "s = Solver()\n",
    "\n",
    "# constant:\n",
    "x = Const(\"x\",Person)\n",
    "y = Const(\"y\",Animal)\n",
    "\n",
    "\n",
    "# rule:\n",
    "s.add(\n",
    "    ForAll([x,y],\n",
    "           Implies(\n",
    "               And(Owns(x,y),Dog(y,y)),\n",
    "               OwnsDog(x,y)\n",
    "           ))\n",
    ")\n",
    "\n",
    "\n",
    "#info:\n",
    "s.add(Owns(Tom,Spike))\n",
    "s.add(Dog(Spike,Spike))\n",
    "\n",
    "\n",
    "#query:\n",
    "s.push()\n",
    "s.add(Not(OwnsDog(Tom,Spike)))\n",
    "\n",
    "res = s.check()\n",
    "if res == unsat:\n",
    "    print(\"✅ Tom owns a Dog (proved).\")\n",
    "else:\n",
    "    print(\"❌ Cannot prove Tom owns a Dog.\")"
   ]
  }
 ],
 "metadata": {
  "kernelspec": {
   "display_name": "venv",
   "language": "python",
   "name": "python3"
  },
  "language_info": {
   "codemirror_mode": {
    "name": "ipython",
    "version": 3
   },
   "file_extension": ".py",
   "mimetype": "text/x-python",
   "name": "python",
   "nbconvert_exporter": "python",
   "pygments_lexer": "ipython3",
   "version": "3.13.3"
  }
 },
 "nbformat": 4,
 "nbformat_minor": 5
}
